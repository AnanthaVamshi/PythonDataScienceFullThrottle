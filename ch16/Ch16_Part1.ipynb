{
 "cells": [
  {
   "cell_type": "markdown",
   "metadata": {},
   "source": [
    "&copy; 2019 by Pearson Education, Inc. All Rights Reserved. The content in this notebook is based on the book [**Python for Programmers**](https://amzn.to/2VvdnxE)."
   ]
  },
  {
   "cell_type": "markdown",
   "metadata": {},
   "source": [
    "# 16. Big Data: Hadoop, Spark, NoSQL and IoT "
   ]
  },
  {
   "cell_type": "code",
   "execution_count": 1,
   "metadata": {},
   "outputs": [],
   "source": [
    "# enable high-res images in notebook \n",
    "%config InlineBackend.figure_format = 'retina'\n",
    "%matplotlib inline"
   ]
  },
  {
   "cell_type": "markdown",
   "metadata": {},
   "source": [
    "# 16.1 Introduction\n",
    "### Big Data\n",
    "* Previous data-science case studies all focused on AI\n",
    "* Here, we focus on the **big-data infrastructure that supports AI solutions**\n",
    "* As **data grows exponentially**, we want to **learn** from that data&mdash;and at **blazing speed**\n",
    "* Done with **sophisticated algorithms**, hardware, software and networking designs\n",
    "* With **big data**, **machine learning** and **deep learning** can be even **more effective**"
   ]
  },
  {
   "cell_type": "markdown",
   "metadata": {},
   "source": [
    "<hr style=\"height:2px; border:none; color:#000; background-color:#000;\">"
   ]
  },
  {
   "cell_type": "markdown",
   "metadata": {},
   "source": [
    "# 16.3 NoSQL Big-Data Databases (1 of 2)\n",
    "* **Relational databases** store data in rectangular **tables**\n",
    "* **Not efficient** as **data volume** and the numbers of **tables** and **relationships between them** increases\n",
    "* Most data produced today is \n",
    "    * **Unstructured**&mdash;**photos**, **videos** and **natural language** (social-media posts, texts, ...), or\n",
    "    * **Semi-structured**&mdash;**JSON** and **XML** documents\n",
    "* **Metadata** adds structure to **unstructured data**, making it **semi-structured**\n",
    "    * **Tweets** (as you saw earlier)\n",
    "    * **YouTube videos**&mdash;**who posted** and **when**, **title**, **description**, ..."
   ]
  },
  {
   "cell_type": "markdown",
   "metadata": {},
   "source": [
    "<hr style=\"height:2px; border:none; color:#000; background-color:#000;\">"
   ]
  },
  {
   "cell_type": "markdown",
   "metadata": {},
   "source": [
    "# 16.3 NoSQL Big-Data Databases (2 of 2)\n",
    "* **NoSQL databases** are designed for \n",
    "    * **unstructured** and **semi-structured big-data** \n",
    "    * big data **storage and processing demands**\n",
    "* **Big data** requires **massive databases**, which can be spread across data centers worldwide in huge **clusters** of commodity computers\n",
    "* The name **NoSQL** originally meant what its name implies\n",
    "* With **growing use of SQL in big data**—such as **SQL on Hadoop** and **Spark SQL**—now it's said to stand for **“Not Only SQL”** "
   ]
  },
  {
   "cell_type": "markdown",
   "metadata": {},
   "source": [
    "<hr style=\"height:2px; border:none; color:#000; background-color:#000;\">"
   ]
  },
  {
   "cell_type": "markdown",
   "metadata": {},
   "source": [
    "### Four Major Types of **NoSQL Databases**\n",
    "* **key–value**\n",
    "* **document**\n",
    "* **columnar**\n",
    "* **graph**\n",
    "* Our NoSQL case study uses **MongoDB document database** &mdash; the most popular NoSQL database\n",
    "* **Overviews** of the **NoSQL database types** \n",
    "    * [**Python Fundamentals LiveLessons videos**](https://learning.oreilly.com/videos/python-fundamentals/9780135917411/9780135917411-PFLL_Lesson16_20) \n",
    "    * [**Python for Programmers, Section 16.3**](https://learning.oreilly.com/library/view/python-for-programmers/9780135231364/ch16.xhtml#ch16lev1sec3)"
   ]
  },
  {
   "cell_type": "markdown",
   "metadata": {},
   "source": [
    "<hr style=\"height:2px; border:none; color:#000; background-color:#000;\">"
   ]
  },
  {
   "cell_type": "markdown",
   "metadata": {},
   "source": [
    "# 16.4 Case Study: A MongoDB JSON Document Database \n",
    "* Store and search **JSON** for **streamed tweets** about **100 U.S. senators**\n",
    "* Summarize **top 10** by **tweet count**\n",
    "* Display **interactive map** containing **tweet count summaries**\n",
    "* I **pre-executed this example** because we stream 10,000 tweets, which can take substantial time \n",
    "* **Possible enhancement** &mdash; Use **sentiment analysis** to count **positive**, **negative** and **neutral tweets** mentioning each senator’s **handle**"
   ]
  },
  {
   "cell_type": "markdown",
   "metadata": {},
   "source": [
    "<hr style=\"height:2px; border:none; color:#000; background-color:#000;\">"
   ]
  },
  {
   "cell_type": "markdown",
   "metadata": {},
   "source": [
    "### Free Cloud-Based MongoDB Atlas Cluster \n",
    "* Requires **no installation** \n",
    "* Store up to **512MB of data**\n",
    "* Can store more with\n",
    "    * [**Free MongoDB Community Server**](https://www.mongodb.com/download-center/community), or \n",
    "    * **Paid MongoDB Atlas account**\n",
    "* **Creating your MongoDB Atlas cluster**\n",
    "    * I discuss the details of **signing up** for a MongoDB account, **creating the MongoDB Atlas Cluster**, **configuring** it and getting your **connection string** in my [**Python Fundamentals LiveLessons videos**](https://learning.oreilly.com/videos/python-fundamentals/9780135917411/9780135917411-PFLL_Lesson16_22https://learning.oreilly.com/videos/python-fundamentals/9780135917411) and in [**Python for Programmers, Section 16.4.1**](https://learning.oreilly.com/library/view/Python+for+Programmers,+First+Edition/9780135231364/ch16.xhtml#ch16lev2sec14)"
   ]
  },
  {
   "cell_type": "markdown",
   "metadata": {},
   "source": [
    "<hr style=\"height:2px; border:none; color:#000; background-color:#000;\">"
   ]
  },
  {
   "cell_type": "markdown",
   "metadata": {},
   "source": [
    "### Python Libraries Required for Interacting with MongoDB\n",
    "```\n",
    "conda install -c conda-forge pymongo\n",
    "conda install -c conda-forge dnspython\n",
    "```\n",
    "* **`pymongo` library** &mdash; interact with **MongoDB databases** from Python\n",
    "* **`dnspython` library** &mdash; used as part of connecting to a **MongoDB Atlas Cluster**"
   ]
  },
  {
   "cell_type": "markdown",
   "metadata": {},
   "source": [
    "<hr style=\"height:2px; border:none; color:#000; background-color:#000;\">"
   ]
  },
  {
   "cell_type": "markdown",
   "metadata": {},
   "source": [
    "### keys.py \n",
    "* **`keys.py`** must contain \n",
    "    * your **Twitter credentials** \n",
    "    * your **OpenMapQuest key** \n",
    "    * Your **MongoDB connection string** "
   ]
  },
  {
   "cell_type": "markdown",
   "metadata": {},
   "source": [
    "<hr style=\"height:2px; border:none; color:#000; background-color:#000;\">"
   ]
  },
  {
   "cell_type": "markdown",
   "metadata": {},
   "source": [
    "## 16.4.2 Streaming Tweets into MongoDB\n",
    "### Use Tweepy to Authenticate with Twitter and Get the API Object"
   ]
  },
  {
   "cell_type": "code",
   "execution_count": 2,
   "metadata": {},
   "outputs": [],
   "source": [
    "import tweepy, keys"
   ]
  },
  {
   "cell_type": "code",
   "execution_count": 3,
   "metadata": {},
   "outputs": [],
   "source": [
    "auth = tweepy.OAuthHandler(\n",
    "    keys.consumer_key, keys.consumer_secret)\n",
    "auth.set_access_token(keys.access_token, \n",
    "    keys.access_token_secret)"
   ]
  },
  {
   "cell_type": "code",
   "execution_count": 4,
   "metadata": {},
   "outputs": [],
   "source": [
    "api = tweepy.API(auth, wait_on_rate_limit=True, \n",
    "                 wait_on_rate_limit_notify=True)               "
   ]
  },
  {
   "cell_type": "markdown",
   "metadata": {},
   "source": [
    "<hr style=\"height:2px; border:none; color:#000; background-color:#000;\">"
   ]
  },
  {
   "cell_type": "markdown",
   "metadata": {},
   "source": [
    "### Loading the Senators’ Data (1 of 2)\n",
    "* **`senators.csv`** (provided in notebook's folder) contains each senator's \n",
    "    * two-letter state code\n",
    "    * name\n",
    "    * party \n",
    "    * Twitter handle\n",
    "    * Twitter ID\n",
    "* **Twitter handle and ID** used to track tweets **to**, **from** and **mentioning** each senator \n",
    "* When following users via **numeric Twitter IDs**, must submit IDs as **strings**"
   ]
  },
  {
   "cell_type": "markdown",
   "metadata": {},
   "source": [
    "<hr style=\"height:2px; border:none; color:#000; background-color:#000;\">"
   ]
  },
  {
   "cell_type": "markdown",
   "metadata": {},
   "source": [
    "### Loading the Senators’ Data (2 of 2)"
   ]
  },
  {
   "cell_type": "code",
   "execution_count": 5,
   "metadata": {},
   "outputs": [],
   "source": [
    "import pandas as pd"
   ]
  },
  {
   "cell_type": "code",
   "execution_count": 6,
   "metadata": {},
   "outputs": [],
   "source": [
    "senators_df = pd.read_csv('senators.csv')"
   ]
  },
  {
   "cell_type": "code",
   "execution_count": 7,
   "metadata": {},
   "outputs": [],
   "source": [
    "senators_df['TwitterID'] = senators_df['TwitterID'].astype(str)"
   ]
  },
  {
   "cell_type": "code",
   "execution_count": 8,
   "metadata": {},
   "outputs": [
    {
     "data": {
      "text/html": [
       "<div>\n",
       "<style scoped>\n",
       "    .dataframe tbody tr th:only-of-type {\n",
       "        vertical-align: middle;\n",
       "    }\n",
       "\n",
       "    .dataframe tbody tr th {\n",
       "        vertical-align: top;\n",
       "    }\n",
       "\n",
       "    .dataframe thead th {\n",
       "        text-align: right;\n",
       "    }\n",
       "</style>\n",
       "<table border=\"1\" class=\"dataframe\">\n",
       "  <thead>\n",
       "    <tr style=\"text-align: right;\">\n",
       "      <th></th>\n",
       "      <th>State</th>\n",
       "      <th>Name</th>\n",
       "      <th>Party</th>\n",
       "      <th>TwitterHandle</th>\n",
       "      <th>TwitterID</th>\n",
       "    </tr>\n",
       "  </thead>\n",
       "  <tbody>\n",
       "    <tr>\n",
       "      <th>0</th>\n",
       "      <td>AL</td>\n",
       "      <td>Richard Shelby</td>\n",
       "      <td>R</td>\n",
       "      <td>SenShelby</td>\n",
       "      <td>21111098</td>\n",
       "    </tr>\n",
       "    <tr>\n",
       "      <th>1</th>\n",
       "      <td>AL</td>\n",
       "      <td>Doug Jomes</td>\n",
       "      <td>D</td>\n",
       "      <td>SenDougJones</td>\n",
       "      <td>941080085121175552</td>\n",
       "    </tr>\n",
       "    <tr>\n",
       "      <th>2</th>\n",
       "      <td>AK</td>\n",
       "      <td>Lisa Murkowski</td>\n",
       "      <td>R</td>\n",
       "      <td>lisamurkowski</td>\n",
       "      <td>18061669</td>\n",
       "    </tr>\n",
       "    <tr>\n",
       "      <th>3</th>\n",
       "      <td>AK</td>\n",
       "      <td>Dan Sullivan</td>\n",
       "      <td>R</td>\n",
       "      <td>SenDanSullivan</td>\n",
       "      <td>2891210047</td>\n",
       "    </tr>\n",
       "    <tr>\n",
       "      <th>4</th>\n",
       "      <td>AZ</td>\n",
       "      <td>Martha McSally</td>\n",
       "      <td>R</td>\n",
       "      <td>SenMcSallyAZ</td>\n",
       "      <td>2964949642</td>\n",
       "    </tr>\n",
       "  </tbody>\n",
       "</table>\n",
       "</div>"
      ],
      "text/plain": [
       "  State            Name Party   TwitterHandle           TwitterID\n",
       "0    AL  Richard Shelby     R       SenShelby            21111098\n",
       "1    AL      Doug Jomes     D    SenDougJones  941080085121175552\n",
       "2    AK  Lisa Murkowski     R   lisamurkowski            18061669\n",
       "3    AK    Dan Sullivan     R  SenDanSullivan          2891210047\n",
       "4    AZ  Martha McSally     R    SenMcSallyAZ          2964949642"
      ]
     },
     "execution_count": 8,
     "metadata": {},
     "output_type": "execute_result"
    }
   ],
   "source": [
    "senators_df.head()"
   ]
  },
  {
   "cell_type": "markdown",
   "metadata": {},
   "source": [
    "<hr style=\"height:2px; border:none; color:#000; background-color:#000;\">"
   ]
  },
  {
   "cell_type": "markdown",
   "metadata": {},
   "source": [
    "### Configuring the `pymongo` `MongoClient` "
   ]
  },
  {
   "cell_type": "code",
   "execution_count": 9,
   "metadata": {},
   "outputs": [],
   "source": [
    "from pymongo import MongoClient"
   ]
  },
  {
   "cell_type": "code",
   "execution_count": 10,
   "metadata": {},
   "outputs": [],
   "source": [
    "atlas_client = MongoClient(keys.mongo_connection_string)"
   ]
  },
  {
   "cell_type": "markdown",
   "metadata": {},
   "source": [
    "<hr style=\"height:2px; border:none; color:#000; background-color:#000;\">"
   ]
  },
  {
   "cell_type": "markdown",
   "metadata": {},
   "source": [
    "### Get **`pymongo` `Database`** Object Representing the `senators` Database\n",
    "* **Creates the database** if it does not exist\n",
    "* Will be used to store the collection of **tweet JSON documents**"
   ]
  },
  {
   "cell_type": "code",
   "execution_count": 11,
   "metadata": {},
   "outputs": [],
   "source": [
    "db = atlas_client.senators "
   ]
  },
  {
   "cell_type": "markdown",
   "metadata": {},
   "source": [
    "### Setting up Tweet Stream\n",
    "* **`TweetListener`** uses the **`db` object** representing the **senators database** to store tweets \n",
    "    * Depending on the rate at which people are tweeting about the senators, it may take **minutes to hours** to get **10,000 tweets**"
   ]
  },
  {
   "cell_type": "code",
   "execution_count": 12,
   "metadata": {},
   "outputs": [],
   "source": [
    "from tweetlistener import TweetListener"
   ]
  },
  {
   "cell_type": "code",
   "execution_count": 13,
   "metadata": {},
   "outputs": [],
   "source": [
    "tweet_limit = 10000  "
   ]
  },
  {
   "cell_type": "code",
   "execution_count": 14,
   "metadata": {},
   "outputs": [],
   "source": [
    "twitter_stream = tweepy.Stream(api.auth, \n",
    "    TweetListener(api, db, tweet_limit)) "
   ]
  },
  {
   "cell_type": "markdown",
   "metadata": {},
   "source": [
    "<hr style=\"height:2px; border:none; color:#000; background-color:#000;\">"
   ]
  },
  {
   "cell_type": "markdown",
   "metadata": {},
   "source": [
    "### Starting the Live Tweet Stream\n",
    "* Currently, can **track** up to **400 keywords** and **follow** up to **5,000 Twitter IDs** at a time\n",
    "    * **`track`** senators’ Twitter handles as keywords\n",
    "    * **`follow`** their **IDs**  \n",
    "* Together, this will get tweets **from**, **to** and **about** each senator"
   ]
  },
  {
   "cell_type": "code",
   "execution_count": 15,
   "metadata": {},
   "outputs": [
    {
     "name": "stdout",
     "output_type": "stream",
     "text": [
      "    Screen name: SB\n",
      "     Created at: Sun Mar 15 18:23:32 +0000 2020\n",
      "Tweets received: 10000\n"
     ]
    }
   ],
   "source": [
    "twitter_stream.filter(track=senators_df.TwitterHandle.tolist(),\n",
    "    follow=senators_df.TwitterID.tolist())"
   ]
  },
  {
   "cell_type": "markdown",
   "metadata": {},
   "source": [
    "<hr style=\"height:2px; border:none; color:#000; background-color:#000;\">"
   ]
  },
  {
   "cell_type": "markdown",
   "metadata": {},
   "source": [
    "### Class `TweetListener` "
   ]
  },
  {
   "cell_type": "markdown",
   "metadata": {},
   "source": [
    "```python\n",
    "# tweetlistener.py\n",
    "\"\"\"TweetListener downloads tweets and stores them in MongoDB.\"\"\"\n",
    "import json\n",
    "import tweepy\n",
    "from IPython.display import clear_output\n",
    "\n",
    "class TweetListener(tweepy.StreamListener):\n",
    "    \"\"\"Handles incoming Tweet stream.\"\"\"\n",
    "\n",
    "```"
   ]
  },
  {
   "cell_type": "markdown",
   "metadata": {},
   "source": [
    "```python\n",
    "    def __init__(self, api, database, limit=10000):\n",
    "        \"\"\"Create instance variables for tracking number of tweets.\"\"\"\n",
    "        self.db = database\n",
    "        self.tweet_count = 0\n",
    "        self.TWEET_LIMIT = limit  # 10,000 by default\n",
    "        super().__init__(api)  # call superclass's init\n",
    "\n",
    "    def on_connect(self):\n",
    "        \"\"\"Called when your connection attempt is successful, enabling \n",
    "        you to perform appropriate application tasks at that point.\"\"\"\n",
    "        print('Successfully connected to Twitter\\n')\n",
    "\n",
    "```"
   ]
  },
  {
   "cell_type": "markdown",
   "metadata": {},
   "source": [
    "```python\n",
    "    def on_data(self, data):\n",
    "        \"\"\"Called when Twitter pushes a new tweet to you.\"\"\"\n",
    "        self.tweet_count += 1  # track number of tweets processed\n",
    "        json_data = json.loads(data)  # convert string to JSON\n",
    "        self.db.tweets.insert_one(json_data)  # store in tweets collection\n",
    "        clear_output()  # ADDED: show one tweet at a time in Jupyter Notebook\n",
    "        print(f'    Screen name: {json_data[\"user\"][\"name\"]}') \n",
    "        print(f'     Created at: {json_data[\"created_at\"]}')         \n",
    "        print(f'Tweets received: {self.tweet_count}')         \n",
    "\n",
    "        # if TWEET_LIMIT is reached, return False to terminate streaming\n",
    "        return self.tweet_count < self.TWEET_LIMIT\n",
    "    \n",
    "    def on_error(self, status):\n",
    "        print(status)\n",
    "        return True\n",
    "```"
   ]
  },
  {
   "cell_type": "markdown",
   "metadata": {},
   "source": [
    "<hr style=\"height:2px; border:none; color:#000; background-color:#000;\">"
   ]
  },
  {
   "cell_type": "markdown",
   "metadata": {},
   "source": [
    "### Counting Tweets for Each Senator (1 of 2)\n",
    "* MongoDB **text search** requires a **text index** specifying **document field(s) to search** \n",
    "\t* MongoDB [index types](https://docs.mongodb.com/manual/indexes), [text indexes](https://docs.mongodb.com/manual/core/index-text) and [operators](https://docs.mongodb.com/manual/reference/operator)\n",
    "* A **text index** is defined as a **tuple** containing **field name** to search and **index type** (`'text'`)\n",
    "* **Wildcard field name (\\$\\*\\*)** indexes **all** text fields for a **full-text search**"
   ]
  },
  {
   "cell_type": "code",
   "execution_count": 16,
   "metadata": {},
   "outputs": [
    {
     "data": {
      "text/plain": [
       "'$**_text'"
      ]
     },
     "execution_count": 16,
     "metadata": {},
     "output_type": "execute_result"
    }
   ],
   "source": [
    "db.tweets.create_index([('$**', 'text')])"
   ]
  },
  {
   "cell_type": "markdown",
   "metadata": {},
   "source": [
    "<hr style=\"height:2px; border:none; color:#000; background-color:#000;\">"
   ]
  },
  {
   "cell_type": "markdown",
   "metadata": {},
   "source": [
    "### Counting Tweets for Each Senator (2 of 2)\n",
    "* Use **`tweets` `Collection`’s `count_documents` method** and **full-text search** to count the total number of documents in the collection that contain the specified text\n",
    "    * Find every **twitter handle** in `senators_df.TwitterHandle` column\n",
    "    * `{\"$text\": {\"$search\": senator}}` indicates that we’re **using the `text` index** to **`search`** for the value of **`senator`**"
   ]
  },
  {
   "cell_type": "code",
   "execution_count": 17,
   "metadata": {},
   "outputs": [],
   "source": [
    "tweet_counts = []"
   ]
  },
  {
   "cell_type": "code",
   "execution_count": 18,
   "metadata": {},
   "outputs": [],
   "source": [
    "for senator in senators_df.TwitterHandle:\n",
    "    tweet_counts.append(db.tweets.count_documents(\n",
    "        {\"$text\": {\"$search\": senator}}))"
   ]
  },
  {
   "cell_type": "markdown",
   "metadata": {},
   "source": [
    "<hr style=\"height:2px; border:none; color:#000; background-color:#000;\">"
   ]
  },
  {
   "cell_type": "markdown",
   "metadata": {},
   "source": [
    "### Show Tweet Counts for Each Senator \n",
    "* Create copy of **`DataFrame` `senators_df`** adding a new column of **`tweet_counts`** \n",
    "* Display the **top-10 senators by tweet count**"
   ]
  },
  {
   "cell_type": "code",
   "execution_count": 19,
   "metadata": {},
   "outputs": [],
   "source": [
    "tweet_counts_df = senators_df.assign(Tweets=tweet_counts)  "
   ]
  },
  {
   "cell_type": "code",
   "execution_count": 20,
   "metadata": {},
   "outputs": [
    {
     "data": {
      "text/html": [
       "<div>\n",
       "<style scoped>\n",
       "    .dataframe tbody tr th:only-of-type {\n",
       "        vertical-align: middle;\n",
       "    }\n",
       "\n",
       "    .dataframe tbody tr th {\n",
       "        vertical-align: top;\n",
       "    }\n",
       "\n",
       "    .dataframe thead th {\n",
       "        text-align: right;\n",
       "    }\n",
       "</style>\n",
       "<table border=\"1\" class=\"dataframe\">\n",
       "  <thead>\n",
       "    <tr style=\"text-align: right;\">\n",
       "      <th></th>\n",
       "      <th>State</th>\n",
       "      <th>Name</th>\n",
       "      <th>Party</th>\n",
       "      <th>TwitterHandle</th>\n",
       "      <th>TwitterID</th>\n",
       "      <th>Tweets</th>\n",
       "    </tr>\n",
       "  </thead>\n",
       "  <tbody>\n",
       "    <tr>\n",
       "      <th>17</th>\n",
       "      <td>FL</td>\n",
       "      <td>Marco Rubio</td>\n",
       "      <td>R</td>\n",
       "      <td>marcorubio</td>\n",
       "      <td>15745368</td>\n",
       "      <td>3807</td>\n",
       "    </tr>\n",
       "    <tr>\n",
       "      <th>62</th>\n",
       "      <td>NY</td>\n",
       "      <td>Chuck Schumer</td>\n",
       "      <td>D</td>\n",
       "      <td>SenSchumer</td>\n",
       "      <td>17494010</td>\n",
       "      <td>3098</td>\n",
       "    </tr>\n",
       "    <tr>\n",
       "      <th>78</th>\n",
       "      <td>SC</td>\n",
       "      <td>Lindsey Graham</td>\n",
       "      <td>R</td>\n",
       "      <td>LindseyGrahamSC</td>\n",
       "      <td>432895323</td>\n",
       "      <td>2461</td>\n",
       "    </tr>\n",
       "    <tr>\n",
       "      <th>20</th>\n",
       "      <td>HI</td>\n",
       "      <td>Brian Schatz</td>\n",
       "      <td>D</td>\n",
       "      <td>brianschatz</td>\n",
       "      <td>47747074</td>\n",
       "      <td>2419</td>\n",
       "    </tr>\n",
       "    <tr>\n",
       "      <th>44</th>\n",
       "      <td>MN</td>\n",
       "      <td>Amy Klobuchar</td>\n",
       "      <td>D</td>\n",
       "      <td>amyklobuchar</td>\n",
       "      <td>33537967</td>\n",
       "      <td>2387</td>\n",
       "    </tr>\n",
       "    <tr>\n",
       "      <th>32</th>\n",
       "      <td>KY</td>\n",
       "      <td>Mitch McConnell</td>\n",
       "      <td>R</td>\n",
       "      <td>SenateMajLdr</td>\n",
       "      <td>1249982359</td>\n",
       "      <td>2375</td>\n",
       "    </tr>\n",
       "    <tr>\n",
       "      <th>84</th>\n",
       "      <td>TX</td>\n",
       "      <td>John Cornyn</td>\n",
       "      <td>R</td>\n",
       "      <td>JohnCornyn</td>\n",
       "      <td>13218102</td>\n",
       "      <td>1807</td>\n",
       "    </tr>\n",
       "    <tr>\n",
       "      <th>9</th>\n",
       "      <td>CA</td>\n",
       "      <td>Kamala Harris</td>\n",
       "      <td>D</td>\n",
       "      <td>SenKamalaHarris</td>\n",
       "      <td>803694179079458816</td>\n",
       "      <td>1527</td>\n",
       "    </tr>\n",
       "    <tr>\n",
       "      <th>0</th>\n",
       "      <td>AL</td>\n",
       "      <td>Richard Shelby</td>\n",
       "      <td>R</td>\n",
       "      <td>SenShelby</td>\n",
       "      <td>21111098</td>\n",
       "      <td>1291</td>\n",
       "    </tr>\n",
       "    <tr>\n",
       "      <th>12</th>\n",
       "      <td>CT</td>\n",
       "      <td>Christopher Murphy</td>\n",
       "      <td>D</td>\n",
       "      <td>ChrisMurphyCT</td>\n",
       "      <td>150078976</td>\n",
       "      <td>815</td>\n",
       "    </tr>\n",
       "  </tbody>\n",
       "</table>\n",
       "</div>"
      ],
      "text/plain": [
       "   State                Name Party    TwitterHandle           TwitterID  \\\n",
       "17    FL         Marco Rubio     R       marcorubio            15745368   \n",
       "62    NY       Chuck Schumer     D       SenSchumer            17494010   \n",
       "78    SC      Lindsey Graham     R  LindseyGrahamSC           432895323   \n",
       "20    HI        Brian Schatz     D      brianschatz            47747074   \n",
       "44    MN       Amy Klobuchar     D     amyklobuchar            33537967   \n",
       "32    KY     Mitch McConnell     R     SenateMajLdr          1249982359   \n",
       "84    TX         John Cornyn     R       JohnCornyn            13218102   \n",
       "9     CA       Kamala Harris     D  SenKamalaHarris  803694179079458816   \n",
       "0     AL      Richard Shelby     R        SenShelby            21111098   \n",
       "12    CT  Christopher Murphy     D    ChrisMurphyCT           150078976   \n",
       "\n",
       "    Tweets  \n",
       "17    3807  \n",
       "62    3098  \n",
       "78    2461  \n",
       "20    2419  \n",
       "44    2387  \n",
       "32    2375  \n",
       "84    1807  \n",
       "9     1527  \n",
       "0     1291  \n",
       "12     815  "
      ]
     },
     "execution_count": 20,
     "metadata": {},
     "output_type": "execute_result"
    }
   ],
   "source": [
    "tweet_counts_df.sort_values(by='Tweets', ascending=False).head(10)"
   ]
  },
  {
   "cell_type": "markdown",
   "metadata": {},
   "source": [
    "<hr style=\"height:2px; border:none; color:#000; background-color:#000;\">"
   ]
  },
  {
   "cell_type": "markdown",
   "metadata": {},
   "source": [
    "### Get the State Locations for Plotting Markers (1 of 3)\n",
    "* Get each **state’s latitude and longitude** coordinates for **plotting on a map**\n",
    "* **`state_codes.py`** contains a dictionary that maps **two-letter state codes** to **full state names**\n",
    "    * Used with **`geopy`** to look up the location of each state"
   ]
  },
  {
   "cell_type": "code",
   "execution_count": 21,
   "metadata": {},
   "outputs": [],
   "source": [
    "from geopy import OpenMapQuest"
   ]
  },
  {
   "cell_type": "code",
   "execution_count": 22,
   "metadata": {},
   "outputs": [],
   "source": [
    "import time"
   ]
  },
  {
   "cell_type": "code",
   "execution_count": 23,
   "metadata": {},
   "outputs": [],
   "source": [
    "from state_codes import state_codes"
   ]
  },
  {
   "cell_type": "markdown",
   "metadata": {},
   "source": [
    "* Get the **`geocoder` object** to **translate location names** into **`Location` objects**"
   ]
  },
  {
   "cell_type": "code",
   "execution_count": 24,
   "metadata": {},
   "outputs": [],
   "source": [
    "geo = OpenMapQuest(api_key=keys.mapquest_key) "
   ]
  },
  {
   "cell_type": "markdown",
   "metadata": {},
   "source": [
    "<hr style=\"height:2px; border:none; color:#000; background-\n",
    "color:#000;\">"
   ]
  },
  {
   "cell_type": "markdown",
   "metadata": {},
   "source": [
    "### Get the State Locations for Plotting Markers (2 of 3)\n",
    "* Get and sort the unique state names"
   ]
  },
  {
   "cell_type": "code",
   "execution_count": 25,
   "metadata": {},
   "outputs": [],
   "source": [
    "states = tweet_counts_df.State.unique()  # get unique state names"
   ]
  },
  {
   "cell_type": "code",
   "execution_count": 26,
   "metadata": {},
   "outputs": [],
   "source": [
    "states.sort() "
   ]
  },
  {
   "cell_type": "markdown",
   "metadata": {},
   "source": [
    "<hr style=\"height:2px; border:none; color:#000; background-color:#000;\">"
   ]
  },
  {
   "cell_type": "markdown",
   "metadata": {},
   "source": [
    "### Get the State Locations for Plotting Markers (3 of 3)\n",
    "* Look up **each state’s location**\n",
    "* Call `geocode` with state name followed by `', USA'` \n",
    "    * Ensures that we get United States locations"
   ]
  },
  {
   "cell_type": "code",
   "execution_count": 27,
   "metadata": {},
   "outputs": [],
   "source": [
    "locations = []"
   ]
  },
  {
   "cell_type": "code",
   "execution_count": 28,
   "metadata": {},
   "outputs": [
    {
     "name": "stdout",
     "output_type": "stream",
     "text": [
      "Wyoming, United States of America\n"
     ]
    }
   ],
   "source": [
    "from IPython.display import clear_output\n",
    "\n",
    "for state in states:\n",
    "    processed = False\n",
    "    delay = .1 \n",
    "    while not processed:\n",
    "        try: \n",
    "            locations.append(geo.geocode(state_codes[state] + ', USA'))\n",
    "            clear_output()  # clear cell's current output before showing next one\n",
    "            print(locations[-1])  \n",
    "            processed = True\n",
    "        except:  # timed out, so wait before trying again\n",
    "            print('OpenMapQuest service timed out. Waiting.')\n",
    "            time.sleep(delay)\n",
    "            delay += .1"
   ]
  },
  {
   "cell_type": "markdown",
   "metadata": {},
   "source": [
    "<hr style=\"height:2px; border:none; color:#000; background-color:#000;\">"
   ]
  },
  {
   "cell_type": "markdown",
   "metadata": {},
   "source": [
    "### Grouping the Tweet Counts by State \n",
    "* **Tweet total** for a states' two senators is used to **color the map**\n",
    "    * **Darker colors** represent **higher tweet counts**\n",
    "* **`DataFrame` method `groupby`** to group the senators by state \n",
    "    * **`as_index=False`**&mdash;state codes should be a column in returned **`GroupBy`** object, rather than indices for the object's rows\n",
    "* **`GroupBy`** object's **`sum`** method totals the numeric data by state"
   ]
  },
  {
   "cell_type": "code",
   "execution_count": 29,
   "metadata": {},
   "outputs": [],
   "source": [
    "tweets_counts_by_state = tweet_counts_df.groupby(\n",
    "    'State', as_index=False).sum()"
   ]
  },
  {
   "cell_type": "code",
   "execution_count": 30,
   "metadata": {},
   "outputs": [
    {
     "data": {
      "text/html": [
       "<div>\n",
       "<style scoped>\n",
       "    .dataframe tbody tr th:only-of-type {\n",
       "        vertical-align: middle;\n",
       "    }\n",
       "\n",
       "    .dataframe tbody tr th {\n",
       "        vertical-align: top;\n",
       "    }\n",
       "\n",
       "    .dataframe thead th {\n",
       "        text-align: right;\n",
       "    }\n",
       "</style>\n",
       "<table border=\"1\" class=\"dataframe\">\n",
       "  <thead>\n",
       "    <tr style=\"text-align: right;\">\n",
       "      <th></th>\n",
       "      <th>State</th>\n",
       "      <th>Tweets</th>\n",
       "    </tr>\n",
       "  </thead>\n",
       "  <tbody>\n",
       "    <tr>\n",
       "      <th>0</th>\n",
       "      <td>AK</td>\n",
       "      <td>287</td>\n",
       "    </tr>\n",
       "    <tr>\n",
       "      <th>1</th>\n",
       "      <td>AL</td>\n",
       "      <td>1426</td>\n",
       "    </tr>\n",
       "    <tr>\n",
       "      <th>2</th>\n",
       "      <td>AR</td>\n",
       "      <td>367</td>\n",
       "    </tr>\n",
       "    <tr>\n",
       "      <th>3</th>\n",
       "      <td>AZ</td>\n",
       "      <td>365</td>\n",
       "    </tr>\n",
       "    <tr>\n",
       "      <th>4</th>\n",
       "      <td>CA</td>\n",
       "      <td>1819</td>\n",
       "    </tr>\n",
       "  </tbody>\n",
       "</table>\n",
       "</div>"
      ],
      "text/plain": [
       "  State  Tweets\n",
       "0    AK     287\n",
       "1    AL    1426\n",
       "2    AR     367\n",
       "3    AZ     365\n",
       "4    CA    1819"
      ]
     },
     "execution_count": 30,
     "metadata": {},
     "output_type": "execute_result"
    }
   ],
   "source": [
    "tweets_counts_by_state.head()"
   ]
  },
  {
   "cell_type": "markdown",
   "metadata": {},
   "source": [
    "<hr style=\"height:2px; border:none; color:#000; background-color:#000;\">"
   ]
  },
  {
   "cell_type": "markdown",
   "metadata": {},
   "source": [
    "### Creating the Map "
   ]
  },
  {
   "cell_type": "code",
   "execution_count": 31,
   "metadata": {},
   "outputs": [],
   "source": [
    "import folium"
   ]
  },
  {
   "cell_type": "code",
   "execution_count": 32,
   "metadata": {},
   "outputs": [],
   "source": [
    "usmap = folium.Map(location=[39.8283, -98.5795], \n",
    "                   zoom_start=4, detect_retina=True,\n",
    "                   tiles='Stamen Toner')"
   ]
  },
  {
   "cell_type": "markdown",
   "metadata": {},
   "source": [
    "<hr style=\"height:2px; border:none; color:#000; background-color:#000;\">"
   ]
  },
  {
   "cell_type": "markdown",
   "metadata": {},
   "source": [
    "### Creating a Choropleth to Color the Map\n",
    "* A **choropleth** shades areas in a map using magnitudes of numerical values to determine color\n",
    "* For a **detailed description of the arguments** below, see \n",
    "    * [**Python Fundamentals LiveLessons videos**](https://learning.oreilly.com/videos/python-fundamentals/9780135917411/9780135917411-PFLL_Lesson16_23) \n",
    "    * [**Python for Programmers, Section 16.4.2** (under the heading \"Creating a Choropleth to Color the Map\"](https://learning.oreilly.com/library/view/python-for-programmers/9780135231364/ch16.xhtml#ch16lev2sec15)"
   ]
  },
  {
   "cell_type": "code",
   "execution_count": 33,
   "metadata": {},
   "outputs": [],
   "source": [
    "choropleth = folium.Choropleth(\n",
    "    geo_data='us-states.json',\n",
    "    name='choropleth',\n",
    "    data=tweets_counts_by_state,\n",
    "    columns=['State', 'Tweets'],\n",
    "    key_on='feature.id',\n",
    "    fill_color='YlOrRd',\n",
    "    fill_opacity=0.7,\n",
    "    line_opacity=0.2,\n",
    "    legend_name='Tweets by State'\n",
    ").add_to(usmap)\n",
    "\n",
    "layer = folium.LayerControl().add_to(usmap)"
   ]
  },
  {
   "cell_type": "markdown",
   "metadata": {},
   "source": [
    "<hr style=\"height:2px; border:none; color:#000; background-color:#000;\">"
   ]
  },
  {
   "cell_type": "markdown",
   "metadata": {},
   "source": [
    "### Creating the Map Markers for Each State (1 of 1)\n",
    "* Sort senators in **descending order** by **tweet count**\n",
    "* **`groupby`** maintains **original row order** in each group\n",
    "* **`index`** &mdash; used to look up each state’s location in **`locations` list**\n",
    "* **name** &mdash; two-letter **state code**\n",
    "* **`group`** &mdash; collection of a **state's two senators**"
   ]
  },
  {
   "cell_type": "code",
   "execution_count": 34,
   "metadata": {},
   "outputs": [],
   "source": [
    "sorted_df = tweet_counts_df.sort_values(by='Tweets', ascending=False)\n",
    "\n",
    "for index, (name, group) in enumerate(sorted_df.groupby('State')):\n",
    "    strings = [state_codes[name]]  # used to assemble popup text\n",
    "\n",
    "    for s in group.itertuples():\n",
    "        strings.append(f'{s.Name} ({s.Party}); Tweets: {s.Tweets}')\n",
    "        \n",
    "    text = '<br>'.join(strings)  \n",
    "    popup = folium.Popup(text, max_width=200)\n",
    "    marker = folium.Marker(\n",
    "        (locations[index].latitude, locations[index].longitude), \n",
    "        popup=popup)\n",
    "    marker.add_to(usmap) "
   ]
  },
  {
   "cell_type": "markdown",
   "metadata": {},
   "source": [
    "<hr style=\"height:2px; border:none; color:#000; background-color:#000;\">"
   ]
  },
  {
   "cell_type": "markdown",
   "metadata": {},
   "source": [
    "### Saving and Displaying the Map "
   ]
  },
  {
   "cell_type": "code",
   "execution_count": 35,
   "metadata": {},
   "outputs": [],
   "source": [
    "usmap.save('SenatorsTweets.html')"
   ]
  },
  {
   "cell_type": "code",
   "execution_count": 36,
   "metadata": {},
   "outputs": [
    {
     "data": {
      "text/html": [
       "<div style=\"width:100%;\"><div style=\"position:relative;width:100%;height:0;padding-bottom:60%;\"><iframe src=\"data:text/html;charset=utf-8;base64,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\" style=\"position:absolute;width:100%;height:100%;left:0;top:0;border:none !important;\" allowfullscreen webkitallowfullscreen mozallowfullscreen></iframe></div></div>"
      ],
      "text/plain": [
       "<folium.folium.Map at 0x7ffe49db6780>"
      ]
     },
     "execution_count": 36,
     "metadata": {},
     "output_type": "execute_result"
    }
   ],
   "source": [
    "usmap \n",
    "#from IPython.display import IFrame\n",
    "#IFrame(src=\"./SenatorsTweets.html\", width=800, height=450)"
   ]
  },
  {
   "cell_type": "markdown",
   "metadata": {},
   "source": [
    "<hr style=\"height:2px; border:none; color:#000; background-color:#000;\">"
   ]
  },
  {
   "cell_type": "markdown",
   "metadata": {},
   "source": [
    "# 16.5 Hadoop\n",
    "\\[We'll cover this example if we have time. The complete presentation can be viewed in my **[Python Fundamentals](https://learning.oreilly.com/videos/python-fundamentals/9780135917411/9780135917411-PFLL_Lesson16_24) (10 videos)**\\]\n",
    "&nbsp;  \n",
    "&nbsp;  \n",
    "\n",
    "* **Apache Hadoop** and **Apache Spark** deal with **big-data storage and processing challenges** via \n",
    "    * huge **clusters** of computers \n",
    "    * **distributed data storage** \n",
    "    * **massively parallel processing**\n",
    "    * Hadoop **MapReduce** programming\n",
    "    * Spark **in-memory processing** techniques\n",
    "* **Hadoop** also serves as the **foundation** for many recent advancements in **big-data processing** and an entire **ecosystem of software tools**\n",
    "\n",
    "<!--\n",
    "\n",
    "* For a list of **Hadoop ecosystem components**, see my [**Python Fundamentals LiveLessons videos**](https://learning.oreilly.com/videos/python-fundamentals/9780135917411/) (big data lesson coming soon) or [**Python for Programmers, Section 16.5.1**](https://learning.oreilly.com/library/view/python-for-programmers/9780135231364/ch16.xhtml#ch16lev2sec16)\n",
    "\n",
    "-->"
   ]
  },
  {
   "cell_type": "markdown",
   "metadata": {},
   "source": [
    "<hr style=\"height:2px; border:none; color:#000; background-color:#000;\">"
   ]
  },
  {
   "cell_type": "markdown",
   "metadata": {},
   "source": [
    "## 16.5.1 Hadoop Overview (1 of 2)\n",
    "* Early on, Google knew they needed to **return search results quickly**\n",
    "* The only practical way &mdash; **store and index the entire web** \n",
    "* Late 90s computers couldn’t store and analyze such a **large volume of data economically and fast enough**\n",
    "* Google developed a **clustering** system with vast numbers of computers (**nodes**)\n",
    "    * **greater chance of hardware failures** so they built in high levels of **redundancy** \n",
    "    * Data distributed across all these **commodity computers**\n",
    "* For a **search request**, all computers searched their portion of the web **in parallel**\n",
    "    * Then results were **gathered and returned**"
   ]
  },
  {
   "cell_type": "markdown",
   "metadata": {},
   "source": [
    "<hr style=\"height:2px; border:none; color:#000; background-color:#000;\">"
   ]
  },
  {
   "cell_type": "markdown",
   "metadata": {},
   "source": [
    "## 16.5.1 Hadoop Overview (2 of 2)\n",
    "* Google developed **clustering hardware and software** and **distributed storage**\n",
    "* **Published its designs**\n",
    "* Programmers at Yahoo!, working from Google’s [**“Google File System” paper**](http://static.googleusercontent.com/media/research.google.com/en//archive/gfs-sosp2003.pdf), built their own system\n",
    "* They **open-sourced** their work and **Apache.org** implemented **Hadoop**\n",
    "* Named for an **elephant** stuffed animal that belonged to a child of one of Hadoop’s creators\n",
    "    * Inspiration for our textbook cover\n",
    "* Two **additional Google papers** contributed to evolution of Hadoop\n",
    "\t* [**“MapReduce: Simplified Data Processing on Large Clusters”**](http://static.googleusercontent.com/media/research.google.com/en//archive/mapreduce-osdi04.pdf) \n",
    "\t* [**“Bigtable: A Distributed Storage System for Structured Data”**](http://static.googleusercontent.com/media/research.google.com/en//archive/bigtable-osdi06.pdf) \n",
    "\t\t* Basis for Apache HBase (a NoSQL key–value and column-based database)."
   ]
  },
  {
   "cell_type": "markdown",
   "metadata": {},
   "source": [
    "<hr style=\"height:2px; border:none; color:#000; background-color:#000;\">"
   ]
  },
  {
   "cell_type": "markdown",
   "metadata": {},
   "source": [
    "### HDFS, `MapReduce` and YARN (1 of 2)\n",
    "* Hadoop’s key components are: \n",
    "\t* **HDFS** (Hadoop Distributed File System) for **storing massive amounts of data** throughout a **cluster** \n",
    "\t* **MapReduce** for implementing the **tasks that process the data**\n",
    "        * Like **filter/map/reduce** in functional-style programming, but **massively parallel**\n",
    "* **MapReduce** performs two steps—**mapping** and **reduction**\n",
    "    * **Mapping** (and **filtering**) &mdash; processes original data across **entire cluster** and **maps** it into tuples of **key–value pairs**\n",
    "    * **Reduction** &mdash; **combines** those tuples to **produce the results**"
   ]
  },
  {
   "cell_type": "markdown",
   "metadata": {},
   "source": [
    "<hr style=\"height:2px; border:none; color:#000; background-color:#000;\">"
   ]
  },
  {
   "cell_type": "markdown",
   "metadata": {},
   "source": [
    "### HDFS, `MapReduce` and YARN (2 of 2)\n",
    "* Hadoop divides data into **batches** and **distributes** across **cluster's nodes**\n",
    "* Also **distributes MapReduce code** to **execute in parallel on every node**\n",
    "    * Each **node** processes the **batch of data** stored **on that node**\n",
    "* **Reduction combines results** from **all nodes** to produce **final result**\n",
    "* **YARN** (“yet another resource negotiator”) **manages all resources** in the **cluster** and **schedules tasks** for execution"
   ]
  },
  {
   "cell_type": "markdown",
   "metadata": {},
   "source": [
    "<hr style=\"height:2px; border:none; color:#000; background-color:#000;\">"
   ]
  },
  {
   "cell_type": "markdown",
   "metadata": {},
   "source": [
    "### Hadoop Ecosystem \n",
    "* **Hadoop began** with **HDFS** and **MapReduce**, followed closely by **YARN**\n",
    "* Now it's a **large ecosystem**, including **Hadoop 3** (3.2 released in January), **Spark** and many other Apache projects[\\[1\\]](https://hortonworks.com/ecosystems/),[\\[2\\]](https://readwrite.com/2018/06/26/complete-guide-of-hadoop-ecosystem-components/),[\\[3\\]](https://www.janbasktraining.com/blog/introduction-architecture-components-hadoop-ecosystem/)\n",
    "* [See our table of Hadoop Ecosystem Components](https://learning.oreilly.com/library/view/Python+for+Programmers,+First+Edition/9780135231364/ch16.xhtml#ch16lev2sec16)"
   ]
  },
  {
   "cell_type": "markdown",
   "metadata": {},
   "source": [
    "<hr style=\"height:2px; border:none; color:#000; background-color:#000;\">"
   ]
  },
  {
   "cell_type": "markdown",
   "metadata": {},
   "source": [
    "## 16.5.2 Summarizing Word Lengths in _Romeo and Juliet_ via MapReduce\n",
    "* To execute this example\n",
    "    * We created a **cloud-based, multi-node cluster of computers** using **Microsoft Azure HDInsight**, which provides **Hadoop as a service**\n",
    "    * Ran our **Hadoop MapReduce** code on that **cluster**\n",
    "* **MapReduce task** \n",
    "    * Determines the **length of each word in `RomeoAndJuliet.txt`** (from the NLP presentation)\n",
    "    * Summarizes **number of words of each length** "
   ]
  },
  {
   "cell_type": "markdown",
   "metadata": {},
   "source": [
    "<hr style=\"height:2px; border:none; color:#000; background-color:#000;\">"
   ]
  },
  {
   "cell_type": "markdown",
   "metadata": {},
   "source": [
    "## 16.5.3 Creating an Apache Hadoop Cluster in Microsoft Azure HDInsight (1 of 2)\n",
    "* **Multi-node cloud-based clusters** typically are **paid** services\n",
    "* We used [**Microsoft Azure’s HDInsight service**](https://azure.microsoft.com/en-us/free) (for Hadoop and Spark) and **new account credit** to create **cloud-based clusters of computers** in which to test our examples\n",
    "    * The **new account credit** was more than enough to test our Hadoop and Spark examples\n",
    "* HDInsight service **requires a credit card** for **identity verification**\n",
    "    * When your **new account credit runs out** or **30 days pass**, cannot use paid services unless you authorize Microsoft to **charge your card**\n",
    "        * **Prevents accidental large bills** for people who are just experimenting"
   ]
  },
  {
   "cell_type": "markdown",
   "metadata": {},
   "source": [
    "<hr style=\"height:2px; border:none; color:#000; background-color:#000;\">"
   ]
  },
  {
   "cell_type": "markdown",
   "metadata": {},
   "source": [
    "## 16.5.3 Creating an Apache Hadoop Cluster in Microsoft Azure HDInsight (2 of 2)\n",
    "* Details on configuring a **low-cost cluster** to try **Hadoop** \n",
    "    * [**Python Fundamentals LiveLessons videos**](https://learning.oreilly.com/videos/python-fundamentals/9780135917411/9780135917411-PFLL_Lesson16_27_pt1) (two videos starting with this one) \n",
    "    * [**Python for Programmers, Section 16.5.3**](https://learning.oreilly.com/library/view/Python+for+Programmers,+First+Edition/9780135231364/ch16.xhtml#ch16lev2sec18) \n",
    "    * Also [see Microsoft’s **recommended cluster configurations**](https://docs.microsoft.com/en-us/azure/hdinsight/hdinsight-component-versioning#default-node-configuration-and-virtual-machine-sizes-for-clusters)\n",
    "* **Caution: Once you allocate a cluster, it incurs costs whether you’re using it or not. So, when you complete this case study, be sure to delete your cluster(s) and other resources, so you don’t incur additional charges.** "
   ]
  },
  {
   "cell_type": "markdown",
   "metadata": {},
   "source": [
    "<hr style=\"height:2px; border:none; color:#000; background-color:#000;\">"
   ]
  },
  {
   "cell_type": "markdown",
   "metadata": {},
   "source": [
    "## 16.5.4 Hadoop Streaming\n",
    "* Hadoop is **Java-based**\n",
    "* Languages like **Python** that are **not natively supported** must use **Hadoop streaming** \n",
    "* **Python MapReduce scripts** communicate with Hadoop via **redirected standard I/O streams**\n",
    "\t* Hadoop redirects **input** to **mapper** script, which reads input from **standard input stream**\n",
    "\t* **Mapper** writes results to **standard output stream**\n",
    "\t* Hadoop redirects **mapper’s output** as **input** to **reducer** script, which reads from the **standard input stream**\n",
    "\t* **Reducer** writes results to **standard output stream** \n",
    "\t* Hadoop writes **reducer’s output** to **HDFS**   "
   ]
  },
  {
   "cell_type": "markdown",
   "metadata": {},
   "source": [
    "<hr style=\"height:2px; border:none; color:#000; background-color:#000;\">"
   ]
  },
  {
   "cell_type": "markdown",
   "metadata": {},
   "source": [
    "## 16.5.5 Implementing the Mapper (1 of 2)\n",
    "* **Mapper** takes **lines of text** as input and **maps** them to **key–value pairs**, each containing a **word length** and **`1`**\n",
    "* **Reducer** will total these **key–value pairs** by key\n",
    "* **Hadoop streaming** expects **mapper’s output** and **reducer’s input/output** to have the form \n",
    "> **_key_`\\t`_value_**\n",
    "* In **`length_mapper.py`**, `#!` tells Hadoop to use Python 3\n",
    "    * Must be first line in the file\n",
    "    * **HDInsight** currently includes **Python 2.7.12** and **Python 3.5.2** \n",
    "    * **Cannot use f-strings** which are **Python 3.6+**"
   ]
  },
  {
   "cell_type": "markdown",
   "metadata": {},
   "source": [
    "<hr style=\"height:2px; border:none; color:#000; background-color:#000;\">"
   ]
  },
  {
   "cell_type": "markdown",
   "metadata": {},
   "source": [
    "## 16.5.5 Implementing the Mapper (2 of 2)\n",
    "\n",
    "```python\n",
    "#!/usr/bin/env python3\n",
    "# length_mapper.py\n",
    "\"\"\"Maps lines of text to key-value pairs of word lengths and 1.\"\"\"\n",
    "import sys\n",
    "\n",
    "def tokenize_input():  # generator function\n",
    "    \"\"\"Split each line of standard input into a list of strings.\"\"\"\n",
    "    for line in sys.stdin:\n",
    "        yield line.split()  \n",
    "\n",
    "# read each line in the the standard input and for every word \n",
    "# produce a key-value pair containing the word, a tab and 1\n",
    "for line in tokenize_input():\n",
    "    for word in line:\n",
    "        print(str(len(word)) + '\\t1')\n",
    "\n",
    "```"
   ]
  },
  {
   "cell_type": "markdown",
   "metadata": {},
   "source": [
    "<hr style=\"height:2px; border:none; color:#000; background-color:#000;\">"
   ]
  },
  {
   "cell_type": "markdown",
   "metadata": {},
   "source": [
    "## 16.5.6 Implementing the Reducer \n",
    "* In **`length_reducer.py`**, function **`tokenize_input`** is a **generator function** that reads and splits the **key–value pairs** produced by the mapper\n",
    "* **MapReduce streaming** supplies the **standard input**\n",
    "* **`groupby` function** (**`itertools` module**) groups inputs by their **keys** (the **word lengths**) \n",
    "* **Total** all the **counts** for a given **key**\n",
    "* Output a new **key–value pair** consisting of the **word length** and its **total**\n",
    "* **MapReduce** takes the **final word-count outputs** and **writes** them to a file in **HDFS**"
   ]
  },
  {
   "cell_type": "markdown",
   "metadata": {},
   "source": [
    "<hr style=\"height:2px; border:none; color:#000; background-color:#000;\">"
   ]
  },
  {
   "cell_type": "markdown",
   "metadata": {},
   "source": [
    "```python\n",
    "#!/usr/bin/env python3\n",
    "# length_reducer.py\n",
    "\"\"\"Counts the number of words with each length.\"\"\"\n",
    "import sys\n",
    "from itertools import groupby\n",
    "from operator import itemgetter\n",
    "\n",
    "def tokenize_input():\n",
    "    \"\"\"Split each line of standard input into a key and a value.\"\"\"\n",
    "    for line in sys.stdin:\n",
    "        yield line.strip().split('\\t')\n",
    "\n",
    "# produce key-value pairs of word lengths and counts separated by tabs\n",
    "for word_length, group in groupby(tokenize_input(), itemgetter(0)):\n",
    "    try:\n",
    "        total = sum(int(count) for word_length, count in group)\n",
    "        print(word_length + '\\t' + str(total))\n",
    "    except ValueError:\n",
    "        pass  # ignore word if its count was not an integer\n",
    "\n",
    "```"
   ]
  },
  {
   "cell_type": "markdown",
   "metadata": {},
   "source": [
    "<hr style=\"height:2px; border:none; color:#000; background-color:#000;\">"
   ]
  },
  {
   "cell_type": "markdown",
   "metadata": {},
   "source": [
    "## 16.5.7 Preparing to Run the MapReduce Example\n",
    "* Must upload scripts and `RomeoAndJuliet.txt` into **HDInsight cluster's file system**\n",
    "* For detailed instructions on doing this, see \n",
    "    * [**Python Fundamentals LiveLessons videos**](https://learning.oreilly.com/videos/python-fundamentals/9780135917411/9780135917411-PFLL_Lesson16_31) \n",
    "    * [**Python for Programmers, Section 16.5.7**](https://learning.oreilly.com/library/view/python-for-programmers/9780135231364/ch16.xhtml#ch16lev2sec22)"
   ]
  },
  {
   "cell_type": "markdown",
   "metadata": {},
   "source": [
    "<hr style=\"height:2px; border:none; color:#000; background-color:#000;\">"
   ]
  },
  {
   "cell_type": "markdown",
   "metadata": {},
   "source": [
    "## 16.5.8 Running the MapReduce Job (1 of 4)\n",
    "* Once files are in the cluster, **run MapReduce job** for **`RomeoAndJuliet.txt`** on your **cluster** by executing the following command in the cluster\n",
    "    * You can copy/paste the command from `yarn.txt` located with this example\n",
    "    * We reformatted the command here for readability: \n",
    "\n",
    "```\n",
    "yarn jar /usr/hdp/current/hadoop-mapreduce-client/hadoop-streaming.jar \n",
    "   -D mapred.output.key.comparator.class=\n",
    "      org.apache.hadoop.mapred.lib.KeyFieldBasedComparator    \n",
    "   -D mapred.text.key.comparator.options=-n   \n",
    "   -files length_mapper.py,length_reducer.py    \n",
    "   -mapper length_mapper.py \n",
    "   -reducer length_reducer.py    \n",
    "   -input /example/data/RomeoAndJuliet.txt    \n",
    "   -output /example/wordlengthsoutput    \n",
    "```"
   ]
  },
  {
   "cell_type": "markdown",
   "metadata": {},
   "source": [
    "<hr style=\"height:2px; border:none; color:#000; background-color:#000;\">"
   ]
  },
  {
   "cell_type": "markdown",
   "metadata": {},
   "source": [
    "## 16.5.8 Running the MapReduce Job (2 of 4)\n",
    "* The **`yarn` command** invokes **Hadoop’s YARN** (“yet another resource negotiator”) tool to manage and coordinate access to the Hadoop resources the **MapReduce task** uses\n",
    "* **`hadoop-streaming.jar`** contains the Java-based **Hadoop streaming utility** that allows you to use Python to implement the **mapper** and **reducer**\n",
    "* The two **`-D` options** set Hadoop properties that enable it to \n",
    "    * **sort the final key–value pairs by key** (**`KeyFieldBasedComparator`**) \n",
    "    * in **descending order (`-`) numerically (`n`)** rather than alphabetically"
   ]
  },
  {
   "cell_type": "markdown",
   "metadata": {},
   "source": [
    "<hr style=\"height:2px; border:none; color:#000; background-color:#000;\">"
   ]
  },
  {
   "cell_type": "markdown",
   "metadata": {},
   "source": [
    "## 16.5.8 Running the MapReduce Job (3 of 4)\n",
    "* Other command-line arguments:\n",
    "\t* **`-files`**—Comma-separated list of scripts that Hadoop copies to every node in the cluster so they can **execute locally on each node**\n",
    "\t* **`-mapper`**—mapper’s script file\n",
    "\t* **`-reducer`**—reducer’s script file\n",
    "\t* **`-input`**—**File** or **directory of files** to supply as **mapper input**\n",
    "\t* **`-output`**—**HDFS directory** where final results will be stored\n",
    "        * **Error** if this folder **already exists**"
   ]
  },
  {
   "cell_type": "markdown",
   "metadata": {},
   "source": [
    "<hr style=\"height:2px; border:none; color:#000; background-color:#000;\">"
   ]
  },
  {
   "cell_type": "markdown",
   "metadata": {},
   "source": [
    "## 16.5.8 Running the MapReduce Job (4 of 4)\n",
    "* Sample **output** shows some **Hadoop feedback** produced as the **MapReduce job executes**\n",
    "    * Used **`...`** to save space \n",
    "* Several lines of interest:\n",
    "\t* The total number of **“input paths to process”**—the **`1` source of input** in this example is **`RomeoAndJuliet.txt`**\n",
    "\t* The **“number of splits”**—`2` in this example, based on the **number of worker nodes** in our **HDInsight cluster**\n",
    "\t* The **percentage completion** dates and times&mdash;**big data jobs** could take minutes, hours, days, ...\n",
    "\t* **`File System Counters`** showing numbers of **bytes read and written**\n",
    "\t* **`Job Counters`** showing the **numbers of mapping and reduction tasks used** \n",
    "\t* **`Map-Reduce Framework`** showing stats about the **steps performed**"
   ]
  },
  {
   "cell_type": "markdown",
   "metadata": {},
   "source": [
    "<hr style=\"height:2px; border:none; color:#000; background-color:#000;\">"
   ]
  },
  {
   "cell_type": "markdown",
   "metadata": {},
   "source": [
    "## Output\n",
    "<pre>\n",
    "packageJobJar: [] [/usr/hdp/2.6.5.3004-13/hadoop-mapreduce/hadoop-streaming-2.7.3.2.6.5.3004-13.jar] /tmp/streamjob2764990629848702405.jar tmpDir=null\n",
    "...\n",
    "18/12/05 16:46:25 INFO mapred.FileInputFormat: <strong>Total input paths to process : 1</strong>\n",
    "18/12/05 16:46:26 INFO mapreduce.JobSubmitter: <strong>number of splits:2</strong>\n",
    "...\n",
    "18/12/05 16:46:26 INFO mapreduce.Job: The url to track the job: http://hn0-paulte.y3nghy5db2kehav5m0opqrjxcb.cx.internal.cloudapp.net:8088/proxy/application_1543953844228_0025/\n",
    "...\n",
    "18/12/05 16:46:35 INFO mapreduce.Job:  <strong>map 0% reduce 0%</strong>\n",
    "18/12/05 16:46:43 INFO mapreduce.Job:  <strong>map 50% reduce 0%</strong>\n",
    "18/12/05 16:46:44 INFO mapreduce.Job:  <strong>map 100% reduce 0%</strong>\n",
    "18/12/05 16:46:48 INFO mapreduce.Job:  <strong>map 100% reduce 100%</strong>\n",
    "18/12/05 16:46:50 INFO mapreduce.Job: Job job_1543953844228_0025 <strong>completed successfully</strong>\n",
    "</pre>"
   ]
  },
  {
   "cell_type": "markdown",
   "metadata": {},
   "source": [
    "<pre>\n",
    "18/12/05 16:46:50 INFO mapreduce.Job: Counters: 49\n",
    "\t<strong>File System Counters</strong>\n",
    "\t\tFILE: Number of bytes read=156411\n",
    "\t\tFILE: Number of bytes written=813764\n",
    "...\n",
    "\t<strong>Job Counters</strong> \n",
    "\t\tLaunched map tasks=2\n",
    "\t\tLaunched reduce tasks=1\n",
    "...\n",
    "\t<strong>Map-Reduce Framework</strong>\n",
    "\t\tMap input records=5260\n",
    "\t\tMap output records=25956\n",
    "\t\tMap output bytes=104493\n",
    "\t\tMap output materialized bytes=156417\n",
    "\t\tInput split bytes=346\n",
    "\t\tCombine input records=0\n",
    "\t\tCombine output records=0\n",
    "\t\tReduce input groups=19\n",
    "\t\tReduce shuffle bytes=156417\n",
    "\t\tReduce input records=25956\n",
    "\t\tReduce output records=19\n",
    "\t\tSpilled Records=51912\n",
    "\t\tShuffled Maps =2\n",
    "\t\tFailed Shuffles=0\n",
    "\t\tMerged Map outputs=2\n",
    "\t\tGC time elapsed (ms)=193\n",
    "\t\tCPU time spent (ms)=4440\n",
    "\t\tPhysical memory (bytes) snapshot=1942798336\n",
    "\t\tVirtual memory (bytes) snapshot=8463282176\n",
    "\t\tTotal committed heap usage (bytes)=3177185280\n",
    "...\n",
    "18/12/05 16:46:50 INFO streaming.StreamJob: Output directory: /example/wordlengthsoutput\n",
    "</pre>"
   ]
  },
  {
   "cell_type": "markdown",
   "metadata": {},
   "source": [
    "<hr style=\"height:2px; border:none; color:#000; background-color:#000;\">"
   ]
  },
  {
   "cell_type": "markdown",
   "metadata": {},
   "source": [
    "### Viewing the Word Counts\n",
    "* **Hadoop MapReduce** saves its output into **HDFS**\n",
    "* To **view final word counts** you must look at the **file in cluster's HDFS**\n",
    "> ```\n",
    "hdfs dfs -text /example/wordlengthsoutput/part-00000\n",
    "```\n",
    "\n",
    "```\n",
    "18/12/05 16:47:19 INFO lzo.GPLNativeCodeLoader: Loaded native gpl library\n",
    "18/12/05 16:47:19 INFO lzo.LzoCodec: Successfully loaded & initialized native-lzo library [hadoop-lzo rev b5efb3e531bc1558201462b8ab15bb412ffa6b89]\n",
    "1\t4699\n",
    "2\t3869\n",
    "3\t5651\n",
    "4\t3668\n",
    "5\t2719\n",
    "6\t1624\n",
    "7\t1140\n",
    "8\t1062\n",
    "9\t855\n",
    "10\t317\n",
    "11\t189\n",
    "12\t95\n",
    "13\t35\n",
    "14\t13\n",
    "15\t9\n",
    "16\t6\n",
    "17\t3\n",
    "18\t1\n",
    "23\t1\n",
    "```"
   ]
  },
  {
   "cell_type": "markdown",
   "metadata": {},
   "source": [
    "<hr style=\"height:2px; border:none; color:#000; background-color:#000;\">"
   ]
  },
  {
   "cell_type": "markdown",
   "metadata": {},
   "source": [
    "### IMPORTANT: Deleting Your Cluster So You Do Not Incur Charges\n",
    "* **Be sure to delete your cluster(s) and associated resources (like storage) so you don’t incur additional charges** \n",
    "    * For details on deleting the cluster, see my [**Python Fundamentals LiveLessons videos**](https://learning.oreilly.com/videos/python-fundamentals/9780135917411/9780135917411-PFLL_Lesson16_32) (deleting is discussed around the 9:00 minute mark) and in [**Python for Programmers, Section 16.5.8**](https://learning.oreilly.com/library/view/python-for-programmers/9780135231364/ch16.xhtml#ch16lev2sec23)\n",
    "* [More information](https://docs.microsoft.com/en-us/azure/azure-resource-manager/resource-group-portal)"
   ]
  },
  {
   "cell_type": "markdown",
   "metadata": {},
   "source": [
    "<hr style=\"height:2px; border:none; color:#000; background-color:#000;\">"
   ]
  },
  {
   "cell_type": "markdown",
   "metadata": {},
   "source": [
    "### Lecture Note: Switch to **jupyter/pyspark-notebook Docker stack** for Spark presentation"
   ]
  },
  {
   "cell_type": "markdown",
   "metadata": {},
   "source": [
    "<hr style=\"height:2px; border:none; color:#000; background-color:#000;\">"
   ]
  },
  {
   "cell_type": "markdown",
   "metadata": {},
   "source": [
    "&copy; 2019 by Pearson Education, Inc. All Rights Reserved. The content in this notebook is based on the book [**Python for Programmers**](https://amzn.to/2VvdnxE)."
   ]
  }
 ],
 "metadata": {
  "kernelspec": {
   "display_name": "Python 3",
   "language": "python",
   "name": "python3"
  },
  "language_info": {
   "codemirror_mode": {
    "name": "ipython",
    "version": 3
   },
   "file_extension": ".py",
   "mimetype": "text/x-python",
   "name": "python",
   "nbconvert_exporter": "python",
   "pygments_lexer": "ipython3",
   "version": "3.7.3"
  }
 },
 "nbformat": 4,
 "nbformat_minor": 4
}
