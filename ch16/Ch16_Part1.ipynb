{
 "cells": [
  {
   "cell_type": "markdown",
   "metadata": {},
   "source": [
    "&copy; 2019 by Pearson Education, Inc. All Rights Reserved. The content in this notebook is based on the book [**Python for Programmers**](https://amzn.to/2VvdnxE)."
   ]
  },
  {
   "cell_type": "markdown",
   "metadata": {},
   "source": [
    "# 16. Big Data: Hadoop, Spark, NoSQL and IoT "
   ]
  },
  {
   "cell_type": "code",
   "execution_count": 1,
   "metadata": {},
   "outputs": [],
   "source": [
    "# enable high-res images in notebook \n",
    "%config InlineBackend.figure_format = 'retina'\n",
    "%matplotlib inline"
   ]
  },
  {
   "cell_type": "markdown",
   "metadata": {},
   "source": [
    "# 16.1 Introduction\n",
    "### Big Data\n",
    "* Previous data-science case studies all focused on AI\n",
    "* Here, we focus on the **big-data infrastructure that supports AI solutions**\n",
    "* As **data grows exponentially**, we want to **learn** from that data&mdash;and at **blazing speed**\n",
    "* Done with **sophisticated algorithms**, hardware, software and networking designs\n",
    "* With **big data**, **machine learning** and **deep learning** can be even **more effective**"
   ]
  },
  {
   "cell_type": "markdown",
   "metadata": {},
   "source": [
    "<hr style=\"height:2px; border:none; color:#000; background-color:#000;\">"
   ]
  },
  {
   "cell_type": "markdown",
   "metadata": {},
   "source": [
    "# 16.3 NoSQL Big-Data Databases (1 of 2)\n",
    "* **Relational databases** store data in rectangular **tables**\n",
    "* **Not efficient** as **data volume** and the numbers of **tables** and **relationships between them** increases\n",
    "* Most data produced today is \n",
    "    * **Unstructured**&mdash;**photos**, **videos** and **natural language** (social-media posts, texts, ...), or\n",
    "    * **Semi-structured**&mdash;**JSON** and **XML** documents\n",
    "* **Metadata** adds structure to **unstructured data**, making it **semi-structured**\n",
    "    * **Tweets** (as you saw earlier)\n",
    "    * **YouTube videos**&mdash;**who posted** and **when**, **title**, **description**, ..."
   ]
  },
  {
   "cell_type": "markdown",
   "metadata": {},
   "source": [
    "<hr style=\"height:2px; border:none; color:#000; background-color:#000;\">"
   ]
  },
  {
   "cell_type": "markdown",
   "metadata": {},
   "source": [
    "# 16.3 NoSQL Big-Data Databases (2 of 2)\n",
    "* **NoSQL databases** are designed for \n",
    "    * **unstructured** and **semi-structured big-data** \n",
    "    * big data **storage and processing demands**\n",
    "* **Big data** requires **massive databases**, which can be spread across data centers worldwide in huge **clusters** of commodity computers\n",
    "* The name **NoSQL** originally meant what its name implies\n",
    "* With **growing use of SQL in big data**—such as **SQL on Hadoop** and **Spark SQL**—now it's said to stand for **“Not Only SQL”** "
   ]
  },
  {
   "cell_type": "markdown",
   "metadata": {},
   "source": [
    "<hr style=\"height:2px; border:none; color:#000; background-color:#000;\">"
   ]
  },
  {
   "cell_type": "markdown",
   "metadata": {},
   "source": [
    "### Four Major Types of **NoSQL Databases**\n",
    "* **key–value**\n",
    "* **document**\n",
    "* **columnar**\n",
    "* **graph**\n",
    "* Our NoSQL case study uses **MongoDB document database** &mdash; the most popular NoSQL database\n",
    "* **Overviews** of the **NoSQL database types** \n",
    "    * [**Python Fundamentals LiveLessons videos**](https://learning.oreilly.com/videos/python-fundamentals/9780135917411/9780135917411-PFLL_Lesson16_20) \n",
    "    * [**Python for Programmers, Section 16.3**](https://learning.oreilly.com/library/view/python-for-programmers/9780135231364/ch16.xhtml#ch16lev1sec3)"
   ]
  },
  {
   "cell_type": "markdown",
   "metadata": {},
   "source": [
    "<hr style=\"height:2px; border:none; color:#000; background-color:#000;\">"
   ]
  },
  {
   "cell_type": "markdown",
   "metadata": {},
   "source": [
    "# 16.4 Case Study: A MongoDB JSON Document Database \n",
    "* Store and search **JSON** for **streamed tweets** about **100 U.S. senators**\n",
    "* Summarize **top 10** by **tweet count**\n",
    "* Display **interactive map** containing **tweet count summaries**\n",
    "* I **pre-executed this example** because we stream 10,000 tweets, which can take substantial time \n",
    "* **Possible enhancement** &mdash; Use **sentiment analysis** to count **positive**, **negative** and **neutral tweets** mentioning each senator’s **handle**"
   ]
  },
  {
   "cell_type": "markdown",
   "metadata": {},
   "source": [
    "<hr style=\"height:2px; border:none; color:#000; background-color:#000;\">"
   ]
  },
  {
   "cell_type": "markdown",
   "metadata": {},
   "source": [
    "### Free Cloud-Based MongoDB Atlas Cluster \n",
    "* Requires **no installation** \n",
    "* Store up to **512MB of data**\n",
    "* Can store more with\n",
    "    * [**Free MongoDB Community Server**](https://www.mongodb.com/download-center/community), or \n",
    "    * **Paid MongoDB Atlas account**\n",
    "* **Creating your MongoDB Atlas cluster**\n",
    "    * I discuss the details of **signing up** for a MongoDB account, **creating the MongoDB Atlas Cluster**, **configuring** it and getting your **connection string** in my [**Python Fundamentals LiveLessons videos**](https://learning.oreilly.com/videos/python-fundamentals/9780135917411/9780135917411-PFLL_Lesson16_22https://learning.oreilly.com/videos/python-fundamentals/9780135917411) and in [**Python for Programmers, Section 16.4.1**](https://learning.oreilly.com/library/view/Python+for+Programmers,+First+Edition/9780135231364/ch16.xhtml#ch16lev2sec14)"
   ]
  },
  {
   "cell_type": "markdown",
   "metadata": {},
   "source": [
    "<hr style=\"height:2px; border:none; color:#000; background-color:#000;\">"
   ]
  },
  {
   "cell_type": "markdown",
   "metadata": {},
   "source": [
    "### Python Libraries Required for Interacting with MongoDB\n",
    "```\n",
    "conda install -c conda-forge pymongo\n",
    "conda install -c conda-forge dnspython\n",
    "```\n",
    "* **`pymongo` library** &mdash; interact with **MongoDB databases** from Python\n",
    "* **`dnspython` library** &mdash; used as part of connecting to a **MongoDB Atlas Cluster**"
   ]
  },
  {
   "cell_type": "markdown",
   "metadata": {},
   "source": [
    "<hr style=\"height:2px; border:none; color:#000; background-color:#000;\">"
   ]
  },
  {
   "cell_type": "markdown",
   "metadata": {},
   "source": [
    "### keys.py \n",
    "* **`keys.py`** must contain \n",
    "    * your **Twitter credentials** \n",
    "    * your **OpenMapQuest key** \n",
    "    * Your **MongoDB connection string** "
   ]
  },
  {
   "cell_type": "markdown",
   "metadata": {},
   "source": [
    "<hr style=\"height:2px; border:none; color:#000; background-color:#000;\">"
   ]
  },
  {
   "cell_type": "markdown",
   "metadata": {},
   "source": [
    "## 16.4.2 Streaming Tweets into MongoDB\n",
    "### Use Tweepy to Authenticate with Twitter and Get the API Object"
   ]
  },
  {
   "cell_type": "code",
   "execution_count": 2,
   "metadata": {},
   "outputs": [],
   "source": [
    "import tweepy, keys"
   ]
  },
  {
   "cell_type": "code",
   "execution_count": 3,
   "metadata": {},
   "outputs": [],
   "source": [
    "auth = tweepy.OAuthHandler(\n",
    "    keys.consumer_key, keys.consumer_secret)\n",
    "auth.set_access_token(keys.access_token, \n",
    "    keys.access_token_secret)"
   ]
  },
  {
   "cell_type": "code",
   "execution_count": 4,
   "metadata": {},
   "outputs": [],
   "source": [
    "api = tweepy.API(auth, wait_on_rate_limit=True, \n",
    "                 wait_on_rate_limit_notify=True)               "
   ]
  },
  {
   "cell_type": "markdown",
   "metadata": {},
   "source": [
    "<hr style=\"height:2px; border:none; color:#000; background-color:#000;\">"
   ]
  },
  {
   "cell_type": "markdown",
   "metadata": {},
   "source": [
    "### Loading the Senators’ Data (1 of 2)\n",
    "* **`senators.csv`** (provided in notebook's folder) contains each senator's \n",
    "    * two-letter state code\n",
    "    * name\n",
    "    * party \n",
    "    * Twitter handle\n",
    "    * Twitter ID\n",
    "* **Twitter handle and ID** used to track tweets **to**, **from** and **mentioning** each senator \n",
    "* When following users via **numeric Twitter IDs**, must submit IDs as **strings**"
   ]
  },
  {
   "cell_type": "markdown",
   "metadata": {},
   "source": [
    "<hr style=\"height:2px; border:none; color:#000; background-color:#000;\">"
   ]
  },
  {
   "cell_type": "markdown",
   "metadata": {},
   "source": [
    "### Loading the Senators’ Data (2 of 2)"
   ]
  },
  {
   "cell_type": "code",
   "execution_count": 5,
   "metadata": {},
   "outputs": [],
   "source": [
    "import pandas as pd"
   ]
  },
  {
   "cell_type": "code",
   "execution_count": 6,
   "metadata": {},
   "outputs": [],
   "source": [
    "senators_df = pd.read_csv('senators.csv')"
   ]
  },
  {
   "cell_type": "code",
   "execution_count": 7,
   "metadata": {},
   "outputs": [],
   "source": [
    "senators_df['TwitterID'] = senators_df['TwitterID'].astype(str)"
   ]
  },
  {
   "cell_type": "code",
   "execution_count": 8,
   "metadata": {},
   "outputs": [
    {
     "data": {
      "text/html": [
       "<div>\n",
       "<style scoped>\n",
       "    .dataframe tbody tr th:only-of-type {\n",
       "        vertical-align: middle;\n",
       "    }\n",
       "\n",
       "    .dataframe tbody tr th {\n",
       "        vertical-align: top;\n",
       "    }\n",
       "\n",
       "    .dataframe thead th {\n",
       "        text-align: right;\n",
       "    }\n",
       "</style>\n",
       "<table border=\"1\" class=\"dataframe\">\n",
       "  <thead>\n",
       "    <tr style=\"text-align: right;\">\n",
       "      <th></th>\n",
       "      <th>State</th>\n",
       "      <th>Name</th>\n",
       "      <th>Party</th>\n",
       "      <th>TwitterHandle</th>\n",
       "      <th>TwitterID</th>\n",
       "    </tr>\n",
       "  </thead>\n",
       "  <tbody>\n",
       "    <tr>\n",
       "      <th>0</th>\n",
       "      <td>AL</td>\n",
       "      <td>Richard Shelby</td>\n",
       "      <td>R</td>\n",
       "      <td>SenShelby</td>\n",
       "      <td>21111098</td>\n",
       "    </tr>\n",
       "    <tr>\n",
       "      <th>1</th>\n",
       "      <td>AL</td>\n",
       "      <td>Doug Jomes</td>\n",
       "      <td>D</td>\n",
       "      <td>SenDougJones</td>\n",
       "      <td>941080085121175552</td>\n",
       "    </tr>\n",
       "    <tr>\n",
       "      <th>2</th>\n",
       "      <td>AK</td>\n",
       "      <td>Lisa Murkowski</td>\n",
       "      <td>R</td>\n",
       "      <td>lisamurkowski</td>\n",
       "      <td>18061669</td>\n",
       "    </tr>\n",
       "    <tr>\n",
       "      <th>3</th>\n",
       "      <td>AK</td>\n",
       "      <td>Dan Sullivan</td>\n",
       "      <td>R</td>\n",
       "      <td>SenDanSullivan</td>\n",
       "      <td>2891210047</td>\n",
       "    </tr>\n",
       "    <tr>\n",
       "      <th>4</th>\n",
       "      <td>AZ</td>\n",
       "      <td>Martha McSally</td>\n",
       "      <td>R</td>\n",
       "      <td>SenMcSallyAZ</td>\n",
       "      <td>2964949642</td>\n",
       "    </tr>\n",
       "  </tbody>\n",
       "</table>\n",
       "</div>"
      ],
      "text/plain": [
       "  State            Name Party   TwitterHandle           TwitterID\n",
       "0    AL  Richard Shelby     R       SenShelby            21111098\n",
       "1    AL      Doug Jomes     D    SenDougJones  941080085121175552\n",
       "2    AK  Lisa Murkowski     R   lisamurkowski            18061669\n",
       "3    AK    Dan Sullivan     R  SenDanSullivan          2891210047\n",
       "4    AZ  Martha McSally     R    SenMcSallyAZ          2964949642"
      ]
     },
     "execution_count": 8,
     "metadata": {},
     "output_type": "execute_result"
    }
   ],
   "source": [
    "senators_df.head()"
   ]
  },
  {
   "cell_type": "markdown",
   "metadata": {},
   "source": [
    "<hr style=\"height:2px; border:none; color:#000; background-color:#000;\">"
   ]
  },
  {
   "cell_type": "markdown",
   "metadata": {},
   "source": [
    "### Configuring the `pymongo` `MongoClient` "
   ]
  },
  {
   "cell_type": "code",
   "execution_count": 9,
   "metadata": {},
   "outputs": [],
   "source": [
    "from pymongo import MongoClient"
   ]
  },
  {
   "cell_type": "code",
   "execution_count": 10,
   "metadata": {},
   "outputs": [],
   "source": [
    "atlas_client = MongoClient(keys.mongo_connection_string)"
   ]
  },
  {
   "cell_type": "markdown",
   "metadata": {},
   "source": [
    "<hr style=\"height:2px; border:none; color:#000; background-color:#000;\">"
   ]
  },
  {
   "cell_type": "markdown",
   "metadata": {},
   "source": [
    "### Get **`pymongo` `Database`** Object Representing the `senators` Database\n",
    "* **Creates the database** if it does not exist\n",
    "* Will be used to store the collection of **tweet JSON documents**"
   ]
  },
  {
   "cell_type": "code",
   "execution_count": 11,
   "metadata": {},
   "outputs": [],
   "source": [
    "db = atlas_client.senators "
   ]
  },
  {
   "cell_type": "markdown",
   "metadata": {},
   "source": [
    "### Setting up Tweet Stream\n",
    "* **`TweetListener`** uses the **`db` object** representing the **senators database** to store tweets \n",
    "    * Depending on the rate at which people are tweeting about the senators, it may take **minutes to hours** to get **10,000 tweets**"
   ]
  },
  {
   "cell_type": "code",
   "execution_count": 12,
   "metadata": {},
   "outputs": [],
   "source": [
    "from tweetlistener import TweetListener"
   ]
  },
  {
   "cell_type": "code",
   "execution_count": 13,
   "metadata": {},
   "outputs": [],
   "source": [
    "tweet_limit = 10000  "
   ]
  },
  {
   "cell_type": "code",
   "execution_count": 14,
   "metadata": {},
   "outputs": [],
   "source": [
    "twitter_stream = tweepy.Stream(api.auth, \n",
    "    TweetListener(api, db, tweet_limit)) "
   ]
  },
  {
   "cell_type": "markdown",
   "metadata": {},
   "source": [
    "<hr style=\"height:2px; border:none; color:#000; background-color:#000;\">"
   ]
  },
  {
   "cell_type": "markdown",
   "metadata": {},
   "source": [
    "### Starting the Live Tweet Stream\n",
    "* Currently, can **track** up to **400 keywords** and **follow** up to **5,000 Twitter IDs** at a time\n",
    "    * **`track`** senators’ Twitter handles as keywords\n",
    "    * **`follow`** their **IDs**  \n",
    "* Together, this will get tweets **from**, **to** and **about** each senator"
   ]
  },
  {
   "cell_type": "code",
   "execution_count": 15,
   "metadata": {},
   "outputs": [
    {
     "name": "stdout",
     "output_type": "stream",
     "text": [
      "    Screen name: Claudia P. Granados\n",
      "     Created at: Sun Apr 26 20:57:32 +0000 2020\n",
      "Tweets received: 10000\n"
     ]
    }
   ],
   "source": [
    "twitter_stream.filter(track=senators_df.TwitterHandle.tolist(),\n",
    "    follow=senators_df.TwitterID.tolist())"
   ]
  },
  {
   "cell_type": "markdown",
   "metadata": {},
   "source": [
    "<hr style=\"height:2px; border:none; color:#000; background-color:#000;\">"
   ]
  },
  {
   "cell_type": "markdown",
   "metadata": {},
   "source": [
    "### Class `TweetListener` "
   ]
  },
  {
   "cell_type": "markdown",
   "metadata": {},
   "source": [
    "```python\n",
    "# tweetlistener.py\n",
    "\"\"\"TweetListener downloads tweets and stores them in MongoDB.\"\"\"\n",
    "import json\n",
    "import tweepy\n",
    "from IPython.display import clear_output\n",
    "\n",
    "class TweetListener(tweepy.StreamListener):\n",
    "    \"\"\"Handles incoming Tweet stream.\"\"\"\n",
    "\n",
    "```"
   ]
  },
  {
   "cell_type": "markdown",
   "metadata": {},
   "source": [
    "```python\n",
    "    def __init__(self, api, database, limit=10000):\n",
    "        \"\"\"Create instance variables for tracking number of tweets.\"\"\"\n",
    "        self.db = database\n",
    "        self.tweet_count = 0\n",
    "        self.TWEET_LIMIT = limit  # 10,000 by default\n",
    "        super().__init__(api)  # call superclass's init\n",
    "\n",
    "    def on_connect(self):\n",
    "        \"\"\"Called when your connection attempt is successful, enabling \n",
    "        you to perform appropriate application tasks at that point.\"\"\"\n",
    "        print('Successfully connected to Twitter\\n')\n",
    "\n",
    "```"
   ]
  },
  {
   "cell_type": "markdown",
   "metadata": {},
   "source": [
    "```python\n",
    "    def on_data(self, data):\n",
    "        \"\"\"Called when Twitter pushes a new tweet to you.\"\"\"\n",
    "        self.tweet_count += 1  # track number of tweets processed\n",
    "        json_data = json.loads(data)  # convert string to JSON\n",
    "        self.db.tweets.insert_one(json_data)  # store in tweets collection\n",
    "        clear_output()  # ADDED: show one tweet at a time in Jupyter Notebook\n",
    "        print(f'    Screen name: {json_data[\"user\"][\"name\"]}') \n",
    "        print(f'     Created at: {json_data[\"created_at\"]}')         \n",
    "        print(f'Tweets received: {self.tweet_count}')         \n",
    "\n",
    "        # if TWEET_LIMIT is reached, return False to terminate streaming\n",
    "        return self.tweet_count < self.TWEET_LIMIT\n",
    "    \n",
    "    def on_error(self, status):\n",
    "        print(status)\n",
    "        return True\n",
    "```"
   ]
  },
  {
   "cell_type": "markdown",
   "metadata": {},
   "source": [
    "<hr style=\"height:2px; border:none; color:#000; background-color:#000;\">"
   ]
  },
  {
   "cell_type": "markdown",
   "metadata": {},
   "source": [
    "### Counting Tweets for Each Senator (1 of 2)\n",
    "* MongoDB **text search** requires a **text index** specifying **document field(s) to search** \n",
    "\t* MongoDB [index types](https://docs.mongodb.com/manual/indexes), [text indexes](https://docs.mongodb.com/manual/core/index-text) and [operators](https://docs.mongodb.com/manual/reference/operator)\n",
    "* A **text index** is defined as a **tuple** containing **field name** to search and **index type** (`'text'`)\n",
    "* **Wildcard field name (\\$\\*\\*)** indexes **all** text fields for a **full-text search**"
   ]
  },
  {
   "cell_type": "code",
   "execution_count": 16,
   "metadata": {},
   "outputs": [
    {
     "data": {
      "text/plain": [
       "'$**_text'"
      ]
     },
     "execution_count": 16,
     "metadata": {},
     "output_type": "execute_result"
    }
   ],
   "source": [
    "db.tweets.create_index([('$**', 'text')])"
   ]
  },
  {
   "cell_type": "markdown",
   "metadata": {},
   "source": [
    "<hr style=\"height:2px; border:none; color:#000; background-color:#000;\">"
   ]
  },
  {
   "cell_type": "markdown",
   "metadata": {},
   "source": [
    "### Counting Tweets for Each Senator (2 of 2)\n",
    "* Use **`tweets` `Collection`’s `count_documents` method** and **full-text search** to count the total number of documents in the collection that contain the specified text\n",
    "    * Find every **twitter handle** in `senators_df.TwitterHandle` column\n",
    "    * `{\"$text\": {\"$search\": senator}}` indicates that we’re **using the `text` index** to **`search`** for the value of **`senator`**"
   ]
  },
  {
   "cell_type": "code",
   "execution_count": 17,
   "metadata": {},
   "outputs": [],
   "source": [
    "tweet_counts = []"
   ]
  },
  {
   "cell_type": "code",
   "execution_count": 18,
   "metadata": {},
   "outputs": [],
   "source": [
    "for senator in senators_df.TwitterHandle:\n",
    "    tweet_counts.append(db.tweets.count_documents(\n",
    "        {\"$text\": {\"$search\": senator}}))"
   ]
  },
  {
   "cell_type": "markdown",
   "metadata": {},
   "source": [
    "<hr style=\"height:2px; border:none; color:#000; background-color:#000;\">"
   ]
  },
  {
   "cell_type": "markdown",
   "metadata": {},
   "source": [
    "### Show Tweet Counts for Each Senator \n",
    "* Create copy of **`DataFrame` `senators_df`** adding a new column of **`tweet_counts`** \n",
    "* Display the **top-10 senators by tweet count**"
   ]
  },
  {
   "cell_type": "code",
   "execution_count": 19,
   "metadata": {},
   "outputs": [],
   "source": [
    "tweet_counts_df = senators_df.assign(Tweets=tweet_counts)  "
   ]
  },
  {
   "cell_type": "code",
   "execution_count": 20,
   "metadata": {},
   "outputs": [
    {
     "data": {
      "text/html": [
       "<div>\n",
       "<style scoped>\n",
       "    .dataframe tbody tr th:only-of-type {\n",
       "        vertical-align: middle;\n",
       "    }\n",
       "\n",
       "    .dataframe tbody tr th {\n",
       "        vertical-align: top;\n",
       "    }\n",
       "\n",
       "    .dataframe thead th {\n",
       "        text-align: right;\n",
       "    }\n",
       "</style>\n",
       "<table border=\"1\" class=\"dataframe\">\n",
       "  <thead>\n",
       "    <tr style=\"text-align: right;\">\n",
       "      <th></th>\n",
       "      <th>State</th>\n",
       "      <th>Name</th>\n",
       "      <th>Party</th>\n",
       "      <th>TwitterHandle</th>\n",
       "      <th>TwitterID</th>\n",
       "      <th>Tweets</th>\n",
       "    </tr>\n",
       "  </thead>\n",
       "  <tbody>\n",
       "    <tr>\n",
       "      <th>78</th>\n",
       "      <td>SC</td>\n",
       "      <td>Lindsey Graham</td>\n",
       "      <td>R</td>\n",
       "      <td>LindseyGrahamSC</td>\n",
       "      <td>432895323</td>\n",
       "      <td>1367</td>\n",
       "    </tr>\n",
       "    <tr>\n",
       "      <th>32</th>\n",
       "      <td>KY</td>\n",
       "      <td>Mitch McConnell</td>\n",
       "      <td>R</td>\n",
       "      <td>SenateMajLdr</td>\n",
       "      <td>1249982359</td>\n",
       "      <td>1275</td>\n",
       "    </tr>\n",
       "    <tr>\n",
       "      <th>6</th>\n",
       "      <td>AR</td>\n",
       "      <td>Tom Cotton</td>\n",
       "      <td>R</td>\n",
       "      <td>SenTomCotton</td>\n",
       "      <td>968650362</td>\n",
       "      <td>1043</td>\n",
       "    </tr>\n",
       "    <tr>\n",
       "      <th>62</th>\n",
       "      <td>NY</td>\n",
       "      <td>Chuck Schumer</td>\n",
       "      <td>D</td>\n",
       "      <td>SenSchumer</td>\n",
       "      <td>17494010</td>\n",
       "      <td>803</td>\n",
       "    </tr>\n",
       "    <tr>\n",
       "      <th>44</th>\n",
       "      <td>MN</td>\n",
       "      <td>Amy Klobuchar</td>\n",
       "      <td>D</td>\n",
       "      <td>amyklobuchar</td>\n",
       "      <td>33537967</td>\n",
       "      <td>761</td>\n",
       "    </tr>\n",
       "    <tr>\n",
       "      <th>33</th>\n",
       "      <td>KY</td>\n",
       "      <td>Rand Paul</td>\n",
       "      <td>R</td>\n",
       "      <td>RandPaul</td>\n",
       "      <td>216881337</td>\n",
       "      <td>694</td>\n",
       "    </tr>\n",
       "    <tr>\n",
       "      <th>20</th>\n",
       "      <td>HI</td>\n",
       "      <td>Brian Schatz</td>\n",
       "      <td>D</td>\n",
       "      <td>brianschatz</td>\n",
       "      <td>47747074</td>\n",
       "      <td>549</td>\n",
       "    </tr>\n",
       "    <tr>\n",
       "      <th>41</th>\n",
       "      <td>MA</td>\n",
       "      <td>Elizabeth Warren</td>\n",
       "      <td>D</td>\n",
       "      <td>SenWarren</td>\n",
       "      <td>970207298</td>\n",
       "      <td>445</td>\n",
       "    </tr>\n",
       "    <tr>\n",
       "      <th>17</th>\n",
       "      <td>FL</td>\n",
       "      <td>Marco Rubio</td>\n",
       "      <td>R</td>\n",
       "      <td>marcorubio</td>\n",
       "      <td>15745368</td>\n",
       "      <td>371</td>\n",
       "    </tr>\n",
       "    <tr>\n",
       "      <th>9</th>\n",
       "      <td>CA</td>\n",
       "      <td>Kamala Harris</td>\n",
       "      <td>D</td>\n",
       "      <td>SenKamalaHarris</td>\n",
       "      <td>803694179079458816</td>\n",
       "      <td>359</td>\n",
       "    </tr>\n",
       "  </tbody>\n",
       "</table>\n",
       "</div>"
      ],
      "text/plain": [
       "   State              Name Party    TwitterHandle           TwitterID  Tweets\n",
       "78    SC    Lindsey Graham     R  LindseyGrahamSC           432895323    1367\n",
       "32    KY   Mitch McConnell     R     SenateMajLdr          1249982359    1275\n",
       "6     AR        Tom Cotton     R     SenTomCotton           968650362    1043\n",
       "62    NY     Chuck Schumer     D       SenSchumer            17494010     803\n",
       "44    MN     Amy Klobuchar     D     amyklobuchar            33537967     761\n",
       "33    KY         Rand Paul     R         RandPaul           216881337     694\n",
       "20    HI      Brian Schatz     D      brianschatz            47747074     549\n",
       "41    MA  Elizabeth Warren     D        SenWarren           970207298     445\n",
       "17    FL       Marco Rubio     R       marcorubio            15745368     371\n",
       "9     CA     Kamala Harris     D  SenKamalaHarris  803694179079458816     359"
      ]
     },
     "execution_count": 20,
     "metadata": {},
     "output_type": "execute_result"
    }
   ],
   "source": [
    "tweet_counts_df.sort_values(by='Tweets', ascending=False).head(10)"
   ]
  },
  {
   "cell_type": "markdown",
   "metadata": {},
   "source": [
    "<hr style=\"height:2px; border:none; color:#000; background-color:#000;\">"
   ]
  },
  {
   "cell_type": "markdown",
   "metadata": {},
   "source": [
    "### Get the State Locations for Plotting Markers (1 of 3)\n",
    "* Get each **state’s latitude and longitude** coordinates for **plotting on a map**\n",
    "* **`state_codes.py`** contains a dictionary that maps **two-letter state codes** to **full state names**\n",
    "    * Used with **`geopy`** to look up the location of each state"
   ]
  },
  {
   "cell_type": "code",
   "execution_count": 21,
   "metadata": {},
   "outputs": [],
   "source": [
    "from geopy import OpenMapQuest"
   ]
  },
  {
   "cell_type": "code",
   "execution_count": 22,
   "metadata": {},
   "outputs": [],
   "source": [
    "import time"
   ]
  },
  {
   "cell_type": "code",
   "execution_count": 23,
   "metadata": {},
   "outputs": [],
   "source": [
    "from state_codes import state_codes"
   ]
  },
  {
   "cell_type": "markdown",
   "metadata": {},
   "source": [
    "* Get the **`geocoder` object** to **translate location names** into **`Location` objects**"
   ]
  },
  {
   "cell_type": "code",
   "execution_count": 24,
   "metadata": {},
   "outputs": [],
   "source": [
    "geo = OpenMapQuest(api_key=keys.mapquest_key) "
   ]
  },
  {
   "cell_type": "markdown",
   "metadata": {},
   "source": [
    "<hr style=\"height:2px; border:none; color:#000; background-\n",
    "color:#000;\">"
   ]
  },
  {
   "cell_type": "markdown",
   "metadata": {},
   "source": [
    "### Get the State Locations for Plotting Markers (2 of 3)\n",
    "* Get and sort the unique state names"
   ]
  },
  {
   "cell_type": "code",
   "execution_count": 25,
   "metadata": {},
   "outputs": [],
   "source": [
    "states = tweet_counts_df.State.unique()  # get unique state names"
   ]
  },
  {
   "cell_type": "code",
   "execution_count": 26,
   "metadata": {},
   "outputs": [],
   "source": [
    "states.sort() "
   ]
  },
  {
   "cell_type": "markdown",
   "metadata": {},
   "source": [
    "<hr style=\"height:2px; border:none; color:#000; background-color:#000;\">"
   ]
  },
  {
   "cell_type": "markdown",
   "metadata": {},
   "source": [
    "### Get the State Locations for Plotting Markers (3 of 3)\n",
    "* Look up **each state’s location**\n",
    "* Call `geocode` with state name followed by `', USA'` \n",
    "    * Ensures that we get United States locations"
   ]
  },
  {
   "cell_type": "code",
   "execution_count": 27,
   "metadata": {},
   "outputs": [],
   "source": [
    "locations = []"
   ]
  },
  {
   "cell_type": "code",
   "execution_count": 28,
   "metadata": {},
   "outputs": [
    {
     "name": "stdout",
     "output_type": "stream",
     "text": [
      "Wyoming, United States of America\n"
     ]
    }
   ],
   "source": [
    "from IPython.display import clear_output\n",
    "\n",
    "for state in states:\n",
    "    processed = False\n",
    "    delay = .1 \n",
    "    while not processed:\n",
    "        try: \n",
    "            locations.append(geo.geocode(state_codes[state] + ', USA'))\n",
    "            clear_output()  # clear cell's current output before showing next one\n",
    "            print(locations[-1])  \n",
    "            processed = True\n",
    "        except:  # timed out, so wait before trying again\n",
    "            print('OpenMapQuest service timed out. Waiting.')\n",
    "            time.sleep(delay)\n",
    "            delay += .1"
   ]
  },
  {
   "cell_type": "markdown",
   "metadata": {},
   "source": [
    "<hr style=\"height:2px; border:none; color:#000; background-color:#000;\">"
   ]
  },
  {
   "cell_type": "markdown",
   "metadata": {},
   "source": [
    "### Grouping the Tweet Counts by State \n",
    "* **Tweet total** for a states' two senators is used to **color the map**\n",
    "    * **Darker colors** represent **higher tweet counts**\n",
    "* **`DataFrame` method `groupby`** to group the senators by state \n",
    "    * **`as_index=False`**&mdash;state codes should be a column in returned **`GroupBy`** object, rather than indices for the object's rows\n",
    "* **`GroupBy`** object's **`sum`** method totals the numeric data by state"
   ]
  },
  {
   "cell_type": "code",
   "execution_count": 29,
   "metadata": {},
   "outputs": [],
   "source": [
    "tweets_counts_by_state = tweet_counts_df.groupby(\n",
    "    'State', as_index=False).sum()"
   ]
  },
  {
   "cell_type": "code",
   "execution_count": 30,
   "metadata": {},
   "outputs": [
    {
     "data": {
      "text/html": [
       "<div>\n",
       "<style scoped>\n",
       "    .dataframe tbody tr th:only-of-type {\n",
       "        vertical-align: middle;\n",
       "    }\n",
       "\n",
       "    .dataframe tbody tr th {\n",
       "        vertical-align: top;\n",
       "    }\n",
       "\n",
       "    .dataframe thead th {\n",
       "        text-align: right;\n",
       "    }\n",
       "</style>\n",
       "<table border=\"1\" class=\"dataframe\">\n",
       "  <thead>\n",
       "    <tr style=\"text-align: right;\">\n",
       "      <th></th>\n",
       "      <th>State</th>\n",
       "      <th>Tweets</th>\n",
       "    </tr>\n",
       "  </thead>\n",
       "  <tbody>\n",
       "    <tr>\n",
       "      <th>0</th>\n",
       "      <td>AK</td>\n",
       "      <td>110</td>\n",
       "    </tr>\n",
       "    <tr>\n",
       "      <th>1</th>\n",
       "      <td>AL</td>\n",
       "      <td>26</td>\n",
       "    </tr>\n",
       "    <tr>\n",
       "      <th>2</th>\n",
       "      <td>AR</td>\n",
       "      <td>1053</td>\n",
       "    </tr>\n",
       "    <tr>\n",
       "      <th>3</th>\n",
       "      <td>AZ</td>\n",
       "      <td>195</td>\n",
       "    </tr>\n",
       "    <tr>\n",
       "      <th>4</th>\n",
       "      <td>CA</td>\n",
       "      <td>535</td>\n",
       "    </tr>\n",
       "  </tbody>\n",
       "</table>\n",
       "</div>"
      ],
      "text/plain": [
       "  State  Tweets\n",
       "0    AK     110\n",
       "1    AL      26\n",
       "2    AR    1053\n",
       "3    AZ     195\n",
       "4    CA     535"
      ]
     },
     "execution_count": 30,
     "metadata": {},
     "output_type": "execute_result"
    }
   ],
   "source": [
    "tweets_counts_by_state.head()"
   ]
  },
  {
   "cell_type": "markdown",
   "metadata": {},
   "source": [
    "<hr style=\"height:2px; border:none; color:#000; background-color:#000;\">"
   ]
  },
  {
   "cell_type": "markdown",
   "metadata": {},
   "source": [
    "### Creating the Map "
   ]
  },
  {
   "cell_type": "code",
   "execution_count": 31,
   "metadata": {},
   "outputs": [],
   "source": [
    "import folium"
   ]
  },
  {
   "cell_type": "code",
   "execution_count": 32,
   "metadata": {},
   "outputs": [],
   "source": [
    "usmap = folium.Map(location=[39.8283, -98.5795], \n",
    "                   zoom_start=4, detect_retina=True,\n",
    "                   tiles='Stamen Toner')"
   ]
  },
  {
   "cell_type": "markdown",
   "metadata": {},
   "source": [
    "<hr style=\"height:2px; border:none; color:#000; background-color:#000;\">"
   ]
  },
  {
   "cell_type": "markdown",
   "metadata": {},
   "source": [
    "### Creating a Choropleth to Color the Map\n",
    "* A **choropleth** shades areas in a map using magnitudes of numerical values to determine color\n",
    "* For a **detailed description of the arguments** below, see \n",
    "    * [**Python Fundamentals LiveLessons videos**](https://learning.oreilly.com/videos/python-fundamentals/9780135917411/9780135917411-PFLL_Lesson16_23) \n",
    "    * [**Python for Programmers, Section 16.4.2** (under the heading \"Creating a Choropleth to Color the Map\"](https://learning.oreilly.com/library/view/python-for-programmers/9780135231364/ch16.xhtml#ch16lev2sec15)"
   ]
  },
  {
   "cell_type": "code",
   "execution_count": 33,
   "metadata": {},
   "outputs": [],
   "source": [
    "choropleth = folium.Choropleth(\n",
    "    geo_data='us-states.json',\n",
    "    name='choropleth',\n",
    "    data=tweets_counts_by_state,\n",
    "    columns=['State', 'Tweets'],\n",
    "    key_on='feature.id',\n",
    "    fill_color='YlOrRd',\n",
    "    fill_opacity=0.7,\n",
    "    line_opacity=0.2,\n",
    "    legend_name='Tweets by State'\n",
    ").add_to(usmap)\n",
    "\n",
    "layer = folium.LayerControl().add_to(usmap)"
   ]
  },
  {
   "cell_type": "markdown",
   "metadata": {},
   "source": [
    "<hr style=\"height:2px; border:none; color:#000; background-color:#000;\">"
   ]
  },
  {
   "cell_type": "markdown",
   "metadata": {},
   "source": [
    "### Creating the Map Markers for Each State (1 of 1)\n",
    "* Sort senators in **descending order** by **tweet count**\n",
    "* **`groupby`** maintains **original row order** in each group\n",
    "* **`index`** &mdash; used to look up each state’s location in **`locations` list**\n",
    "* **name** &mdash; two-letter **state code**\n",
    "* **`group`** &mdash; collection of a **state's two senators**"
   ]
  },
  {
   "cell_type": "code",
   "execution_count": 34,
   "metadata": {},
   "outputs": [],
   "source": [
    "sorted_df = tweet_counts_df.sort_values(by='Tweets', ascending=False)\n",
    "\n",
    "for index, (name, group) in enumerate(sorted_df.groupby('State')):\n",
    "    strings = [state_codes[name]]  # used to assemble popup text\n",
    "\n",
    "    for s in group.itertuples():\n",
    "        strings.append(f'{s.Name} ({s.Party}); Tweets: {s.Tweets}')\n",
    "        \n",
    "    text = '<br>'.join(strings)  \n",
    "    popup = folium.Popup(text, max_width=200)\n",
    "    marker = folium.Marker(\n",
    "        (locations[index].latitude, locations[index].longitude), \n",
    "        popup=popup)\n",
    "    marker.add_to(usmap) "
   ]
  },
  {
   "cell_type": "markdown",
   "metadata": {},
   "source": [
    "<hr style=\"height:2px; border:none; color:#000; background-color:#000;\">"
   ]
  },
  {
   "cell_type": "markdown",
   "metadata": {},
   "source": [
    "### Saving and Displaying the Map "
   ]
  },
  {
   "cell_type": "code",
   "execution_count": 35,
   "metadata": {},
   "outputs": [],
   "source": [
    "usmap.save('SenatorsTweets.html')"
   ]
  },
  {
   "cell_type": "code",
   "execution_count": 36,
   "metadata": {},
   "outputs": [
    {
     "data": {
      "text/html": [
       "<div style=\"width:100%;\"><div style=\"position:relative;width:100%;height:0;padding-bottom:60%;\"><iframe src=\"data:text/html;charset=utf-8;base64,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\" style=\"position:absolute;width:100%;height:100%;left:0;top:0;border:none !important;\" allowfullscreen webkitallowfullscreen mozallowfullscreen></iframe></div></div>"
      ],
      "text/plain": [
       "<folium.folium.Map at 0x7ffc5857bbe0>"
      ]
     },
     "execution_count": 36,
     "metadata": {},
     "output_type": "execute_result"
    }
   ],
   "source": [
    "usmap \n",
    "#from IPython.display import IFrame\n",
    "#IFrame(src=\"./SenatorsTweets.html\", width=800, height=450)"
   ]
  },
  {
   "cell_type": "markdown",
   "metadata": {},
   "source": [
    "<hr style=\"height:2px; border:none; color:#000; background-color:#000;\">"
   ]
  },
  {
   "cell_type": "markdown",
   "metadata": {},
   "source": [
    "# 16.5 Hadoop\n",
    "\\[We'll cover this example if we have time. The complete presentation can be viewed in my **[Python Fundamentals](https://learning.oreilly.com/videos/python-fundamentals/9780135917411/9780135917411-PFLL_Lesson16_24) (10 videos)**\\]\n",
    "&nbsp;  \n",
    "&nbsp;  \n",
    "\n",
    "* **Apache Hadoop** and **Apache Spark** deal with **big-data storage and processing challenges** via \n",
    "    * huge **clusters** of computers \n",
    "    * **distributed data storage** \n",
    "    * **massively parallel processing**\n",
    "    * Hadoop **MapReduce** programming\n",
    "    * Spark **in-memory processing** techniques\n",
    "* **Hadoop** also serves as the **foundation** for many recent advancements in **big-data processing** and an entire **ecosystem of software tools**\n",
    "\n",
    "<!--\n",
    "\n",
    "* For a list of **Hadoop ecosystem components**, see my [**Python Fundamentals LiveLessons videos**](https://learning.oreilly.com/videos/python-fundamentals/9780135917411/) (big data lesson coming soon) or [**Python for Programmers, Section 16.5.1**](https://learning.oreilly.com/library/view/python-for-programmers/9780135231364/ch16.xhtml#ch16lev2sec16)\n",
    "\n",
    "-->"
   ]
  },
  {
   "cell_type": "markdown",
   "metadata": {},
   "source": [
    "<hr style=\"height:2px; border:none; color:#000; background-color:#000;\">"
   ]
  },
  {
   "cell_type": "markdown",
   "metadata": {},
   "source": [
    "## 16.5.1 Hadoop Overview (1 of 2)\n",
    "* Early on, Google knew they needed to **return search results quickly**\n",
    "* The only practical way &mdash; **store and index the entire web** \n",
    "* Late 90s computers couldn’t store and analyze such a **large volume of data economically and fast enough**\n",
    "* Google developed a **clustering** system with vast numbers of computers (**nodes**)\n",
    "    * **greater chance of hardware failures** so they built in high levels of **redundancy** \n",
    "    * Data distributed across all these **commodity computers**\n",
    "* For a **search request**, all computers searched their portion of the web **in parallel**\n",
    "    * Then results were **gathered and returned**"
   ]
  },
  {
   "cell_type": "markdown",
   "metadata": {},
   "source": [
    "<hr style=\"height:2px; border:none; color:#000; background-color:#000;\">"
   ]
  },
  {
   "cell_type": "markdown",
   "metadata": {},
   "source": [
    "## 16.5.1 Hadoop Overview (2 of 2)\n",
    "* Google developed **clustering hardware and software** and **distributed storage**\n",
    "* **Published its designs**\n",
    "* Programmers at Yahoo!, working from Google’s [**“Google File System” paper**](http://static.googleusercontent.com/media/research.google.com/en//archive/gfs-sosp2003.pdf), built their own system\n",
    "* They **open-sourced** their work and **Apache.org** implemented **Hadoop**\n",
    "* Named for an **elephant** stuffed animal that belonged to a child of one of Hadoop’s creators\n",
    "    * Inspiration for our textbook cover\n",
    "* Two **additional Google papers** contributed to evolution of Hadoop\n",
    "\t* [**“MapReduce: Simplified Data Processing on Large Clusters”**](http://static.googleusercontent.com/media/research.google.com/en//archive/mapreduce-osdi04.pdf) \n",
    "\t* [**“Bigtable: A Distributed Storage System for Structured Data”**](http://static.googleusercontent.com/media/research.google.com/en//archive/bigtable-osdi06.pdf) \n",
    "\t\t* Basis for Apache HBase (a NoSQL key–value and column-based database)."
   ]
  },
  {
   "cell_type": "markdown",
   "metadata": {},
   "source": [
    "<hr style=\"height:2px; border:none; color:#000; background-color:#000;\">"
   ]
  },
  {
   "cell_type": "markdown",
   "metadata": {},
   "source": [
    "### HDFS, `MapReduce` and YARN (1 of 2)\n",
    "* Hadoop’s key components are: \n",
    "\t* **HDFS** (Hadoop Distributed File System) for **storing massive amounts of data** throughout a **cluster** \n",
    "\t* **MapReduce** for implementing the **tasks that process the data**\n",
    "        * Like **filter/map/reduce** in functional-style programming, but **massively parallel**\n",
    "* **MapReduce** performs two steps—**mapping** and **reduction**\n",
    "    * **Mapping** (and **filtering**) &mdash; processes original data across **entire cluster** and **maps** it into tuples of **key–value pairs**\n",
    "    * **Reduction** &mdash; **combines** those tuples to **produce the results**"
   ]
  },
  {
   "cell_type": "markdown",
   "metadata": {},
   "source": [
    "<hr style=\"height:2px; border:none; color:#000; background-color:#000;\">"
   ]
  },
  {
   "cell_type": "markdown",
   "metadata": {},
   "source": [
    "### HDFS, `MapReduce` and YARN (2 of 2)\n",
    "* Hadoop divides data into **batches** and **distributes** across **cluster's nodes**\n",
    "* Also **distributes MapReduce code** to **execute in parallel on every node**\n",
    "    * Each **node** processes the **batch of data** stored **on that node**\n",
    "* **Reduction combines results** from **all nodes** to produce **final result**\n",
    "* **YARN** (“yet another resource negotiator”) **manages all resources** in the **cluster** and **schedules tasks** for execution"
   ]
  },
  {
   "cell_type": "markdown",
   "metadata": {},
   "source": [
    "<hr style=\"height:2px; border:none; color:#000; background-color:#000;\">"
   ]
  },
  {
   "cell_type": "markdown",
   "metadata": {},
   "source": [
    "### Hadoop Ecosystem \n",
    "* **Hadoop began** with **HDFS** and **MapReduce**, followed closely by **YARN**\n",
    "* Now it's a **large ecosystem**, including **Hadoop 3** (3.2 released in January), **Spark** and many other Apache projects[\\[1\\]](https://hortonworks.com/ecosystems/),[\\[2\\]](https://readwrite.com/2018/06/26/complete-guide-of-hadoop-ecosystem-components/),[\\[3\\]](https://www.janbasktraining.com/blog/introduction-architecture-components-hadoop-ecosystem/)\n",
    "* [See our table of Hadoop Ecosystem Components](https://learning.oreilly.com/library/view/Python+for+Programmers,+First+Edition/9780135231364/ch16.xhtml#ch16lev2sec16)"
   ]
  },
  {
   "cell_type": "markdown",
   "metadata": {},
   "source": [
    "<hr style=\"height:2px; border:none; color:#000; background-color:#000;\">"
   ]
  },
  {
   "cell_type": "markdown",
   "metadata": {},
   "source": [
    "## 16.5.2 Summarizing Word Lengths in _Romeo and Juliet_ via MapReduce\n",
    "* To execute this example\n",
    "    * We created a **cloud-based, multi-node cluster of computers** using **Microsoft Azure HDInsight**, which provides **Hadoop as a service**\n",
    "    * Ran our **Hadoop MapReduce** code on that **cluster**\n",
    "* **MapReduce task** \n",
    "    * Determines the **length of each word in `RomeoAndJuliet.txt`** (from the NLP presentation)\n",
    "    * Summarizes **number of words of each length** "
   ]
  },
  {
   "cell_type": "markdown",
   "metadata": {},
   "source": [
    "<hr style=\"height:2px; border:none; color:#000; background-color:#000;\">"
   ]
  },
  {
   "cell_type": "markdown",
   "metadata": {},
   "source": [
    "## 16.5.3 Creating an Apache Hadoop Cluster in Microsoft Azure HDInsight (1 of 2)\n",
    "* **Multi-node cloud-based clusters** typically are **paid** services\n",
    "* We used [**Microsoft Azure’s HDInsight service**](https://azure.microsoft.com/en-us/free) (for Hadoop and Spark) and **new account credit** to create **cloud-based clusters of computers** in which to test our examples\n",
    "    * The **new account credit** was more than enough to test our Hadoop and Spark examples\n",
    "* HDInsight service **requires a credit card** for **identity verification**\n",
    "    * When your **new account credit runs out** or **30 days pass**, cannot use paid services unless you authorize Microsoft to **charge your card**\n",
    "        * **Prevents accidental large bills** for people who are just experimenting"
   ]
  },
  {
   "cell_type": "markdown",
   "metadata": {},
   "source": [
    "<hr style=\"height:2px; border:none; color:#000; background-color:#000;\">"
   ]
  },
  {
   "cell_type": "markdown",
   "metadata": {},
   "source": [
    "## 16.5.3 Creating an Apache Hadoop Cluster in Microsoft Azure HDInsight (2 of 2)\n",
    "* Details on configuring a **low-cost cluster** to try **Hadoop** \n",
    "    * [**Python Fundamentals LiveLessons videos**](https://learning.oreilly.com/videos/python-fundamentals/9780135917411/9780135917411-PFLL_Lesson16_27_pt1) (two videos starting with this one) \n",
    "    * [**Python for Programmers, Section 16.5.3**](https://learning.oreilly.com/library/view/Python+for+Programmers,+First+Edition/9780135231364/ch16.xhtml#ch16lev2sec18) \n",
    "    * Also [see Microsoft’s **recommended cluster configurations**](https://docs.microsoft.com/en-us/azure/hdinsight/hdinsight-component-versioning#default-node-configuration-and-virtual-machine-sizes-for-clusters)\n",
    "* **Caution: Once you allocate a cluster, it incurs costs whether you’re using it or not. So, when you complete this case study, be sure to delete your cluster(s) and other resources, so you don’t incur additional charges.** "
   ]
  },
  {
   "cell_type": "markdown",
   "metadata": {},
   "source": [
    "<hr style=\"height:2px; border:none; color:#000; background-color:#000;\">"
   ]
  },
  {
   "cell_type": "markdown",
   "metadata": {},
   "source": [
    "## 16.5.4 Hadoop Streaming\n",
    "* Hadoop is **Java-based**\n",
    "* Languages like **Python** that are **not natively supported** must use **Hadoop streaming** \n",
    "* **Python MapReduce scripts** communicate with Hadoop via **redirected standard I/O streams**\n",
    "\t* Hadoop redirects **input** to **mapper** script, which reads input from **standard input stream**\n",
    "\t* **Mapper** writes results to **standard output stream**\n",
    "\t* Hadoop redirects **mapper’s output** as **input** to **reducer** script, which reads from the **standard input stream**\n",
    "\t* **Reducer** writes results to **standard output stream** \n",
    "\t* Hadoop writes **reducer’s output** to **HDFS**   "
   ]
  },
  {
   "cell_type": "markdown",
   "metadata": {},
   "source": [
    "<hr style=\"height:2px; border:none; color:#000; background-color:#000;\">"
   ]
  },
  {
   "cell_type": "markdown",
   "metadata": {},
   "source": [
    "## 16.5.5 Implementing the Mapper (1 of 2)\n",
    "* **Mapper** takes **lines of text** as input and **maps** them to **key–value pairs**, each containing a **word length** and **`1`**\n",
    "* **Reducer** will total these **key–value pairs** by key\n",
    "* **Hadoop streaming** expects **mapper’s output** and **reducer’s input/output** to have the form \n",
    "> **_key_`\\t`_value_**\n",
    "* In **`length_mapper.py`**, `#!` tells Hadoop to use Python 3\n",
    "    * Must be first line in the file\n",
    "    * **HDInsight** currently includes **Python 2.7.12** and **Python 3.5.2** \n",
    "    * **Cannot use f-strings** which are **Python 3.6+**"
   ]
  },
  {
   "cell_type": "markdown",
   "metadata": {},
   "source": [
    "<hr style=\"height:2px; border:none; color:#000; background-color:#000;\">"
   ]
  },
  {
   "cell_type": "markdown",
   "metadata": {},
   "source": [
    "## 16.5.5 Implementing the Mapper (2 of 2)\n",
    "\n",
    "```python\n",
    "#!/usr/bin/env python3\n",
    "# length_mapper.py\n",
    "\"\"\"Maps lines of text to key-value pairs of word lengths and 1.\"\"\"\n",
    "import sys\n",
    "\n",
    "def tokenize_input():  # generator function\n",
    "    \"\"\"Split each line of standard input into a list of strings.\"\"\"\n",
    "    for line in sys.stdin:\n",
    "        yield line.split()  \n",
    "\n",
    "# read each line in the the standard input and for every word \n",
    "# produce a key-value pair containing the word, a tab and 1\n",
    "for line in tokenize_input():\n",
    "    for word in line:\n",
    "        print(str(len(word)) + '\\t1')\n",
    "\n",
    "```"
   ]
  },
  {
   "cell_type": "markdown",
   "metadata": {},
   "source": [
    "<hr style=\"height:2px; border:none; color:#000; background-color:#000;\">"
   ]
  },
  {
   "cell_type": "markdown",
   "metadata": {},
   "source": [
    "## 16.5.6 Implementing the Reducer \n",
    "* In **`length_reducer.py`**, function **`tokenize_input`** is a **generator function** that reads and splits the **key–value pairs** produced by the mapper\n",
    "* **MapReduce streaming** supplies the **standard input**\n",
    "* **`groupby` function** (**`itertools` module**) groups inputs by their **keys** (the **word lengths**) \n",
    "* **Total** all the **counts** for a given **key**\n",
    "* Output a new **key–value pair** consisting of the **word length** and its **total**\n",
    "* **MapReduce** takes the **final word-count outputs** and **writes** them to a file in **HDFS**"
   ]
  },
  {
   "cell_type": "markdown",
   "metadata": {},
   "source": [
    "<hr style=\"height:2px; border:none; color:#000; background-color:#000;\">"
   ]
  },
  {
   "cell_type": "markdown",
   "metadata": {},
   "source": [
    "```python\n",
    "#!/usr/bin/env python3\n",
    "# length_reducer.py\n",
    "\"\"\"Counts the number of words with each length.\"\"\"\n",
    "import sys\n",
    "from itertools import groupby\n",
    "from operator import itemgetter\n",
    "\n",
    "def tokenize_input():\n",
    "    \"\"\"Split each line of standard input into a key and a value.\"\"\"\n",
    "    for line in sys.stdin:\n",
    "        yield line.strip().split('\\t')\n",
    "\n",
    "# produce key-value pairs of word lengths and counts separated by tabs\n",
    "for word_length, group in groupby(tokenize_input(), itemgetter(0)):\n",
    "    try:\n",
    "        total = sum(int(count) for word_length, count in group)\n",
    "        print(word_length + '\\t' + str(total))\n",
    "    except ValueError:\n",
    "        pass  # ignore word if its count was not an integer\n",
    "\n",
    "```"
   ]
  },
  {
   "cell_type": "markdown",
   "metadata": {},
   "source": [
    "<hr style=\"height:2px; border:none; color:#000; background-color:#000;\">"
   ]
  },
  {
   "cell_type": "markdown",
   "metadata": {},
   "source": [
    "## 16.5.7 Preparing to Run the MapReduce Example\n",
    "* Must upload scripts and `RomeoAndJuliet.txt` into **HDInsight cluster's file system**\n",
    "* For detailed instructions on doing this, see \n",
    "    * [**Python Fundamentals LiveLessons videos**](https://learning.oreilly.com/videos/python-fundamentals/9780135917411/9780135917411-PFLL_Lesson16_31) \n",
    "    * [**Python for Programmers, Section 16.5.7**](https://learning.oreilly.com/library/view/python-for-programmers/9780135231364/ch16.xhtml#ch16lev2sec22)"
   ]
  },
  {
   "cell_type": "markdown",
   "metadata": {},
   "source": [
    "<hr style=\"height:2px; border:none; color:#000; background-color:#000;\">"
   ]
  },
  {
   "cell_type": "markdown",
   "metadata": {},
   "source": [
    "## 16.5.8 Running the MapReduce Job (1 of 4)\n",
    "* Once files are in the cluster, **run MapReduce job** for **`RomeoAndJuliet.txt`** on your **cluster** by executing the following command in the cluster\n",
    "    * You can copy/paste the command from `yarn.txt` located with this example\n",
    "    * We reformatted the command here for readability: \n",
    "\n",
    "```\n",
    "yarn jar /usr/hdp/current/hadoop-mapreduce-client/hadoop-streaming.jar \n",
    "   -D mapred.output.key.comparator.class=\n",
    "      org.apache.hadoop.mapred.lib.KeyFieldBasedComparator    \n",
    "   -D mapred.text.key.comparator.options=-n   \n",
    "   -files length_mapper.py,length_reducer.py    \n",
    "   -mapper length_mapper.py \n",
    "   -reducer length_reducer.py    \n",
    "   -input /example/data/RomeoAndJuliet.txt    \n",
    "   -output /example/wordlengthsoutput    \n",
    "```"
   ]
  },
  {
   "cell_type": "markdown",
   "metadata": {},
   "source": [
    "<hr style=\"height:2px; border:none; color:#000; background-color:#000;\">"
   ]
  },
  {
   "cell_type": "markdown",
   "metadata": {},
   "source": [
    "## 16.5.8 Running the MapReduce Job (2 of 4)\n",
    "* The **`yarn` command** invokes **Hadoop’s YARN** (“yet another resource negotiator”) tool to manage and coordinate access to the Hadoop resources the **MapReduce task** uses\n",
    "* **`hadoop-streaming.jar`** contains the Java-based **Hadoop streaming utility** that allows you to use Python to implement the **mapper** and **reducer**\n",
    "* The two **`-D` options** set Hadoop properties that enable it to \n",
    "    * **sort the final key–value pairs by key** (**`KeyFieldBasedComparator`**) \n",
    "    * in **descending order (`-`) numerically (`n`)** rather than alphabetically"
   ]
  },
  {
   "cell_type": "markdown",
   "metadata": {},
   "source": [
    "<hr style=\"height:2px; border:none; color:#000; background-color:#000;\">"
   ]
  },
  {
   "cell_type": "markdown",
   "metadata": {},
   "source": [
    "## 16.5.8 Running the MapReduce Job (3 of 4)\n",
    "* Other command-line arguments:\n",
    "\t* **`-files`**—Comma-separated list of scripts that Hadoop copies to every node in the cluster so they can **execute locally on each node**\n",
    "\t* **`-mapper`**—mapper’s script file\n",
    "\t* **`-reducer`**—reducer’s script file\n",
    "\t* **`-input`**—**File** or **directory of files** to supply as **mapper input**\n",
    "\t* **`-output`**—**HDFS directory** where final results will be stored\n",
    "        * **Error** if this folder **already exists**"
   ]
  },
  {
   "cell_type": "markdown",
   "metadata": {},
   "source": [
    "<hr style=\"height:2px; border:none; color:#000; background-color:#000;\">"
   ]
  },
  {
   "cell_type": "markdown",
   "metadata": {},
   "source": [
    "## 16.5.8 Running the MapReduce Job (4 of 4)\n",
    "* Sample **output** shows some **Hadoop feedback** produced as the **MapReduce job executes**\n",
    "    * Used **`...`** to save space \n",
    "* Several lines of interest:\n",
    "\t* The total number of **“input paths to process”**—the **`1` source of input** in this example is **`RomeoAndJuliet.txt`**\n",
    "\t* The **“number of splits”**—`2` in this example, based on the **number of worker nodes** in our **HDInsight cluster**\n",
    "\t* The **percentage completion** dates and times&mdash;**big data jobs** could take minutes, hours, days, ...\n",
    "\t* **`File System Counters`** showing numbers of **bytes read and written**\n",
    "\t* **`Job Counters`** showing the **numbers of mapping and reduction tasks used** \n",
    "\t* **`Map-Reduce Framework`** showing stats about the **steps performed**"
   ]
  },
  {
   "cell_type": "markdown",
   "metadata": {},
   "source": [
    "<hr style=\"height:2px; border:none; color:#000; background-color:#000;\">"
   ]
  },
  {
   "cell_type": "markdown",
   "metadata": {},
   "source": [
    "## Output\n",
    "<pre>\n",
    "packageJobJar: [] [/usr/hdp/2.6.5.3004-13/hadoop-mapreduce/hadoop-streaming-2.7.3.2.6.5.3004-13.jar] /tmp/streamjob2764990629848702405.jar tmpDir=null\n",
    "...\n",
    "18/12/05 16:46:25 INFO mapred.FileInputFormat: <strong>Total input paths to process : 1</strong>\n",
    "18/12/05 16:46:26 INFO mapreduce.JobSubmitter: <strong>number of splits:2</strong>\n",
    "...\n",
    "18/12/05 16:46:26 INFO mapreduce.Job: The url to track the job: http://hn0-paulte.y3nghy5db2kehav5m0opqrjxcb.cx.internal.cloudapp.net:8088/proxy/application_1543953844228_0025/\n",
    "...\n",
    "18/12/05 16:46:35 INFO mapreduce.Job:  <strong>map 0% reduce 0%</strong>\n",
    "18/12/05 16:46:43 INFO mapreduce.Job:  <strong>map 50% reduce 0%</strong>\n",
    "18/12/05 16:46:44 INFO mapreduce.Job:  <strong>map 100% reduce 0%</strong>\n",
    "18/12/05 16:46:48 INFO mapreduce.Job:  <strong>map 100% reduce 100%</strong>\n",
    "18/12/05 16:46:50 INFO mapreduce.Job: Job job_1543953844228_0025 <strong>completed successfully</strong>\n",
    "</pre>"
   ]
  },
  {
   "cell_type": "markdown",
   "metadata": {},
   "source": [
    "<pre>\n",
    "18/12/05 16:46:50 INFO mapreduce.Job: Counters: 49\n",
    "\t<strong>File System Counters</strong>\n",
    "\t\tFILE: Number of bytes read=156411\n",
    "\t\tFILE: Number of bytes written=813764\n",
    "...\n",
    "\t<strong>Job Counters</strong> \n",
    "\t\tLaunched map tasks=2\n",
    "\t\tLaunched reduce tasks=1\n",
    "...\n",
    "\t<strong>Map-Reduce Framework</strong>\n",
    "\t\tMap input records=5260\n",
    "\t\tMap output records=25956\n",
    "\t\tMap output bytes=104493\n",
    "\t\tMap output materialized bytes=156417\n",
    "\t\tInput split bytes=346\n",
    "\t\tCombine input records=0\n",
    "\t\tCombine output records=0\n",
    "\t\tReduce input groups=19\n",
    "\t\tReduce shuffle bytes=156417\n",
    "\t\tReduce input records=25956\n",
    "\t\tReduce output records=19\n",
    "\t\tSpilled Records=51912\n",
    "\t\tShuffled Maps =2\n",
    "\t\tFailed Shuffles=0\n",
    "\t\tMerged Map outputs=2\n",
    "\t\tGC time elapsed (ms)=193\n",
    "\t\tCPU time spent (ms)=4440\n",
    "\t\tPhysical memory (bytes) snapshot=1942798336\n",
    "\t\tVirtual memory (bytes) snapshot=8463282176\n",
    "\t\tTotal committed heap usage (bytes)=3177185280\n",
    "...\n",
    "18/12/05 16:46:50 INFO streaming.StreamJob: Output directory: /example/wordlengthsoutput\n",
    "</pre>"
   ]
  },
  {
   "cell_type": "markdown",
   "metadata": {},
   "source": [
    "<hr style=\"height:2px; border:none; color:#000; background-color:#000;\">"
   ]
  },
  {
   "cell_type": "markdown",
   "metadata": {},
   "source": [
    "### Viewing the Word Counts\n",
    "* **Hadoop MapReduce** saves its output into **HDFS**\n",
    "* To **view final word counts** you must look at the **file in cluster's HDFS**\n",
    "> ```\n",
    "hdfs dfs -text /example/wordlengthsoutput/part-00000\n",
    "```\n",
    "\n",
    "```\n",
    "18/12/05 16:47:19 INFO lzo.GPLNativeCodeLoader: Loaded native gpl library\n",
    "18/12/05 16:47:19 INFO lzo.LzoCodec: Successfully loaded & initialized native-lzo library [hadoop-lzo rev b5efb3e531bc1558201462b8ab15bb412ffa6b89]\n",
    "1\t4699\n",
    "2\t3869\n",
    "3\t5651\n",
    "4\t3668\n",
    "5\t2719\n",
    "6\t1624\n",
    "7\t1140\n",
    "8\t1062\n",
    "9\t855\n",
    "10\t317\n",
    "11\t189\n",
    "12\t95\n",
    "13\t35\n",
    "14\t13\n",
    "15\t9\n",
    "16\t6\n",
    "17\t3\n",
    "18\t1\n",
    "23\t1\n",
    "```"
   ]
  },
  {
   "cell_type": "markdown",
   "metadata": {},
   "source": [
    "<hr style=\"height:2px; border:none; color:#000; background-color:#000;\">"
   ]
  },
  {
   "cell_type": "markdown",
   "metadata": {},
   "source": [
    "### IMPORTANT: Deleting Your Cluster So You Do Not Incur Charges\n",
    "* **Be sure to delete your cluster(s) and associated resources (like storage) so you don’t incur additional charges** \n",
    "    * For details on deleting the cluster, see my [**Python Fundamentals LiveLessons videos**](https://learning.oreilly.com/videos/python-fundamentals/9780135917411/9780135917411-PFLL_Lesson16_32) (deleting is discussed around the 9:00 minute mark) and in [**Python for Programmers, Section 16.5.8**](https://learning.oreilly.com/library/view/python-for-programmers/9780135231364/ch16.xhtml#ch16lev2sec23)\n",
    "* [More information](https://docs.microsoft.com/en-us/azure/azure-resource-manager/resource-group-portal)"
   ]
  },
  {
   "cell_type": "markdown",
   "metadata": {},
   "source": [
    "<hr style=\"height:2px; border:none; color:#000; background-color:#000;\">"
   ]
  },
  {
   "cell_type": "markdown",
   "metadata": {},
   "source": [
    "### Lecture Note: Switch to **jupyter/pyspark-notebook Docker stack** for Spark presentation"
   ]
  },
  {
   "cell_type": "markdown",
   "metadata": {},
   "source": [
    "<hr style=\"height:2px; border:none; color:#000; background-color:#000;\">"
   ]
  },
  {
   "cell_type": "markdown",
   "metadata": {},
   "source": [
    "&copy; 2019 by Pearson Education, Inc. All Rights Reserved. The content in this notebook is based on the book [**Python for Programmers**](https://amzn.to/2VvdnxE)."
   ]
  }
 ],
 "metadata": {
  "kernelspec": {
   "display_name": "Python 3",
   "language": "python",
   "name": "python3"
  },
  "language_info": {
   "codemirror_mode": {
    "name": "ipython",
    "version": 3
   },
   "file_extension": ".py",
   "mimetype": "text/x-python",
   "name": "python",
   "nbconvert_exporter": "python",
   "pygments_lexer": "ipython3",
   "version": "3.7.3"
  }
 },
 "nbformat": 4,
 "nbformat_minor": 4
}
