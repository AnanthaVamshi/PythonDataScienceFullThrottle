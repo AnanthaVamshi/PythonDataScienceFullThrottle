{
 "cells": [
  {
   "cell_type": "markdown",
   "metadata": {},
   "source": [
    "&copy; 2019 by Pearson Education, Inc. All Rights Reserved. The content in this notebook is based on the book [**Python for Programmers**](https://amzn.to/2VvdnxE)."
   ]
  },
  {
   "cell_type": "markdown",
   "metadata": {},
   "source": [
    "# 16. Big Data: Hadoop, Spark, NoSQL and IoT "
   ]
  },
  {
   "cell_type": "code",
   "execution_count": 1,
   "metadata": {},
   "outputs": [],
   "source": [
    "# enable high-res images in notebook \n",
    "%config InlineBackend.figure_format = 'retina'\n",
    "%matplotlib inline"
   ]
  },
  {
   "cell_type": "markdown",
   "metadata": {},
   "source": [
    "# 16.1 Introduction\n",
    "### Big Data\n",
    "* Previous data-science case studies all focused on AI\n",
    "* Here, we focus on the **big-data infrastructure that supports AI solutions**\n",
    "* As **data grows exponentially**, we want to **learn** from that data&mdash;and at **blazing speed**\n",
    "* Done with **sophisticated algorithms**, hardware, software and networking designs\n",
    "* With **big data**, **machine learning** and **deep learning** can be even **more effective**"
   ]
  },
  {
   "cell_type": "markdown",
   "metadata": {},
   "source": [
    "<hr style=\"height:2px; border:none; color:#000; background-color:#000;\">"
   ]
  },
  {
   "cell_type": "markdown",
   "metadata": {},
   "source": [
    "# 16.3 NoSQL Big-Data Databases (1 of 2)\n",
    "* **Relational databases** store data in rectangular **tables**\n",
    "* **Not efficient** as **data volume** and the numbers of **tables** and **relationships between them** increases\n",
    "* Most data produced today is \n",
    "    * **Unstructured**&mdash;**photos**, **videos** and **natural language** (social-media posts, texts, ...), or\n",
    "    * **Semi-structured**&mdash;**JSON** and **XML** documents\n",
    "* **Metadata** adds structure to **unstructured data**, making it **semi-structured**\n",
    "    * **Tweets** (as you saw earlier)\n",
    "    * **YouTube videos**&mdash;**who posted** and **when**, **title**, **description**, ..."
   ]
  },
  {
   "cell_type": "markdown",
   "metadata": {},
   "source": [
    "<hr style=\"height:2px; border:none; color:#000; background-color:#000;\">"
   ]
  },
  {
   "cell_type": "markdown",
   "metadata": {},
   "source": [
    "# 16.3 NoSQL Big-Data Databases (2 of 2)\n",
    "* **NoSQL databases** are designed for \n",
    "    * **unstructured** and **semi-structured big-data** \n",
    "    * big data **storage and processing demands**\n",
    "* **Big data** requires **massive databases**, which can be spread across data centers worldwide in huge **clusters** of commodity computers\n",
    "* The name **NoSQL** originally meant what its name implies\n",
    "* With **growing use of SQL in big data**—such as **SQL on Hadoop** and **Spark SQL**—now it's said to stand for **“Not Only SQL”** "
   ]
  },
  {
   "cell_type": "markdown",
   "metadata": {},
   "source": [
    "<hr style=\"height:2px; border:none; color:#000; background-color:#000;\">"
   ]
  },
  {
   "cell_type": "markdown",
   "metadata": {},
   "source": [
    "### Four Major Types of **NoSQL Databases**\n",
    "* **key–value**\n",
    "* **document**\n",
    "* **columnar**\n",
    "* **graph**\n",
    "* Our NoSQL case study uses **MongoDB document database** &mdash; the most popular NoSQL database\n",
    "* **Overviews** of the **NoSQL database types** \n",
    "    * [**Python Fundamentals LiveLessons videos**](https://learning.oreilly.com/videos/python-fundamentals/9780135917411/9780135917411-PFLL_Lesson16_20) \n",
    "    * [**Python for Programmers, Section 16.3**](https://learning.oreilly.com/library/view/python-for-programmers/9780135231364/ch16.xhtml#ch16lev1sec3)"
   ]
  },
  {
   "cell_type": "markdown",
   "metadata": {},
   "source": [
    "<hr style=\"height:2px; border:none; color:#000; background-color:#000;\">"
   ]
  },
  {
   "cell_type": "markdown",
   "metadata": {},
   "source": [
    "# 16.4 Case Study: A MongoDB JSON Document Database \n",
    "* Store and search **JSON** for **streamed tweets** about **100 U.S. senators**\n",
    "* Summarize **top 10** by **tweet count**\n",
    "* Display **interactive map** containing **tweet count summaries**\n",
    "* I **pre-executed this example** because we stream 10,000 tweets, which can take substantial time \n",
    "* **Possible enhancement** &mdash; Use **sentiment analysis** to count **positive**, **negative** and **neutral tweets** mentioning each senator’s **handle**"
   ]
  },
  {
   "cell_type": "markdown",
   "metadata": {},
   "source": [
    "<hr style=\"height:2px; border:none; color:#000; background-color:#000;\">"
   ]
  },
  {
   "cell_type": "markdown",
   "metadata": {},
   "source": [
    "### Free Cloud-Based MongoDB Atlas Cluster \n",
    "* Requires **no installation** \n",
    "* Store up to **512MB of data**\n",
    "* Can store more with\n",
    "    * [**Free MongoDB Community Server**](https://www.mongodb.com/download-center/community), or \n",
    "    * **Paid MongoDB Atlas account**\n",
    "* **Creating your MongoDB Atlas cluster**\n",
    "    * I discuss the details of **signing up** for a MongoDB account, **creating the MongoDB Atlas Cluster**, **configuring** it and getting your **connection string** in my [**Python Fundamentals LiveLessons videos**](https://learning.oreilly.com/videos/python-fundamentals/9780135917411/9780135917411-PFLL_Lesson16_22https://learning.oreilly.com/videos/python-fundamentals/9780135917411) and in [**Python for Programmers, Section 16.4.1**](https://learning.oreilly.com/library/view/Python+for+Programmers,+First+Edition/9780135231364/ch16.xhtml#ch16lev2sec14)"
   ]
  },
  {
   "cell_type": "markdown",
   "metadata": {},
   "source": [
    "<hr style=\"height:2px; border:none; color:#000; background-color:#000;\">"
   ]
  },
  {
   "cell_type": "markdown",
   "metadata": {},
   "source": [
    "### Python Libraries Required for Interacting with MongoDB\n",
    "```\n",
    "conda install -c conda-forge pymongo\n",
    "conda install -c conda-forge dnspython\n",
    "```\n",
    "* **`pymongo` library** &mdash; interact with **MongoDB databases** from Python\n",
    "* **`dnspython` library** &mdash; used as part of connecting to a **MongoDB Atlas Cluster**"
   ]
  },
  {
   "cell_type": "markdown",
   "metadata": {},
   "source": [
    "<hr style=\"height:2px; border:none; color:#000; background-color:#000;\">"
   ]
  },
  {
   "cell_type": "markdown",
   "metadata": {},
   "source": [
    "### keys.py \n",
    "* **`keys.py`** must contain \n",
    "    * your **Twitter credentials** \n",
    "    * your **OpenMapQuest key** \n",
    "    * Your **MongoDB connection string** "
   ]
  },
  {
   "cell_type": "markdown",
   "metadata": {},
   "source": [
    "<hr style=\"height:2px; border:none; color:#000; background-color:#000;\">"
   ]
  },
  {
   "cell_type": "markdown",
   "metadata": {},
   "source": [
    "## 16.4.2 Streaming Tweets into MongoDB\n",
    "### Use Tweepy to Authenticate with Twitter and Get the API Object"
   ]
  },
  {
   "cell_type": "code",
   "execution_count": 2,
   "metadata": {},
   "outputs": [],
   "source": [
    "import tweepy, keys"
   ]
  },
  {
   "cell_type": "code",
   "execution_count": 3,
   "metadata": {},
   "outputs": [],
   "source": [
    "auth = tweepy.OAuthHandler(\n",
    "    keys.consumer_key, keys.consumer_secret)\n",
    "auth.set_access_token(keys.access_token, \n",
    "    keys.access_token_secret)"
   ]
  },
  {
   "cell_type": "code",
   "execution_count": 4,
   "metadata": {},
   "outputs": [],
   "source": [
    "api = tweepy.API(auth, wait_on_rate_limit=True, \n",
    "                 wait_on_rate_limit_notify=True)               "
   ]
  },
  {
   "cell_type": "markdown",
   "metadata": {},
   "source": [
    "<hr style=\"height:2px; border:none; color:#000; background-color:#000;\">"
   ]
  },
  {
   "cell_type": "markdown",
   "metadata": {},
   "source": [
    "### Loading the Senators’ Data (1 of 2)\n",
    "* **`senators.csv`** (provided in notebook's folder) contains each senator's \n",
    "    * two-letter state code\n",
    "    * name\n",
    "    * party \n",
    "    * Twitter handle\n",
    "    * Twitter ID\n",
    "* **Twitter handle and ID** used to track tweets **to**, **from** and **mentioning** each senator \n",
    "* When following users via **numeric Twitter IDs**, must submit IDs as **strings**"
   ]
  },
  {
   "cell_type": "markdown",
   "metadata": {},
   "source": [
    "<hr style=\"height:2px; border:none; color:#000; background-color:#000;\">"
   ]
  },
  {
   "cell_type": "markdown",
   "metadata": {},
   "source": [
    "### Loading the Senators’ Data (2 of 2)"
   ]
  },
  {
   "cell_type": "code",
   "execution_count": 5,
   "metadata": {},
   "outputs": [],
   "source": [
    "import pandas as pd"
   ]
  },
  {
   "cell_type": "code",
   "execution_count": 6,
   "metadata": {},
   "outputs": [],
   "source": [
    "senators_df = pd.read_csv('senators.csv')"
   ]
  },
  {
   "cell_type": "code",
   "execution_count": 7,
   "metadata": {},
   "outputs": [],
   "source": [
    "senators_df['TwitterID'] = senators_df['TwitterID'].astype(str)"
   ]
  },
  {
   "cell_type": "code",
   "execution_count": 8,
   "metadata": {},
   "outputs": [
    {
     "data": {
      "text/html": [
       "<div>\n",
       "<style scoped>\n",
       "    .dataframe tbody tr th:only-of-type {\n",
       "        vertical-align: middle;\n",
       "    }\n",
       "\n",
       "    .dataframe tbody tr th {\n",
       "        vertical-align: top;\n",
       "    }\n",
       "\n",
       "    .dataframe thead th {\n",
       "        text-align: right;\n",
       "    }\n",
       "</style>\n",
       "<table border=\"1\" class=\"dataframe\">\n",
       "  <thead>\n",
       "    <tr style=\"text-align: right;\">\n",
       "      <th></th>\n",
       "      <th>State</th>\n",
       "      <th>Name</th>\n",
       "      <th>Party</th>\n",
       "      <th>TwitterHandle</th>\n",
       "      <th>TwitterID</th>\n",
       "    </tr>\n",
       "  </thead>\n",
       "  <tbody>\n",
       "    <tr>\n",
       "      <th>0</th>\n",
       "      <td>AL</td>\n",
       "      <td>Richard Shelby</td>\n",
       "      <td>R</td>\n",
       "      <td>SenShelby</td>\n",
       "      <td>21111098</td>\n",
       "    </tr>\n",
       "    <tr>\n",
       "      <th>1</th>\n",
       "      <td>AL</td>\n",
       "      <td>Doug Jomes</td>\n",
       "      <td>D</td>\n",
       "      <td>SenDougJones</td>\n",
       "      <td>941080085121175552</td>\n",
       "    </tr>\n",
       "    <tr>\n",
       "      <th>2</th>\n",
       "      <td>AK</td>\n",
       "      <td>Lisa Murkowski</td>\n",
       "      <td>R</td>\n",
       "      <td>lisamurkowski</td>\n",
       "      <td>18061669</td>\n",
       "    </tr>\n",
       "    <tr>\n",
       "      <th>3</th>\n",
       "      <td>AK</td>\n",
       "      <td>Dan Sullivan</td>\n",
       "      <td>R</td>\n",
       "      <td>SenDanSullivan</td>\n",
       "      <td>2891210047</td>\n",
       "    </tr>\n",
       "    <tr>\n",
       "      <th>4</th>\n",
       "      <td>AZ</td>\n",
       "      <td>Martha McSally</td>\n",
       "      <td>R</td>\n",
       "      <td>SenMcSallyAZ</td>\n",
       "      <td>2964949642</td>\n",
       "    </tr>\n",
       "  </tbody>\n",
       "</table>\n",
       "</div>"
      ],
      "text/plain": [
       "  State            Name Party   TwitterHandle           TwitterID\n",
       "0    AL  Richard Shelby     R       SenShelby            21111098\n",
       "1    AL      Doug Jomes     D    SenDougJones  941080085121175552\n",
       "2    AK  Lisa Murkowski     R   lisamurkowski            18061669\n",
       "3    AK    Dan Sullivan     R  SenDanSullivan          2891210047\n",
       "4    AZ  Martha McSally     R    SenMcSallyAZ          2964949642"
      ]
     },
     "execution_count": 8,
     "metadata": {},
     "output_type": "execute_result"
    }
   ],
   "source": [
    "senators_df.head()"
   ]
  },
  {
   "cell_type": "markdown",
   "metadata": {},
   "source": [
    "<hr style=\"height:2px; border:none; color:#000; background-color:#000;\">"
   ]
  },
  {
   "cell_type": "markdown",
   "metadata": {},
   "source": [
    "### Configuring the `pymongo` `MongoClient` "
   ]
  },
  {
   "cell_type": "code",
   "execution_count": 9,
   "metadata": {},
   "outputs": [],
   "source": [
    "from pymongo import MongoClient"
   ]
  },
  {
   "cell_type": "code",
   "execution_count": 10,
   "metadata": {},
   "outputs": [],
   "source": [
    "atlas_client = MongoClient(keys.mongo_connection_string)"
   ]
  },
  {
   "cell_type": "markdown",
   "metadata": {},
   "source": [
    "<hr style=\"height:2px; border:none; color:#000; background-color:#000;\">"
   ]
  },
  {
   "cell_type": "markdown",
   "metadata": {},
   "source": [
    "### Get **`pymongo` `Database`** Object Representing the `senators` Database\n",
    "* **Creates the database** if it does not exist\n",
    "* Will be used to store the collection of **tweet JSON documents**"
   ]
  },
  {
   "cell_type": "code",
   "execution_count": 11,
   "metadata": {},
   "outputs": [],
   "source": [
    "db = atlas_client.senators "
   ]
  },
  {
   "cell_type": "markdown",
   "metadata": {},
   "source": [
    "### Setting up Tweet Stream\n",
    "* **`TweetListener`** uses the **`db` object** representing the **senators database** to store tweets \n",
    "    * Depending on the rate at which people are tweeting about the senators, it may take **minutes to hours** to get **10,000 tweets**"
   ]
  },
  {
   "cell_type": "code",
   "execution_count": 12,
   "metadata": {},
   "outputs": [],
   "source": [
    "from tweetlistener import TweetListener"
   ]
  },
  {
   "cell_type": "code",
   "execution_count": 13,
   "metadata": {},
   "outputs": [],
   "source": [
    "tweet_limit = 10000"
   ]
  },
  {
   "cell_type": "code",
   "execution_count": 14,
   "metadata": {},
   "outputs": [],
   "source": [
    "twitter_stream = tweepy.Stream(api.auth, \n",
    "    TweetListener(api, db, tweet_limit)) "
   ]
  },
  {
   "cell_type": "markdown",
   "metadata": {},
   "source": [
    "<hr style=\"height:2px; border:none; color:#000; background-color:#000;\">"
   ]
  },
  {
   "cell_type": "markdown",
   "metadata": {},
   "source": [
    "### Starting the Live Tweet Stream\n",
    "* Currently, can **track** up to **400 keywords** and **follow** up to **5,000 Twitter IDs** at a time\n",
    "    * **`track`** senators’ Twitter handles as keywords\n",
    "    * **`follow`** their **IDs**  \n",
    "* Together, this will get tweets **from**, **to** and **about** each senator"
   ]
  },
  {
   "cell_type": "code",
   "execution_count": 15,
   "metadata": {},
   "outputs": [
    {
     "name": "stdout",
     "output_type": "stream",
     "text": [
      "    Screen name: Horseandcowgirl\n",
      "     Created at: Mon Jun 15 17:11:44 +0000 2020\n",
      "Tweets received: 10000\n"
     ]
    }
   ],
   "source": [
    "twitter_stream.filter(track=senators_df.TwitterHandle.tolist(),\n",
    "    follow=senators_df.TwitterID.tolist())"
   ]
  },
  {
   "cell_type": "markdown",
   "metadata": {},
   "source": [
    "<hr style=\"height:2px; border:none; color:#000; background-color:#000;\">"
   ]
  },
  {
   "cell_type": "markdown",
   "metadata": {},
   "source": [
    "### Class `TweetListener` "
   ]
  },
  {
   "cell_type": "markdown",
   "metadata": {},
   "source": [
    "```python\n",
    "# tweetlistener.py\n",
    "\"\"\"TweetListener downloads tweets and stores them in MongoDB.\"\"\"\n",
    "import json\n",
    "import tweepy\n",
    "from IPython.display import clear_output\n",
    "\n",
    "class TweetListener(tweepy.StreamListener):\n",
    "    \"\"\"Handles incoming Tweet stream.\"\"\"\n",
    "\n",
    "```"
   ]
  },
  {
   "cell_type": "markdown",
   "metadata": {},
   "source": [
    "```python\n",
    "    def __init__(self, api, database, limit=10000):\n",
    "        \"\"\"Create instance variables for tracking number of tweets.\"\"\"\n",
    "        self.db = database\n",
    "        self.tweet_count = 0\n",
    "        self.TWEET_LIMIT = limit  # 10,000 by default\n",
    "        super().__init__(api)  # call superclass's init\n",
    "\n",
    "    def on_connect(self):\n",
    "        \"\"\"Called when your connection attempt is successful, enabling \n",
    "        you to perform appropriate application tasks at that point.\"\"\"\n",
    "        print('Successfully connected to Twitter\\n')\n",
    "\n",
    "```"
   ]
  },
  {
   "cell_type": "markdown",
   "metadata": {},
   "source": [
    "```python\n",
    "    def on_data(self, data):\n",
    "        \"\"\"Called when Twitter pushes a new tweet to you.\"\"\"\n",
    "        self.tweet_count += 1  # track number of tweets processed\n",
    "        json_data = json.loads(data)  # convert string to JSON\n",
    "        self.db.tweets.insert_one(json_data)  # store in tweets collection\n",
    "        clear_output()  # ADDED: show one tweet at a time in Jupyter Notebook\n",
    "        print(f'    Screen name: {json_data[\"user\"][\"name\"]}') \n",
    "        print(f'     Created at: {json_data[\"created_at\"]}')         \n",
    "        print(f'Tweets received: {self.tweet_count}')         \n",
    "\n",
    "        # if TWEET_LIMIT is reached, return False to terminate streaming\n",
    "        return self.tweet_count < self.TWEET_LIMIT\n",
    "    \n",
    "    def on_error(self, status):\n",
    "        print(status)\n",
    "        return True\n",
    "```"
   ]
  },
  {
   "cell_type": "markdown",
   "metadata": {},
   "source": [
    "<hr style=\"height:2px; border:none; color:#000; background-color:#000;\">"
   ]
  },
  {
   "cell_type": "markdown",
   "metadata": {},
   "source": [
    "### Counting Tweets for Each Senator (1 of 2)\n",
    "* MongoDB **text search** requires a **text index** specifying **document field(s) to search** \n",
    "\t* MongoDB [index types](https://docs.mongodb.com/manual/indexes), [text indexes](https://docs.mongodb.com/manual/core/index-text) and [operators](https://docs.mongodb.com/manual/reference/operator)\n",
    "* A **text index** is defined as a **tuple** containing **field name** to search and **index type** (`'text'`)\n",
    "* **Wildcard field name (\\$\\*\\*)** indexes **all** text fields for a **full-text search**"
   ]
  },
  {
   "cell_type": "code",
   "execution_count": 16,
   "metadata": {},
   "outputs": [
    {
     "data": {
      "text/plain": [
       "'$**_text'"
      ]
     },
     "execution_count": 16,
     "metadata": {},
     "output_type": "execute_result"
    }
   ],
   "source": [
    "db.tweets.create_index([('$**', 'text')])"
   ]
  },
  {
   "cell_type": "markdown",
   "metadata": {},
   "source": [
    "<hr style=\"height:2px; border:none; color:#000; background-color:#000;\">"
   ]
  },
  {
   "cell_type": "markdown",
   "metadata": {},
   "source": [
    "### Counting Tweets for Each Senator (2 of 2)\n",
    "* Use **`tweets` `Collection`’s `count_documents` method** and **full-text search** to count the total number of documents in the collection that contain the specified text\n",
    "    * Find every **twitter handle** in `senators_df.TwitterHandle` column\n",
    "    * `{\"$text\": {\"$search\": senator}}` indicates that we’re **using the `text` index** to **`search`** for the value of **`senator`**"
   ]
  },
  {
   "cell_type": "code",
   "execution_count": 17,
   "metadata": {},
   "outputs": [],
   "source": [
    "tweet_counts = []"
   ]
  },
  {
   "cell_type": "code",
   "execution_count": 18,
   "metadata": {},
   "outputs": [],
   "source": [
    "for senator in senators_df.TwitterHandle:\n",
    "    tweet_counts.append(db.tweets.count_documents(\n",
    "        {\"$text\": {\"$search\": senator}}))"
   ]
  },
  {
   "cell_type": "markdown",
   "metadata": {},
   "source": [
    "<hr style=\"height:2px; border:none; color:#000; background-color:#000;\">"
   ]
  },
  {
   "cell_type": "markdown",
   "metadata": {},
   "source": [
    "### Show Tweet Counts for Each Senator \n",
    "* Create copy of **`DataFrame` `senators_df`** adding a new column of **`tweet_counts`** \n",
    "* Display the **top-10 senators by tweet count**"
   ]
  },
  {
   "cell_type": "code",
   "execution_count": 19,
   "metadata": {},
   "outputs": [],
   "source": [
    "tweet_counts_df = senators_df.assign(Tweets=tweet_counts)  "
   ]
  },
  {
   "cell_type": "code",
   "execution_count": 20,
   "metadata": {},
   "outputs": [
    {
     "data": {
      "text/html": [
       "<div>\n",
       "<style scoped>\n",
       "    .dataframe tbody tr th:only-of-type {\n",
       "        vertical-align: middle;\n",
       "    }\n",
       "\n",
       "    .dataframe tbody tr th {\n",
       "        vertical-align: top;\n",
       "    }\n",
       "\n",
       "    .dataframe thead th {\n",
       "        text-align: right;\n",
       "    }\n",
       "</style>\n",
       "<table border=\"1\" class=\"dataframe\">\n",
       "  <thead>\n",
       "    <tr style=\"text-align: right;\">\n",
       "      <th></th>\n",
       "      <th>State</th>\n",
       "      <th>Name</th>\n",
       "      <th>Party</th>\n",
       "      <th>TwitterHandle</th>\n",
       "      <th>TwitterID</th>\n",
       "      <th>Tweets</th>\n",
       "    </tr>\n",
       "  </thead>\n",
       "  <tbody>\n",
       "    <tr>\n",
       "      <th>78</th>\n",
       "      <td>SC</td>\n",
       "      <td>Lindsey Graham</td>\n",
       "      <td>R</td>\n",
       "      <td>LindseyGrahamSC</td>\n",
       "      <td>432895323</td>\n",
       "      <td>1645</td>\n",
       "    </tr>\n",
       "    <tr>\n",
       "      <th>41</th>\n",
       "      <td>MA</td>\n",
       "      <td>Elizabeth Warren</td>\n",
       "      <td>D</td>\n",
       "      <td>SenWarren</td>\n",
       "      <td>970207298</td>\n",
       "      <td>1193</td>\n",
       "    </tr>\n",
       "    <tr>\n",
       "      <th>62</th>\n",
       "      <td>NY</td>\n",
       "      <td>Chuck Schumer</td>\n",
       "      <td>D</td>\n",
       "      <td>SenSchumer</td>\n",
       "      <td>17494010</td>\n",
       "      <td>883</td>\n",
       "    </tr>\n",
       "    <tr>\n",
       "      <th>20</th>\n",
       "      <td>HI</td>\n",
       "      <td>Brian Schatz</td>\n",
       "      <td>D</td>\n",
       "      <td>brianschatz</td>\n",
       "      <td>47747074</td>\n",
       "      <td>882</td>\n",
       "    </tr>\n",
       "    <tr>\n",
       "      <th>32</th>\n",
       "      <td>KY</td>\n",
       "      <td>Mitch McConnell</td>\n",
       "      <td>R</td>\n",
       "      <td>SenateMajLdr</td>\n",
       "      <td>1249982359</td>\n",
       "      <td>755</td>\n",
       "    </tr>\n",
       "    <tr>\n",
       "      <th>37</th>\n",
       "      <td>ME</td>\n",
       "      <td>Susan Collins</td>\n",
       "      <td>R</td>\n",
       "      <td>SenatorCollins</td>\n",
       "      <td>19726613</td>\n",
       "      <td>712</td>\n",
       "    </tr>\n",
       "    <tr>\n",
       "      <th>9</th>\n",
       "      <td>CA</td>\n",
       "      <td>Kamala Harris</td>\n",
       "      <td>D</td>\n",
       "      <td>SenKamalaHarris</td>\n",
       "      <td>803694179079458816</td>\n",
       "      <td>626</td>\n",
       "    </tr>\n",
       "    <tr>\n",
       "      <th>85</th>\n",
       "      <td>TX</td>\n",
       "      <td>Ted Cruz</td>\n",
       "      <td>R</td>\n",
       "      <td>SenTedCruz</td>\n",
       "      <td>1074480192</td>\n",
       "      <td>500</td>\n",
       "    </tr>\n",
       "    <tr>\n",
       "      <th>6</th>\n",
       "      <td>AR</td>\n",
       "      <td>Tom Cotton</td>\n",
       "      <td>R</td>\n",
       "      <td>SenTomCotton</td>\n",
       "      <td>968650362</td>\n",
       "      <td>410</td>\n",
       "    </tr>\n",
       "    <tr>\n",
       "      <th>79</th>\n",
       "      <td>SC</td>\n",
       "      <td>Tim Scott</td>\n",
       "      <td>R</td>\n",
       "      <td>SenatorTimScott</td>\n",
       "      <td>217543151</td>\n",
       "      <td>370</td>\n",
       "    </tr>\n",
       "  </tbody>\n",
       "</table>\n",
       "</div>"
      ],
      "text/plain": [
       "   State              Name Party    TwitterHandle           TwitterID  Tweets\n",
       "78    SC    Lindsey Graham     R  LindseyGrahamSC           432895323    1645\n",
       "41    MA  Elizabeth Warren     D        SenWarren           970207298    1193\n",
       "62    NY     Chuck Schumer     D       SenSchumer            17494010     883\n",
       "20    HI      Brian Schatz     D      brianschatz            47747074     882\n",
       "32    KY   Mitch McConnell     R     SenateMajLdr          1249982359     755\n",
       "37    ME     Susan Collins     R   SenatorCollins            19726613     712\n",
       "9     CA     Kamala Harris     D  SenKamalaHarris  803694179079458816     626\n",
       "85    TX          Ted Cruz     R       SenTedCruz          1074480192     500\n",
       "6     AR        Tom Cotton     R     SenTomCotton           968650362     410\n",
       "79    SC         Tim Scott     R  SenatorTimScott           217543151     370"
      ]
     },
     "execution_count": 20,
     "metadata": {},
     "output_type": "execute_result"
    }
   ],
   "source": [
    "tweet_counts_df.sort_values(by='Tweets', ascending=False).head(10)"
   ]
  },
  {
   "cell_type": "markdown",
   "metadata": {},
   "source": [
    "<hr style=\"height:2px; border:none; color:#000; background-color:#000;\">"
   ]
  },
  {
   "cell_type": "markdown",
   "metadata": {},
   "source": [
    "### Get the State Locations for Plotting Markers (1 of 3)\n",
    "* Get each **state’s latitude and longitude** coordinates for **plotting on a map**\n",
    "* **`state_codes.py`** contains a dictionary that maps **two-letter state codes** to **full state names**\n",
    "    * Used with **`geopy`** to look up the location of each state"
   ]
  },
  {
   "cell_type": "code",
   "execution_count": 21,
   "metadata": {},
   "outputs": [],
   "source": [
    "from geopy import OpenMapQuest"
   ]
  },
  {
   "cell_type": "code",
   "execution_count": 22,
   "metadata": {},
   "outputs": [],
   "source": [
    "import time"
   ]
  },
  {
   "cell_type": "code",
   "execution_count": 23,
   "metadata": {},
   "outputs": [],
   "source": [
    "from state_codes import state_codes"
   ]
  },
  {
   "cell_type": "markdown",
   "metadata": {},
   "source": [
    "* Get the **`geocoder` object** to **translate location names** into **`Location` objects**"
   ]
  },
  {
   "cell_type": "code",
   "execution_count": 24,
   "metadata": {},
   "outputs": [],
   "source": [
    "geo = OpenMapQuest(api_key=keys.mapquest_key) "
   ]
  },
  {
   "cell_type": "markdown",
   "metadata": {},
   "source": [
    "<hr style=\"height:2px; border:none; color:#000; background-\n",
    "color:#000;\">"
   ]
  },
  {
   "cell_type": "markdown",
   "metadata": {},
   "source": [
    "### Get the State Locations for Plotting Markers (2 of 3)\n",
    "* Get and sort the unique state names"
   ]
  },
  {
   "cell_type": "code",
   "execution_count": 25,
   "metadata": {},
   "outputs": [],
   "source": [
    "states = tweet_counts_df.State.unique()  # get unique state names"
   ]
  },
  {
   "cell_type": "code",
   "execution_count": 26,
   "metadata": {},
   "outputs": [],
   "source": [
    "states.sort() "
   ]
  },
  {
   "cell_type": "markdown",
   "metadata": {},
   "source": [
    "<hr style=\"height:2px; border:none; color:#000; background-color:#000;\">"
   ]
  },
  {
   "cell_type": "markdown",
   "metadata": {},
   "source": [
    "### Get the State Locations for Plotting Markers (3 of 3)\n",
    "* Look up **each state’s location**\n",
    "* Call `geocode` with state name followed by `', USA'` \n",
    "    * Ensures that we get United States locations"
   ]
  },
  {
   "cell_type": "code",
   "execution_count": 27,
   "metadata": {},
   "outputs": [],
   "source": [
    "locations = []"
   ]
  },
  {
   "cell_type": "code",
   "execution_count": 28,
   "metadata": {},
   "outputs": [
    {
     "name": "stdout",
     "output_type": "stream",
     "text": [
      "Wyoming, United States of America\n"
     ]
    }
   ],
   "source": [
    "from IPython.display import clear_output\n",
    "\n",
    "for state in states:\n",
    "    processed = False\n",
    "    delay = .1 \n",
    "    while not processed:\n",
    "        try: \n",
    "            locations.append(geo.geocode(state_codes[state] + ', USA'))\n",
    "            clear_output()  # clear cell's current output before showing next one\n",
    "            print(locations[-1])  \n",
    "            processed = True\n",
    "        except:  # timed out, so wait before trying again\n",
    "            print('OpenMapQuest service timed out. Waiting.')\n",
    "            time.sleep(delay)\n",
    "            delay += .1"
   ]
  },
  {
   "cell_type": "markdown",
   "metadata": {},
   "source": [
    "<hr style=\"height:2px; border:none; color:#000; background-color:#000;\">"
   ]
  },
  {
   "cell_type": "markdown",
   "metadata": {},
   "source": [
    "### Grouping the Tweet Counts by State \n",
    "* **Tweet total** for a states' two senators is used to **color the map**\n",
    "    * **Darker colors** represent **higher tweet counts**\n",
    "* **`DataFrame` method `groupby`** to group the senators by state \n",
    "    * **`as_index=False`**&mdash;state codes should be a column in returned **`GroupBy`** object, rather than indices for the object's rows\n",
    "* **`GroupBy`** object's **`sum`** method totals the numeric data by state"
   ]
  },
  {
   "cell_type": "code",
   "execution_count": 29,
   "metadata": {},
   "outputs": [],
   "source": [
    "tweets_counts_by_state = tweet_counts_df.groupby(\n",
    "    'State', as_index=False).sum()"
   ]
  },
  {
   "cell_type": "code",
   "execution_count": 30,
   "metadata": {},
   "outputs": [
    {
     "data": {
      "text/html": [
       "<div>\n",
       "<style scoped>\n",
       "    .dataframe tbody tr th:only-of-type {\n",
       "        vertical-align: middle;\n",
       "    }\n",
       "\n",
       "    .dataframe tbody tr th {\n",
       "        vertical-align: top;\n",
       "    }\n",
       "\n",
       "    .dataframe thead th {\n",
       "        text-align: right;\n",
       "    }\n",
       "</style>\n",
       "<table border=\"1\" class=\"dataframe\">\n",
       "  <thead>\n",
       "    <tr style=\"text-align: right;\">\n",
       "      <th></th>\n",
       "      <th>State</th>\n",
       "      <th>Tweets</th>\n",
       "    </tr>\n",
       "  </thead>\n",
       "  <tbody>\n",
       "    <tr>\n",
       "      <th>0</th>\n",
       "      <td>AK</td>\n",
       "      <td>61</td>\n",
       "    </tr>\n",
       "    <tr>\n",
       "      <th>1</th>\n",
       "      <td>AL</td>\n",
       "      <td>86</td>\n",
       "    </tr>\n",
       "    <tr>\n",
       "      <th>2</th>\n",
       "      <td>AR</td>\n",
       "      <td>411</td>\n",
       "    </tr>\n",
       "    <tr>\n",
       "      <th>3</th>\n",
       "      <td>AZ</td>\n",
       "      <td>59</td>\n",
       "    </tr>\n",
       "    <tr>\n",
       "      <th>4</th>\n",
       "      <td>CA</td>\n",
       "      <td>719</td>\n",
       "    </tr>\n",
       "  </tbody>\n",
       "</table>\n",
       "</div>"
      ],
      "text/plain": [
       "  State  Tweets\n",
       "0    AK      61\n",
       "1    AL      86\n",
       "2    AR     411\n",
       "3    AZ      59\n",
       "4    CA     719"
      ]
     },
     "execution_count": 30,
     "metadata": {},
     "output_type": "execute_result"
    }
   ],
   "source": [
    "tweets_counts_by_state.head()"
   ]
  },
  {
   "cell_type": "markdown",
   "metadata": {},
   "source": [
    "<hr style=\"height:2px; border:none; color:#000; background-color:#000;\">"
   ]
  },
  {
   "cell_type": "markdown",
   "metadata": {},
   "source": [
    "### Creating the Map "
   ]
  },
  {
   "cell_type": "code",
   "execution_count": 31,
   "metadata": {},
   "outputs": [],
   "source": [
    "import folium"
   ]
  },
  {
   "cell_type": "code",
   "execution_count": 32,
   "metadata": {},
   "outputs": [],
   "source": [
    "usmap = folium.Map(location=[39.8283, -98.5795], \n",
    "                   zoom_start=4, detect_retina=True,\n",
    "                   tiles='Stamen Toner')"
   ]
  },
  {
   "cell_type": "markdown",
   "metadata": {},
   "source": [
    "<hr style=\"height:2px; border:none; color:#000; background-color:#000;\">"
   ]
  },
  {
   "cell_type": "markdown",
   "metadata": {},
   "source": [
    "### Creating a Choropleth to Color the Map\n",
    "* A **choropleth** shades areas in a map using magnitudes of numerical values to determine color\n",
    "* For a **detailed description of the arguments** below, see \n",
    "    * [**Python Fundamentals LiveLessons videos**](https://learning.oreilly.com/videos/python-fundamentals/9780135917411/9780135917411-PFLL_Lesson16_23) \n",
    "    * [**Python for Programmers, Section 16.4.2** (under the heading \"Creating a Choropleth to Color the Map\"](https://learning.oreilly.com/library/view/python-for-programmers/9780135231364/ch16.xhtml#ch16lev2sec15)"
   ]
  },
  {
   "cell_type": "code",
   "execution_count": 33,
   "metadata": {},
   "outputs": [],
   "source": [
    "choropleth = folium.Choropleth(\n",
    "    geo_data='us-states.json',\n",
    "    name='choropleth',\n",
    "    data=tweets_counts_by_state,\n",
    "    columns=['State', 'Tweets'],\n",
    "    key_on='feature.id',\n",
    "    fill_color='YlOrRd',\n",
    "    fill_opacity=0.7,\n",
    "    line_opacity=0.2,\n",
    "    legend_name='Tweets by State'\n",
    ").add_to(usmap)\n",
    "\n",
    "layer = folium.LayerControl().add_to(usmap)"
   ]
  },
  {
   "cell_type": "markdown",
   "metadata": {},
   "source": [
    "<hr style=\"height:2px; border:none; color:#000; background-color:#000;\">"
   ]
  },
  {
   "cell_type": "markdown",
   "metadata": {},
   "source": [
    "### Creating the Map Markers for Each State (1 of 1)\n",
    "* Sort senators in **descending order** by **tweet count**\n",
    "* **`groupby`** maintains **original row order** in each group\n",
    "* **`index`** &mdash; used to look up each state’s location in **`locations` list**\n",
    "* **name** &mdash; two-letter **state code**\n",
    "* **`group`** &mdash; collection of a **state's two senators**"
   ]
  },
  {
   "cell_type": "code",
   "execution_count": 34,
   "metadata": {},
   "outputs": [],
   "source": [
    "sorted_df = tweet_counts_df.sort_values(by='Tweets', ascending=False)\n",
    "\n",
    "for index, (name, group) in enumerate(sorted_df.groupby('State')):\n",
    "    strings = [state_codes[name]]  # used to assemble popup text\n",
    "\n",
    "    for s in group.itertuples():\n",
    "        strings.append(f'{s.Name} ({s.Party}); Tweets: {s.Tweets}')\n",
    "        \n",
    "    text = '<br>'.join(strings)  \n",
    "    popup = folium.Popup(text, max_width=200)\n",
    "    marker = folium.Marker(\n",
    "        (locations[index].latitude, locations[index].longitude), \n",
    "        popup=popup)\n",
    "    marker.add_to(usmap) "
   ]
  },
  {
   "cell_type": "markdown",
   "metadata": {},
   "source": [
    "<hr style=\"height:2px; border:none; color:#000; background-color:#000;\">"
   ]
  },
  {
   "cell_type": "markdown",
   "metadata": {},
   "source": [
    "### Saving and Displaying the Map "
   ]
  },
  {
   "cell_type": "code",
   "execution_count": 35,
   "metadata": {},
   "outputs": [],
   "source": [
    "usmap.save('SenatorsTweets.html')"
   ]
  },
  {
   "cell_type": "code",
   "execution_count": 36,
   "metadata": {},
   "outputs": [
    {
     "data": {
      "text/html": [
       "<div style=\"width:100%;\"><div style=\"position:relative;width:100%;height:0;padding-bottom:60%;\"><span style=\"color:#565656\">Make this Notebook Trusted to load map: File -> Trust Notebook</span><iframe src=\"about:blank\" style=\"position:absolute;width:100%;height:100%;left:0;top:0;border:none !important;\" data-html=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 onload=\"this.contentDocument.open();this.contentDocument.write(atob(this.getAttribute('data-html')));this.contentDocument.close();\" allowfullscreen webkitallowfullscreen mozallowfullscreen></iframe></div></div>"
      ],
      "text/plain": [
       "<folium.folium.Map at 0x7ff8686b93a0>"
      ]
     },
     "execution_count": 36,
     "metadata": {},
     "output_type": "execute_result"
    }
   ],
   "source": [
    "usmap \n",
    "#from IPython.display import IFrame\n",
    "#IFrame(src=\"./SenatorsTweets.html\", width=800, height=450)"
   ]
  },
  {
   "cell_type": "markdown",
   "metadata": {},
   "source": [
    "<hr style=\"height:2px; border:none; color:#000; background-color:#000;\">"
   ]
  },
  {
   "cell_type": "markdown",
   "metadata": {},
   "source": [
    "# 16.5 Hadoop\n",
    "\\[We'll cover this example if we have time. The complete presentation can be viewed in my **[Python Fundamentals](https://learning.oreilly.com/videos/python-fundamentals/9780135917411/9780135917411-PFLL_Lesson16_24) (10 videos)**\\]\n",
    "&nbsp;  \n",
    "&nbsp;  \n",
    "\n",
    "* **Apache Hadoop** and **Apache Spark** deal with **big-data storage and processing challenges** via \n",
    "    * huge **clusters** of computers \n",
    "    * **distributed data storage** \n",
    "    * **massively parallel processing**\n",
    "    * Hadoop **MapReduce** programming\n",
    "    * Spark **in-memory processing** techniques\n",
    "* **Hadoop** also serves as the **foundation** for many recent advancements in **big-data processing** and an entire **ecosystem of software tools**\n",
    "\n",
    "<!--\n",
    "\n",
    "* For a list of **Hadoop ecosystem components**, see my [**Python Fundamentals LiveLessons videos**](https://learning.oreilly.com/videos/python-fundamentals/9780135917411/) (big data lesson coming soon) or [**Python for Programmers, Section 16.5.1**](https://learning.oreilly.com/library/view/python-for-programmers/9780135231364/ch16.xhtml#ch16lev2sec16)\n",
    "\n",
    "-->"
   ]
  },
  {
   "cell_type": "markdown",
   "metadata": {},
   "source": [
    "<hr style=\"height:2px; border:none; color:#000; background-color:#000;\">"
   ]
  },
  {
   "cell_type": "markdown",
   "metadata": {},
   "source": [
    "## 16.5.1 Hadoop Overview (1 of 2)\n",
    "* Early on, Google knew they needed to **return search results quickly**\n",
    "* The only practical way &mdash; **store and index the entire web** \n",
    "* Late 90s computers couldn’t store and analyze such a **large volume of data economically and fast enough**\n",
    "* Google developed a **clustering** system with vast numbers of computers (**nodes**)\n",
    "    * **greater chance of hardware failures** so they built in high levels of **redundancy** \n",
    "    * Data distributed across all these **commodity computers**\n",
    "* For a **search request**, all computers searched their portion of the web **in parallel**\n",
    "    * Then results were **gathered and returned**"
   ]
  },
  {
   "cell_type": "markdown",
   "metadata": {},
   "source": [
    "<hr style=\"height:2px; border:none; color:#000; background-color:#000;\">"
   ]
  },
  {
   "cell_type": "markdown",
   "metadata": {},
   "source": [
    "## 16.5.1 Hadoop Overview (2 of 2)\n",
    "* Google developed **clustering hardware and software** and **distributed storage**\n",
    "* **Published its designs**\n",
    "* Programmers at Yahoo!, working from Google’s [**“Google File System” paper**](http://static.googleusercontent.com/media/research.google.com/en//archive/gfs-sosp2003.pdf), built their own system\n",
    "* They **open-sourced** their work and **Apache.org** implemented **Hadoop**\n",
    "* Named for an **elephant** stuffed animal that belonged to a child of one of Hadoop’s creators\n",
    "    * Inspiration for our textbook cover\n",
    "* Two **additional Google papers** contributed to evolution of Hadoop\n",
    "\t* [**“MapReduce: Simplified Data Processing on Large Clusters”**](http://static.googleusercontent.com/media/research.google.com/en//archive/mapreduce-osdi04.pdf) \n",
    "\t* [**“Bigtable: A Distributed Storage System for Structured Data”**](http://static.googleusercontent.com/media/research.google.com/en//archive/bigtable-osdi06.pdf) \n",
    "\t\t* Basis for Apache HBase (a NoSQL key–value and column-based database)."
   ]
  },
  {
   "cell_type": "markdown",
   "metadata": {},
   "source": [
    "<hr style=\"height:2px; border:none; color:#000; background-color:#000;\">"
   ]
  },
  {
   "cell_type": "markdown",
   "metadata": {},
   "source": [
    "### HDFS, `MapReduce` and YARN (1 of 2)\n",
    "* Hadoop’s key components are: \n",
    "\t* **HDFS** (Hadoop Distributed File System) for **storing massive amounts of data** throughout a **cluster** \n",
    "\t* **MapReduce** for implementing the **tasks that process the data**\n",
    "        * Like **filter/map/reduce** in functional-style programming, but **massively parallel**\n",
    "* **MapReduce** performs two steps—**mapping** and **reduction**\n",
    "    * **Mapping** (and **filtering**) &mdash; processes original data across **entire cluster** and **maps** it into tuples of **key–value pairs**\n",
    "    * **Reduction** &mdash; **combines** those tuples to **produce the results**"
   ]
  },
  {
   "cell_type": "markdown",
   "metadata": {},
   "source": [
    "<hr style=\"height:2px; border:none; color:#000; background-color:#000;\">"
   ]
  },
  {
   "cell_type": "markdown",
   "metadata": {},
   "source": [
    "### HDFS, `MapReduce` and YARN (2 of 2)\n",
    "* Hadoop divides data into **batches** and **distributes** across **cluster's nodes**\n",
    "* Also **distributes MapReduce code** to **execute in parallel on every node**\n",
    "    * Each **node** processes the **batch of data** stored **on that node**\n",
    "* **Reduction combines results** from **all nodes** to produce **final result**\n",
    "* **YARN** (“yet another resource negotiator”) **manages all resources** in the **cluster** and **schedules tasks** for execution"
   ]
  },
  {
   "cell_type": "markdown",
   "metadata": {},
   "source": [
    "<hr style=\"height:2px; border:none; color:#000; background-color:#000;\">"
   ]
  },
  {
   "cell_type": "markdown",
   "metadata": {},
   "source": [
    "### Hadoop Ecosystem \n",
    "* **Hadoop began** with **HDFS** and **MapReduce**, followed closely by **YARN**\n",
    "* Now it's a **large ecosystem**, including **Hadoop 3** (3.2 released in January), **Spark** and many other Apache projects[\\[1\\]](https://hortonworks.com/ecosystems/),[\\[2\\]](https://readwrite.com/2018/06/26/complete-guide-of-hadoop-ecosystem-components/),[\\[3\\]](https://www.janbasktraining.com/blog/introduction-architecture-components-hadoop-ecosystem/)\n",
    "* [See our table of Hadoop Ecosystem Components](https://learning.oreilly.com/library/view/Python+for+Programmers,+First+Edition/9780135231364/ch16.xhtml#ch16lev2sec16)"
   ]
  },
  {
   "cell_type": "markdown",
   "metadata": {},
   "source": [
    "<hr style=\"height:2px; border:none; color:#000; background-color:#000;\">"
   ]
  },
  {
   "cell_type": "markdown",
   "metadata": {},
   "source": [
    "## 16.5.2 Summarizing Word Lengths in _Romeo and Juliet_ via MapReduce\n",
    "* To execute this example\n",
    "    * We created a **cloud-based, multi-node cluster of computers** using **Microsoft Azure HDInsight**, which provides **Hadoop as a service**\n",
    "    * Ran our **Hadoop MapReduce** code on that **cluster**\n",
    "* **MapReduce task** \n",
    "    * Determines the **length of each word in `RomeoAndJuliet.txt`** (from the NLP presentation)\n",
    "    * Summarizes **number of words of each length** "
   ]
  },
  {
   "cell_type": "markdown",
   "metadata": {},
   "source": [
    "<hr style=\"height:2px; border:none; color:#000; background-color:#000;\">"
   ]
  },
  {
   "cell_type": "markdown",
   "metadata": {},
   "source": [
    "## 16.5.3 Creating an Apache Hadoop Cluster in Microsoft Azure HDInsight (1 of 2)\n",
    "* **Multi-node cloud-based clusters** typically are **paid** services\n",
    "* We used [**Microsoft Azure’s HDInsight service**](https://azure.microsoft.com/en-us/free) (for Hadoop and Spark) and **new account credit** to create **cloud-based clusters of computers** in which to test our examples\n",
    "    * The **new account credit** was more than enough to test our Hadoop and Spark examples\n",
    "* HDInsight service **requires a credit card** for **identity verification**\n",
    "    * When your **new account credit runs out** or **30 days pass**, cannot use paid services unless you authorize Microsoft to **charge your card**\n",
    "        * **Prevents accidental large bills** for people who are just experimenting"
   ]
  },
  {
   "cell_type": "markdown",
   "metadata": {},
   "source": [
    "<hr style=\"height:2px; border:none; color:#000; background-color:#000;\">"
   ]
  },
  {
   "cell_type": "markdown",
   "metadata": {},
   "source": [
    "## 16.5.3 Creating an Apache Hadoop Cluster in Microsoft Azure HDInsight (2 of 2)\n",
    "* Details on configuring a **low-cost cluster** to try **Hadoop** \n",
    "    * [**Python Fundamentals LiveLessons videos**](https://learning.oreilly.com/videos/python-fundamentals/9780135917411/9780135917411-PFLL_Lesson16_27_pt1) (two videos starting with this one) \n",
    "    * [**Python for Programmers, Section 16.5.3**](https://learning.oreilly.com/library/view/Python+for+Programmers,+First+Edition/9780135231364/ch16.xhtml#ch16lev2sec18) \n",
    "    * Also [see Microsoft’s **recommended cluster configurations**](https://docs.microsoft.com/en-us/azure/hdinsight/hdinsight-component-versioning#default-node-configuration-and-virtual-machine-sizes-for-clusters)\n",
    "* **Caution: Once you allocate a cluster, it incurs costs whether you’re using it or not. So, when you complete this case study, be sure to delete your cluster(s) and other resources, so you don’t incur additional charges.** "
   ]
  },
  {
   "cell_type": "markdown",
   "metadata": {},
   "source": [
    "<hr style=\"height:2px; border:none; color:#000; background-color:#000;\">"
   ]
  },
  {
   "cell_type": "markdown",
   "metadata": {},
   "source": [
    "## 16.5.4 Hadoop Streaming\n",
    "* Hadoop is **Java-based**\n",
    "* Languages like **Python** that are **not natively supported** must use **Hadoop streaming** \n",
    "* **Python MapReduce scripts** communicate with Hadoop via **redirected standard I/O streams**\n",
    "\t* Hadoop redirects **input** to **mapper** script, which reads input from **standard input stream**\n",
    "\t* **Mapper** writes results to **standard output stream**\n",
    "\t* Hadoop redirects **mapper’s output** as **input** to **reducer** script, which reads from the **standard input stream**\n",
    "\t* **Reducer** writes results to **standard output stream** \n",
    "\t* Hadoop writes **reducer’s output** to **HDFS**   "
   ]
  },
  {
   "cell_type": "markdown",
   "metadata": {},
   "source": [
    "<hr style=\"height:2px; border:none; color:#000; background-color:#000;\">"
   ]
  },
  {
   "cell_type": "markdown",
   "metadata": {},
   "source": [
    "## 16.5.5 Implementing the Mapper (1 of 2)\n",
    "* **Mapper** takes **lines of text** as input and **maps** them to **key–value pairs**, each containing a **word length** and **`1`**\n",
    "* **Reducer** will total these **key–value pairs** by key\n",
    "* **Hadoop streaming** expects **mapper’s output** and **reducer’s input/output** to have the form \n",
    "> **_key_`\\t`_value_**\n",
    "* In **`length_mapper.py`**, `#!` tells Hadoop to use Python 3\n",
    "    * Must be first line in the file\n",
    "    * **HDInsight** currently includes **Python 2.7.12** and **Python 3.5.2** \n",
    "    * **Cannot use f-strings** which are **Python 3.6+**"
   ]
  },
  {
   "cell_type": "markdown",
   "metadata": {},
   "source": [
    "<hr style=\"height:2px; border:none; color:#000; background-color:#000;\">"
   ]
  },
  {
   "cell_type": "markdown",
   "metadata": {},
   "source": [
    "## 16.5.5 Implementing the Mapper (2 of 2)\n",
    "\n",
    "```python\n",
    "#!/usr/bin/env python3\n",
    "# length_mapper.py\n",
    "\"\"\"Maps lines of text to key-value pairs of word lengths and 1.\"\"\"\n",
    "import sys\n",
    "\n",
    "def tokenize_input():  # generator function\n",
    "    \"\"\"Split each line of standard input into a list of strings.\"\"\"\n",
    "    for line in sys.stdin:\n",
    "        yield line.split()  \n",
    "\n",
    "# read each line in the the standard input and for every word \n",
    "# produce a key-value pair containing the word, a tab and 1\n",
    "for line in tokenize_input():\n",
    "    for word in line:\n",
    "        print(str(len(word)) + '\\t1')\n",
    "\n",
    "```"
   ]
  },
  {
   "cell_type": "markdown",
   "metadata": {},
   "source": [
    "<hr style=\"height:2px; border:none; color:#000; background-color:#000;\">"
   ]
  },
  {
   "cell_type": "markdown",
   "metadata": {},
   "source": [
    "## 16.5.6 Implementing the Reducer \n",
    "* In **`length_reducer.py`**, function **`tokenize_input`** is a **generator function** that reads and splits the **key–value pairs** produced by the mapper\n",
    "* **MapReduce streaming** supplies the **standard input**\n",
    "* **`groupby` function** (**`itertools` module**) groups inputs by their **keys** (the **word lengths**) \n",
    "* **Total** all the **counts** for a given **key**\n",
    "* Output a new **key–value pair** consisting of the **word length** and its **total**\n",
    "* **MapReduce** takes the **final word-count outputs** and **writes** them to a file in **HDFS**"
   ]
  },
  {
   "cell_type": "markdown",
   "metadata": {},
   "source": [
    "<hr style=\"height:2px; border:none; color:#000; background-color:#000;\">"
   ]
  },
  {
   "cell_type": "markdown",
   "metadata": {},
   "source": [
    "```python\n",
    "#!/usr/bin/env python3\n",
    "# length_reducer.py\n",
    "\"\"\"Counts the number of words with each length.\"\"\"\n",
    "import sys\n",
    "from itertools import groupby\n",
    "from operator import itemgetter\n",
    "\n",
    "def tokenize_input():\n",
    "    \"\"\"Split each line of standard input into a key and a value.\"\"\"\n",
    "    for line in sys.stdin:\n",
    "        yield line.strip().split('\\t')\n",
    "\n",
    "# produce key-value pairs of word lengths and counts separated by tabs\n",
    "for word_length, group in groupby(tokenize_input(), itemgetter(0)):\n",
    "    try:\n",
    "        total = sum(int(count) for word_length, count in group)\n",
    "        print(word_length + '\\t' + str(total))\n",
    "    except ValueError:\n",
    "        pass  # ignore word if its count was not an integer\n",
    "\n",
    "```"
   ]
  },
  {
   "cell_type": "markdown",
   "metadata": {},
   "source": [
    "<hr style=\"height:2px; border:none; color:#000; background-color:#000;\">"
   ]
  },
  {
   "cell_type": "markdown",
   "metadata": {},
   "source": [
    "## 16.5.7 Preparing to Run the MapReduce Example\n",
    "* Must upload scripts and `RomeoAndJuliet.txt` into **HDInsight cluster's file system**\n",
    "* For detailed instructions on doing this, see \n",
    "    * [**Python Fundamentals LiveLessons videos**](https://learning.oreilly.com/videos/python-fundamentals/9780135917411/9780135917411-PFLL_Lesson16_31) \n",
    "    * [**Python for Programmers, Section 16.5.7**](https://learning.oreilly.com/library/view/python-for-programmers/9780135231364/ch16.xhtml#ch16lev2sec22)"
   ]
  },
  {
   "cell_type": "markdown",
   "metadata": {},
   "source": [
    "<hr style=\"height:2px; border:none; color:#000; background-color:#000;\">"
   ]
  },
  {
   "cell_type": "markdown",
   "metadata": {},
   "source": [
    "## 16.5.8 Running the MapReduce Job (1 of 4)\n",
    "* Once files are in the cluster, **run MapReduce job** for **`RomeoAndJuliet.txt`** on your **cluster** by executing the following command in the cluster\n",
    "    * You can copy/paste the command from `yarn.txt` located with this example\n",
    "    * We reformatted the command here for readability: \n",
    "\n",
    "```\n",
    "yarn jar /usr/hdp/current/hadoop-mapreduce-client/hadoop-streaming.jar \n",
    "   -D mapred.output.key.comparator.class=\n",
    "      org.apache.hadoop.mapred.lib.KeyFieldBasedComparator    \n",
    "   -D mapred.text.key.comparator.options=-n   \n",
    "   -files length_mapper.py,length_reducer.py    \n",
    "   -mapper length_mapper.py \n",
    "   -reducer length_reducer.py    \n",
    "   -input /example/data/RomeoAndJuliet.txt    \n",
    "   -output /example/wordlengthsoutput    \n",
    "```"
   ]
  },
  {
   "cell_type": "markdown",
   "metadata": {},
   "source": [
    "<hr style=\"height:2px; border:none; color:#000; background-color:#000;\">"
   ]
  },
  {
   "cell_type": "markdown",
   "metadata": {},
   "source": [
    "## 16.5.8 Running the MapReduce Job (2 of 4)\n",
    "* The **`yarn` command** invokes **Hadoop’s YARN** (“yet another resource negotiator”) tool to manage and coordinate access to the Hadoop resources the **MapReduce task** uses\n",
    "* **`hadoop-streaming.jar`** contains the Java-based **Hadoop streaming utility** that allows you to use Python to implement the **mapper** and **reducer**\n",
    "* The two **`-D` options** set Hadoop properties that enable it to \n",
    "    * **sort the final key–value pairs by key** (**`KeyFieldBasedComparator`**) \n",
    "    * in **descending order (`-`) numerically (`n`)** rather than alphabetically"
   ]
  },
  {
   "cell_type": "markdown",
   "metadata": {},
   "source": [
    "<hr style=\"height:2px; border:none; color:#000; background-color:#000;\">"
   ]
  },
  {
   "cell_type": "markdown",
   "metadata": {},
   "source": [
    "## 16.5.8 Running the MapReduce Job (3 of 4)\n",
    "* Other command-line arguments:\n",
    "\t* **`-files`**—Comma-separated list of scripts that Hadoop copies to every node in the cluster so they can **execute locally on each node**\n",
    "\t* **`-mapper`**—mapper’s script file\n",
    "\t* **`-reducer`**—reducer’s script file\n",
    "\t* **`-input`**—**File** or **directory of files** to supply as **mapper input**\n",
    "\t* **`-output`**—**HDFS directory** where final results will be stored\n",
    "        * **Error** if this folder **already exists**"
   ]
  },
  {
   "cell_type": "markdown",
   "metadata": {},
   "source": [
    "<hr style=\"height:2px; border:none; color:#000; background-color:#000;\">"
   ]
  },
  {
   "cell_type": "markdown",
   "metadata": {},
   "source": [
    "## 16.5.8 Running the MapReduce Job (4 of 4)\n",
    "* Sample **output** shows some **Hadoop feedback** produced as the **MapReduce job executes**\n",
    "    * Used **`...`** to save space \n",
    "* Several lines of interest:\n",
    "\t* The total number of **“input paths to process”**—the **`1` source of input** in this example is **`RomeoAndJuliet.txt`**\n",
    "\t* The **“number of splits”**—`2` in this example, based on the **number of worker nodes** in our **HDInsight cluster**\n",
    "\t* The **percentage completion** dates and times&mdash;**big data jobs** could take minutes, hours, days, ...\n",
    "\t* **`File System Counters`** showing numbers of **bytes read and written**\n",
    "\t* **`Job Counters`** showing the **numbers of mapping and reduction tasks used** \n",
    "\t* **`Map-Reduce Framework`** showing stats about the **steps performed**"
   ]
  },
  {
   "cell_type": "markdown",
   "metadata": {},
   "source": [
    "<hr style=\"height:2px; border:none; color:#000; background-color:#000;\">"
   ]
  },
  {
   "cell_type": "markdown",
   "metadata": {},
   "source": [
    "## Output\n",
    "<pre>\n",
    "packageJobJar: [] [/usr/hdp/2.6.5.3004-13/hadoop-mapreduce/hadoop-streaming-2.7.3.2.6.5.3004-13.jar] /tmp/streamjob2764990629848702405.jar tmpDir=null\n",
    "...\n",
    "18/12/05 16:46:25 INFO mapred.FileInputFormat: <strong>Total input paths to process : 1</strong>\n",
    "18/12/05 16:46:26 INFO mapreduce.JobSubmitter: <strong>number of splits:2</strong>\n",
    "...\n",
    "18/12/05 16:46:26 INFO mapreduce.Job: The url to track the job: http://hn0-paulte.y3nghy5db2kehav5m0opqrjxcb.cx.internal.cloudapp.net:8088/proxy/application_1543953844228_0025/\n",
    "...\n",
    "18/12/05 16:46:35 INFO mapreduce.Job:  <strong>map 0% reduce 0%</strong>\n",
    "18/12/05 16:46:43 INFO mapreduce.Job:  <strong>map 50% reduce 0%</strong>\n",
    "18/12/05 16:46:44 INFO mapreduce.Job:  <strong>map 100% reduce 0%</strong>\n",
    "18/12/05 16:46:48 INFO mapreduce.Job:  <strong>map 100% reduce 100%</strong>\n",
    "18/12/05 16:46:50 INFO mapreduce.Job: Job job_1543953844228_0025 <strong>completed successfully</strong>\n",
    "</pre>"
   ]
  },
  {
   "cell_type": "markdown",
   "metadata": {},
   "source": [
    "<pre>\n",
    "18/12/05 16:46:50 INFO mapreduce.Job: Counters: 49\n",
    "\t<strong>File System Counters</strong>\n",
    "\t\tFILE: Number of bytes read=156411\n",
    "\t\tFILE: Number of bytes written=813764\n",
    "...\n",
    "\t<strong>Job Counters</strong> \n",
    "\t\tLaunched map tasks=2\n",
    "\t\tLaunched reduce tasks=1\n",
    "...\n",
    "\t<strong>Map-Reduce Framework</strong>\n",
    "\t\tMap input records=5260\n",
    "\t\tMap output records=25956\n",
    "\t\tMap output bytes=104493\n",
    "\t\tMap output materialized bytes=156417\n",
    "\t\tInput split bytes=346\n",
    "\t\tCombine input records=0\n",
    "\t\tCombine output records=0\n",
    "\t\tReduce input groups=19\n",
    "\t\tReduce shuffle bytes=156417\n",
    "\t\tReduce input records=25956\n",
    "\t\tReduce output records=19\n",
    "\t\tSpilled Records=51912\n",
    "\t\tShuffled Maps =2\n",
    "\t\tFailed Shuffles=0\n",
    "\t\tMerged Map outputs=2\n",
    "\t\tGC time elapsed (ms)=193\n",
    "\t\tCPU time spent (ms)=4440\n",
    "\t\tPhysical memory (bytes) snapshot=1942798336\n",
    "\t\tVirtual memory (bytes) snapshot=8463282176\n",
    "\t\tTotal committed heap usage (bytes)=3177185280\n",
    "...\n",
    "18/12/05 16:46:50 INFO streaming.StreamJob: Output directory: /example/wordlengthsoutput\n",
    "</pre>"
   ]
  },
  {
   "cell_type": "markdown",
   "metadata": {},
   "source": [
    "<hr style=\"height:2px; border:none; color:#000; background-color:#000;\">"
   ]
  },
  {
   "cell_type": "markdown",
   "metadata": {},
   "source": [
    "### Viewing the Word Counts\n",
    "* **Hadoop MapReduce** saves its output into **HDFS**\n",
    "* To **view final word counts** you must look at the **file in cluster's HDFS**\n",
    "> ```\n",
    "hdfs dfs -text /example/wordlengthsoutput/part-00000\n",
    "```\n",
    "\n",
    "```\n",
    "18/12/05 16:47:19 INFO lzo.GPLNativeCodeLoader: Loaded native gpl library\n",
    "18/12/05 16:47:19 INFO lzo.LzoCodec: Successfully loaded & initialized native-lzo library [hadoop-lzo rev b5efb3e531bc1558201462b8ab15bb412ffa6b89]\n",
    "1\t4699\n",
    "2\t3869\n",
    "3\t5651\n",
    "4\t3668\n",
    "5\t2719\n",
    "6\t1624\n",
    "7\t1140\n",
    "8\t1062\n",
    "9\t855\n",
    "10\t317\n",
    "11\t189\n",
    "12\t95\n",
    "13\t35\n",
    "14\t13\n",
    "15\t9\n",
    "16\t6\n",
    "17\t3\n",
    "18\t1\n",
    "23\t1\n",
    "```"
   ]
  },
  {
   "cell_type": "markdown",
   "metadata": {},
   "source": [
    "<hr style=\"height:2px; border:none; color:#000; background-color:#000;\">"
   ]
  },
  {
   "cell_type": "markdown",
   "metadata": {},
   "source": [
    "### IMPORTANT: Deleting Your Cluster So You Do Not Incur Charges\n",
    "* **Be sure to delete your cluster(s) and associated resources (like storage) so you don’t incur additional charges** \n",
    "    * For details on deleting the cluster, see my [**Python Fundamentals LiveLessons videos**](https://learning.oreilly.com/videos/python-fundamentals/9780135917411/9780135917411-PFLL_Lesson16_32) (deleting is discussed around the 9:00 minute mark) and in [**Python for Programmers, Section 16.5.8**](https://learning.oreilly.com/library/view/python-for-programmers/9780135231364/ch16.xhtml#ch16lev2sec23)\n",
    "* [More information](https://docs.microsoft.com/en-us/azure/azure-resource-manager/resource-group-portal)"
   ]
  },
  {
   "cell_type": "markdown",
   "metadata": {},
   "source": [
    "<hr style=\"height:2px; border:none; color:#000; background-color:#000;\">"
   ]
  },
  {
   "cell_type": "markdown",
   "metadata": {},
   "source": [
    "### Lecture Note: Switch to **jupyter/pyspark-notebook Docker stack** for Spark presentation"
   ]
  },
  {
   "cell_type": "markdown",
   "metadata": {},
   "source": [
    "<hr style=\"height:2px; border:none; color:#000; background-color:#000;\">"
   ]
  },
  {
   "cell_type": "markdown",
   "metadata": {},
   "source": [
    "&copy; 2019 by Pearson Education, Inc. All Rights Reserved. The content in this notebook is based on the book [**Python for Programmers**](https://amzn.to/2VvdnxE)."
   ]
  }
 ],
 "metadata": {
  "kernelspec": {
   "display_name": "Python 3",
   "language": "python",
   "name": "python3"
  },
  "language_info": {
   "codemirror_mode": {
    "name": "ipython",
    "version": 3
   },
   "file_extension": ".py",
   "mimetype": "text/x-python",
   "name": "python",
   "nbconvert_exporter": "python",
   "pygments_lexer": "ipython3",
   "version": "3.8.3"
  }
 },
 "nbformat": 4,
 "nbformat_minor": 4
}
