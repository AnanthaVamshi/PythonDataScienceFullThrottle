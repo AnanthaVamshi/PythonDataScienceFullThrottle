{
 "cells": [
  {
   "cell_type": "markdown",
   "metadata": {},
   "source": [
    "&copy; 2019 by Pearson Education, Inc. All Rights Reserved. The content in this notebook is based on the book [**Python for Programmers**](https://amzn.to/2VvdnxE)."
   ]
  },
  {
   "cell_type": "code",
   "execution_count": 1,
   "metadata": {},
   "outputs": [],
   "source": [
    "# enable high-res images in notebook \n",
    "%config InlineBackend.figure_format = 'retina'"
   ]
  },
  {
   "cell_type": "markdown",
   "metadata": {},
   "source": [
    "# 12. Data Mining Twitter \n",
    "# Objectives\n",
    "* **Data-mine Twitter** with **Tweepy** library\n",
    "* Search **past tweets** with the **Twitter Search API**\n",
    "* Sample the **live tweet stream** with the **Twitter Streaming API**\n",
    "* Tweet object **meta data** \n",
    "* Use **NLP** to **clean and preprocess tweets** for analysis\n",
    "* Perform **sentiment analysis** on tweets\n",
    "* **Spot trends** with **Twitter’s Trends API**\n",
    "* **Map tweets** using **folium** and **OpenStreetMap**"
   ]
  },
  {
   "cell_type": "markdown",
   "metadata": {},
   "source": [
    "<hr style=\"height:2px; border:none; color:#000; background-color:#000;\">"
   ]
  },
  {
   "cell_type": "markdown",
   "metadata": {},
   "source": [
    "# 12.1 Introduction \n",
    "* Popular **big-data source**  \n",
    "* **Data mining** &mdash; searching large collections of data for **insights**\n",
    "* **Sentiment** in tweets can help **make predictions**  \n",
    "    * **Stock prices**\n",
    "    * **Election results**\n",
    "    * Likely **revenues** for a **new movie**\n",
    "    * **Success** of a company’s **marketing campaign**\n",
    "* Spot **faults in competitors’ products** \n",
    "* Spot **trending topics**\n",
    "* **Connect to Twitter** with easy-to-use **Web services**"
   ]
  },
  {
   "cell_type": "markdown",
   "metadata": {},
   "source": [
    "<hr style=\"height:2px; border:none; color:#000; background-color:#000;\">"
   ]
  },
  {
   "cell_type": "markdown",
   "metadata": {},
   "source": [
    "### What Is Twitter? \n",
    "* **Tweets**\n",
    "    * Short messages\n",
    "    * Initially limited to **140 characters**\n",
    "    * Increased in 2017 for most languages to **280 characters**\n",
    "* **Most open social network**&mdash;anyone can generally choose to follow anyone else\n",
    "* Some of the most popular accounts have over **100,000,000 followers**\n",
    "* **Free programmatic access** to a small portion of **last 7 days' tweets**\n",
    "    * Can get **paid access** to larger portions the **all-time tweets database**\n",
    "* [**Hundreds of millions of tweets are sent every day** with many thousands sent per second](http://www.internetlivestats.com/twitter-statistics/)\n",
    "* Can tap into the **live stream** and get up to 1% of live tweets\n",
    "    * **Like “drinking from a fire hose”** "
   ]
  },
  {
   "cell_type": "markdown",
   "metadata": {},
   "source": [
    "<hr style=\"height:2px; border:none; color:#000; background-color:#000;\">"
   ]
  },
  {
   "cell_type": "markdown",
   "metadata": {},
   "source": [
    "# 12.2 Overview of the Twitter APIs \n",
    "* **Web services** are **methods** that you call in the **cloud**\n",
    "* Each **method** has a **web service endpoint** represented by a **URL**\n",
    "* **Caution**: **apps can be brittle**\n",
    "    * Internet connections can be lost, services can change, some services not available everywhere, ... \n",
    "* [Twitter API categories, subcategories and individual methods](https://developer.twitter.com/en/docs/api-reference-index.html)"
   ]
  },
  {
   "cell_type": "markdown",
   "metadata": {},
   "source": [
    "<hr style=\"height:2px; border:none; color:#000; background-color:#000;\">"
   ]
  },
  {
   "cell_type": "markdown",
   "metadata": {},
   "source": [
    "### Rate Limits and Restrictions\n",
    "* Twitter expects developers to **use its services responsibly**\n",
    "* **Understand rate limits** before using any method or you could get **blocked**\n",
    "* Some methods list both **user rate limits** and **app rate limits**\n",
    "    * We use **app rate limits** in the demos\n",
    "    * **User rate limits** for apps in which individuals to log into own Twitter accounts\n",
    "    * [Details on rate limiting](https://developer.twitter.com/en/docs/basics/rate-limiting)\n",
    "    * [Specific rate limits on individual API methods](https://developer.twitter.com/en/docs/basics/rate-limits) — also see each API method’s docs\n",
    "* **Follow Twitter’s rules/regulations or your developer account could be terminated.** \n",
    "\t* [Terms of Service](https://twitter.com/tos), [Developer Agreement](https://developer.twitter.com/en/developer-terms/agreement-and-policy.html), [Developer Policy](https://developer.twitter.com/en/developer-terms/policy.html), [Other restrictions](https://developer.twitter.com/en/developer-terms/more-on-restricted-use-cases)"
   ]
  },
  {
   "cell_type": "markdown",
   "metadata": {},
   "source": [
    "<hr style=\"height:2px; border:none; color:#000; background-color:#000;\">"
   ]
  },
  {
   "cell_type": "markdown",
   "metadata": {},
   "source": [
    "# 12.4 Getting Twitter Credentials—Creating an App \n",
    "* [Apply for a developer account](https://developer.twitter.com/en/apply-for-access) to use the APIs\n",
    "* Must get **credentials** to use Twitter APIs\n",
    "    * Part of the **OAuth 2.0 authentication process**\n",
    "    * **Tweepy handles OAuth 2.0 authentication details for you**\n",
    "* To get credentials, you’ll [**create an app**](https://developer.twitter.com) \n",
    "    * **Each app has separate credentials**\n",
    "    * I present **details on creating apps** in my [**Python Fundamentals LiveLessons videos for Section 12.4**](https://learning.oreilly.com/videos/python-fundamentals/9780135917411/9780135917411-PFLL_Lesson12_04) and [**Python for Programmers Section 12.4**](https://learning.oreilly.com/library/view/Python+for+Programmers,+First+Edition/9780135231364/ch12.xhtml#ch12lev1sec4)"
   ]
  },
  {
   "cell_type": "markdown",
   "metadata": {},
   "source": [
    "<hr style=\"height:2px; border:none; color:#000; background-color:#000;\">"
   ]
  },
  {
   "cell_type": "markdown",
   "metadata": {},
   "source": [
    "# 12.5 What’s in a Tweet? \n",
    "* Twitter API returns **JSON (JavaScript Object Notation)** objects\n",
    "* Text-based, human and computer readable\n",
    "* Like Python **dictionaries**\n",
    "* **JSON object format** &mdash; **all strings in double quotes (\")**\n",
    ">```python\n",
    "{propertyName1: value1, propertyName2: value2}\n",
    "```\n",
    "* **JSON array format (like Python list)**:\n",
    ">```python\n",
    "[value1, value2, value3]\n",
    "```\n",
    "* **Tweepy handles the JSON for you** behind the scenes"
   ]
  },
  {
   "cell_type": "markdown",
   "metadata": {},
   "source": [
    "<hr style=\"height:2px; border:none; color:#000; background-color:#000;\">"
   ]
  },
  {
   "cell_type": "markdown",
   "metadata": {},
   "source": [
    "### Key Properties of a Tweet Object \n",
    "* **Tweet object** contains **metadata**, including\n",
    "    * **text** of the tweet\n",
    "    * **extended tweet** for tweets up to **280 characters**\n",
    "\t* **when** it was created \n",
    "\t* **who** created it,\n",
    "\t* lists of **hashtags**, **URLs**, **`@`-mentions**, **images**, **videos** and more\n",
    "* [Our table of many key **tweet metadata attributes**](https://learning.oreilly.com/library/view/python-for-programmers/9780135231364/ch12.xhtml#ch12lev1sec5)\n",
    "* [Complete list of the tweet object attributes](https://developer.twitter.com/en/docs/tweets/data-dictionary/overview/tweet-object.html)\n",
    "* [General overview of all the JSON objects that Twitter APIs return, and links to the specific object details](https://developer.twitter.com/en/docs/tweets/data-dictionary/overview/intro-to-tweet-json)"
   ]
  },
  {
   "cell_type": "markdown",
   "metadata": {},
   "source": [
    "<hr style=\"height:2px; border:none; color:#000; background-color:#000;\">"
   ]
  },
  {
   "cell_type": "markdown",
   "metadata": {},
   "source": [
    "### Sample Tweet JSON\n",
    "* **Sample JSON** for this tweet from the **`@nasa`** account: \n",
    ">```\n",
    "@NoFear1075 Great question, Anthony! Throughout its seven-year \n",
    "mission, our Parker #SolarProbe spacecraft... https://t.co/xKd6ym8waT'\n",
    "```"
   ]
  },
  {
   "cell_type": "markdown",
   "metadata": {},
   "source": [
    "<hr style=\"height:2px; border:none; color:#000; background-color:#000;\">"
   ]
  },
  {
   "cell_type": "markdown",
   "metadata": {},
   "source": [
    "```python\n",
    "{'created_at': 'Wed Sep 05 18:19:34 +0000 2018',\n",
    " 'id': 1037404890354606082,\n",
    " 'id_str': '1037404890354606082',\n",
    " 'text': '@NoFear1075 Great question, Anthony! Throughout its seven-year \n",
    "          mission, our Parker #SolarProbe spacecraft… https://t.co/xKd6ym8waT',\n",
    " 'truncated': True,\n",
    " 'entities': {'hashtags': [{'text': 'SolarProbe', 'indices': [84, 95]}],\n",
    "    'symbols': [],\n",
    "    'user_mentions': [{'screen_name': 'NoFear1075',\n",
    "        'name': 'Anthony Perrone',\n",
    "        'id': 284339791,\n",
    "        'id_str': '284339791',\n",
    "        'indices': [0, 11]}],\n",
    "    'urls': [{'url': 'https://t.co/xKd6ym8waT',\n",
    "        'expanded_url': 'https://twitter.com/i/web/status/1037404890354606082',\n",
    "        'display_url': 'twitter.com/i/web/status/1…',\n",
    "        'indices': [117, 140]}]},\n",
    " 'source': '<a href=\"http://twitter.com\" rel=\"nofollow\">Twitter Web Client</a>',\n",
    "```"
   ]
  },
  {
   "cell_type": "markdown",
   "metadata": {},
   "source": [
    "```python\n",
    " 'in_reply_to_status_id': 1037390542424956928,\n",
    " 'in_reply_to_status_id_str': '1037390542424956928',\n",
    " 'in_reply_to_user_id': 284339791,\n",
    " 'in_reply_to_user_id_str': '284339791',\n",
    " 'in_reply_to_screen_name': 'NoFear1075',\n",
    " 'user': {'id': 11348282,\n",
    "    'id_str': '11348282',\n",
    "    'name': 'NASA',\n",
    "    'screen_name': 'NASA',\n",
    "    'location': '',\n",
    "    'description': 'Explore the universe and discover our home planet with \n",
    "            @NASA. We usually post in EST (UTC-5)',\n",
    "    'url': 'https://t.co/TcEE6NS8nD',\n",
    "    'entities': {'url': {'urls': [{'url': 'https://t.co/TcEE6NS8nD',\n",
    "            'expanded_url': 'http://www.nasa.gov',\n",
    "            'display_url': 'nasa.gov',\n",
    "            'indices': [0, 23]}]},\n",
    "    'description': {'urls': []}},\n",
    "    'protected': False,\n",
    "    'followers_count': 29486081,\n",
    "    'friends_count': 287,\n",
    "    'listed_count': 91928,\n",
    "    'created_at': 'Wed Dec 19 20:20:32 +0000 2007',\n",
    "    'favourites_count': 3963,\n",
    "    'time_zone': None,\n",
    "    'geo_enabled': False,\n",
    "    'verified': True,\n",
    "    'statuses_count': 53147,\n",
    "    'lang': 'en',\n",
    "```"
   ]
  },
  {
   "cell_type": "markdown",
   "metadata": {},
   "source": [
    "```python\n",
    "    'contributors_enabled': False,\n",
    "    'is_translator': False,\n",
    "    'is_translation_enabled': False,\n",
    "    'profile_background_color': '000000',\n",
    "    'profile_background_image_url': 'http://abs.twimg.com/images/themes/theme1/bg.png',\n",
    "    'profile_background_image_url_https': 'https://abs.twimg.com/images/themes/theme1/bg.png',\n",
    "    'profile_image_url': 'http://pbs.twimg.com/profile_images/188302352/nasalogo_twitter_normal.jpg',\n",
    "    'profile_image_url_https': 'https://pbs.twimg.com/profile_images/188302352/nasalogo_twitter_normal.jpg',\n",
    "    'profile_banner_url': 'https://pbs.twimg.com/profile_banners/11348282/1535145490',\n",
    "    'profile_link_color': '205BA7',\n",
    "    'profile_sidebar_border_color': '000000',\n",
    "    'profile_sidebar_fill_color': 'F3F2F2',\n",
    "    'profile_text_color': '000000',\n",
    "    'profile_use_background_image': True,\n",
    "    'has_extended_profile': True,\n",
    "    'default_profile': False,\n",
    "    'default_profile_image': False,\n",
    "    'following': True,\n",
    "    'follow_request_sent': False,\n",
    "    'notifications': False,\n",
    "    'translator_type': 'regular'},\n",
    " 'geo': None,\n",
    " 'coordinates': None,\n",
    " 'place': None,\n",
    " 'contributors': None,\n",
    " 'is_quote_status': False,\n",
    " 'retweet_count': 7,\n",
    " 'favorite_count': 19,\n",
    " 'favorited': False,\n",
    " 'retweeted': False,\n",
    " 'possibly_sensitive': False,\n",
    " 'lang': 'en'}\n",
    "\n",
    "```"
   ]
  },
  {
   "cell_type": "markdown",
   "metadata": {},
   "source": [
    "<hr style=\"height:2px; border:none; color:#000; background-color:#000;\">"
   ]
  },
  {
   "cell_type": "markdown",
   "metadata": {},
   "source": [
    "# 12.6 Tweepy\n",
    "* [**Tweepy library**](http://www.tweepy.org/)—**one of the most popular Python Twitter clients**\n",
    "> `pip install tweepy>=3.7`\n",
    "* Easy access to Twitter’s capabilities\n",
    "* [Tweepy’s documentation](http://docs.tweepy.org/en/latest/)\n",
    "* One function in `tweetutilities.py` file depends on [**geopy**](https://github.com/geopy/geopy) (used later to **plot tweet locations**)\n",
    ">`conda install -c conda-forge geopy`"
   ]
  },
  {
   "cell_type": "markdown",
   "metadata": {},
   "source": [
    "<hr style=\"height:2px; border:none; color:#000; background-color:#000;\">"
   ]
  },
  {
   "cell_type": "markdown",
   "metadata": {},
   "source": [
    "# 12.7 Authenticating with Twitter Via Tweepy\n",
    "* **Authentication API**—Authenticate with your **Twitter credentials** to use other Twitter APIs\n",
    "* **`keys.py`** must contain your credentials"
   ]
  },
  {
   "cell_type": "code",
   "execution_count": 2,
   "metadata": {},
   "outputs": [],
   "source": [
    "import tweepy"
   ]
  },
  {
   "cell_type": "code",
   "execution_count": 3,
   "metadata": {},
   "outputs": [],
   "source": [
    "import keys  "
   ]
  },
  {
   "cell_type": "code",
   "execution_count": 4,
   "metadata": {},
   "outputs": [],
   "source": [
    "auth = tweepy.OAuthHandler(keys.consumer_key,\n",
    "                           keys.consumer_secret)"
   ]
  },
  {
   "cell_type": "code",
   "execution_count": 5,
   "metadata": {},
   "outputs": [],
   "source": [
    "auth.set_access_token(keys.access_token,\n",
    "                      keys.access_token_secret)"
   ]
  },
  {
   "cell_type": "markdown",
   "metadata": {},
   "source": [
    "<hr style=\"height:2px; border:none; color:#000; background-color:#000;\">"
   ]
  },
  {
   "cell_type": "markdown",
   "metadata": {},
   "source": [
    "### Creating the Tweepy API Object\n",
    "* A **Tweepy `API` object** is your **gateway** to Twitter APIs"
   ]
  },
  {
   "cell_type": "code",
   "execution_count": 6,
   "metadata": {},
   "outputs": [],
   "source": [
    "api = tweepy.API(auth, wait_on_rate_limit=True, \n",
    "                 wait_on_rate_limit_notify=True)"
   ]
  },
  {
   "cell_type": "markdown",
   "metadata": {},
   "source": [
    "* **`auth`** is the **`OAuthHandler`**\n",
    "* **`wait_on_rate_limit=True`** &mdash; **wait 15 minutes** when app reaches an API method’s rate limit\n",
    "    * prevents violations\n",
    "* **`wait_on_rate_limit_notify=True`** &mdash; **display a command-line message** when you hit a rate limit"
   ]
  },
  {
   "cell_type": "markdown",
   "metadata": {},
   "source": [
    "<hr style=\"height:2px; border:none; color:#000; background-color:#000;\">"
   ]
  },
  {
   "cell_type": "markdown",
   "metadata": {},
   "source": [
    "# 12.8 Getting Information About a Twitter Account\n",
    "* **Accounts and Users API**—Access information about an account\n",
    "* `API` object’s **`get_user` method** returns a **`tweepy.models.User` object** for an account"
   ]
  },
  {
   "cell_type": "code",
   "execution_count": 7,
   "metadata": {},
   "outputs": [],
   "source": [
    "nasa = api.get_user('nasa')"
   ]
  },
  {
   "cell_type": "markdown",
   "metadata": {},
   "source": [
    "* Calls the **Twitter API’s [`users/show` method](https://developer.twitter.com/en/docs/accounts-and-users/follow-search-get-users/api-reference/get-users-show)**\n",
    "* **`tweepy.models` classes** correspond to returned **JSON objects**\n",
    "* **`User` class** corresponds to a Twitter [**user object**](https://developer.twitter.com/en/docs/tweets/data-dictionary/overview/user-object)\n",
    "* **`tweepy.models` classes** turn **JSON** into **Tweepy objects** "
   ]
  },
  {
   "cell_type": "markdown",
   "metadata": {},
   "source": [
    "<hr style=\"height:2px; border:none; color:#000; background-color:#000;\">"
   ]
  },
  {
   "cell_type": "markdown",
   "metadata": {},
   "source": [
    "### Getting Basic Account Information for `@nasa`\n",
    "* IDs and twitter handles can be used to **track tweets to, from and about users**"
   ]
  },
  {
   "cell_type": "code",
   "execution_count": 8,
   "metadata": {},
   "outputs": [
    {
     "data": {
      "text/plain": [
       "11348282"
      ]
     },
     "execution_count": 8,
     "metadata": {},
     "output_type": "execute_result"
    }
   ],
   "source": [
    "nasa.id  # account ID created when the user joined Twitter"
   ]
  },
  {
   "cell_type": "code",
   "execution_count": 9,
   "metadata": {},
   "outputs": [
    {
     "data": {
      "text/plain": [
       "'NASA'"
      ]
     },
     "execution_count": 9,
     "metadata": {},
     "output_type": "execute_result"
    }
   ],
   "source": [
    "nasa.screen_name  # user’s Twitter handle"
   ]
  },
  {
   "cell_type": "code",
   "execution_count": 10,
   "metadata": {},
   "outputs": [
    {
     "data": {
      "text/plain": [
       "'Explore the universe and discover our home planet with @NASA. We usually post in EDT (UTC-4).'"
      ]
     },
     "execution_count": 10,
     "metadata": {},
     "output_type": "execute_result"
    }
   ],
   "source": [
    "nasa.description  # description from the user’s profile"
   ]
  },
  {
   "cell_type": "markdown",
   "metadata": {},
   "source": [
    "* Lots of additional attributes, like `name`, `description`, `followers_count`, `friends_count`, etc."
   ]
  },
  {
   "cell_type": "markdown",
   "metadata": {},
   "source": [
    "<hr style=\"height:2px; border:none; color:#000; background-color:#000;\">"
   ]
  },
  {
   "cell_type": "markdown",
   "metadata": {},
   "source": [
    "### Getting `@nasa`'s Most Recent Status Update\n",
    "* `User` object’s **`status` property** returns a **`tweepy.models.Status`** object\n",
    "* Corresponds to a Twitter [**tweet object**](https://developer.twitter.com/en/docs/tweets/data-dictionary/overview/tweet-object)"
   ]
  },
  {
   "cell_type": "code",
   "execution_count": 11,
   "metadata": {},
   "outputs": [
    {
     "data": {
      "text/plain": [
       "'@MicheleHelmink @NASASocial Epic is the word! Thanks for being part of history with us! 🚀 https://t.co/w05k6TVAEN'"
      ]
     },
     "execution_count": 11,
     "metadata": {},
     "output_type": "execute_result"
    }
   ],
   "source": [
    "nasa.status.text  # most recent tweet's text"
   ]
  },
  {
   "cell_type": "markdown",
   "metadata": {},
   "source": [
    "* **...** indicates **truncated** tweet text\n",
    "* **`extended_tweet` property** for tweets between 141 and 280 characters (as of Nov. 2017) \n",
    "* **Retweeting** often results in truncation"
   ]
  },
  {
   "cell_type": "markdown",
   "metadata": {},
   "source": [
    "<hr style=\"height:2px; border:none; color:#000; background-color:#000;\">"
   ]
  },
  {
   "cell_type": "markdown",
   "metadata": {},
   "source": [
    "# 12.9 Introduction to Tweepy Cursors: Getting an Account’s Followers \n",
    "* Twitter API methods often return collections of objects \n",
    "    * E.g., list of tweets that match specified search criteria \n",
    "* Each method has **maximum number of items returned by one call**\n",
    "    * A **\"page\"** of results\n",
    "* **JSON responses** indicate whether there are **more pages**\n",
    "* A **`Cursor`** handles **paging** \n",
    "    * Invokes a method and **checks for more pages**\n",
    "    * If so, **calls the method again**  \n",
    "    * Continues until there are no more results to process\n",
    "    * If `API` object configured to **wait on rate limits**, **`Cursor`s wait as needed**\n",
    "* [Tweepy `Cursor` tutorial](http://docs.tweepy.org/en/latest/cursor_tutorial.html)"
   ]
  },
  {
   "cell_type": "markdown",
   "metadata": {},
   "source": [
    "<hr style=\"height:2px; border:none; color:#000; background-color:#000;\">"
   ]
  },
  {
   "cell_type": "markdown",
   "metadata": {},
   "source": [
    "## 12.9.1 Determining an Account’s Followers  Via the `API` object’s **`followers` Method**\n",
    "* Calls Twitter’s [**followers/list** method](https://developer.twitter.com/en/docs/accounts-and-users/follow-search-get-users/api-reference/get-followers-list.html)\n",
    "* Returns groups of 20 by default, but can request up to 200 \n",
    "* For demonstration purposes, we’ll grab 10 of NASA’s followers"
   ]
  },
  {
   "cell_type": "markdown",
   "metadata": {},
   "source": [
    "<hr style=\"height:2px; border:none; color:#000; background-color:#000;\">"
   ]
  },
  {
   "cell_type": "markdown",
   "metadata": {},
   "source": [
    "### Creating a Cursor That Will Call the `followers` Method for NASA’s account"
   ]
  },
  {
   "cell_type": "code",
   "execution_count": 12,
   "metadata": {},
   "outputs": [],
   "source": [
    "followers = []  # for storing followers' User objects"
   ]
  },
  {
   "cell_type": "code",
   "execution_count": 13,
   "metadata": {},
   "outputs": [],
   "source": [
    "cursor = tweepy.Cursor(api.followers, screen_name='nasa')"
   ]
  },
  {
   "cell_type": "markdown",
   "metadata": {},
   "source": [
    "* First argument is **name of Tweepy method to call**\n",
    "* Additional keyword arguments are passed to method named in first argument"
   ]
  },
  {
   "cell_type": "markdown",
   "metadata": {},
   "source": [
    "<hr style=\"height:2px; border:none; color:#000; background-color:#000;\">"
   ]
  },
  {
   "cell_type": "markdown",
   "metadata": {},
   "source": [
    "### Get Results from `Cursor` and Display in Ascending Alphabetical Order  \n",
    "* Cursor’s **`items` method** calls `api.followers` and returns the `follower`s method’s results"
   ]
  },
  {
   "cell_type": "code",
   "execution_count": 14,
   "metadata": {},
   "outputs": [],
   "source": [
    "for account in cursor.items(10):  # request only 10 results\n",
    "    followers.append(account.screen_name)"
   ]
  },
  {
   "cell_type": "code",
   "execution_count": 15,
   "metadata": {},
   "outputs": [
    {
     "data": {
      "text/plain": [
       "['Carlos26270741',\n",
       " 'joseph_quintal',\n",
       " 'BratinaEli',\n",
       " 'Naive44464246',\n",
       " 'PamelaW2402Chi',\n",
       " 'GerberMais',\n",
       " 'Honey2ooo',\n",
       " 'hhhelkan',\n",
       " 'MrNobod91623809',\n",
       " 'JGonzal27080354']"
      ]
     },
     "execution_count": 15,
     "metadata": {},
     "output_type": "execute_result"
    }
   ],
   "source": [
    "followers"
   ]
  },
  {
   "cell_type": "markdown",
   "metadata": {},
   "source": [
    "<hr style=\"height:2px; border:none; color:#000; background-color:#000;\">"
   ]
  },
  {
   "cell_type": "markdown",
   "metadata": {},
   "source": [
    "### Automatic Paging\n",
    "* To **get up to 200 followers at a time**, create the `Cursor` with the **`count`** keyword argument\n",
    ">```python\n",
    "cursor = tweepy.Cursor(api.followers, screen_name='nasa', count=200)\n",
    "```\n",
    "* Calling `Cursor` method **`items`** with no argument attempts to get **all followers**\n",
    "    * Could **take significant time** due to **rate limits**"
   ]
  },
  {
   "cell_type": "markdown",
   "metadata": {},
   "source": [
    "<hr style=\"height:2px; border:none; color:#000; background-color:#000;\">"
   ]
  },
  {
   "cell_type": "markdown",
   "metadata": {},
   "source": [
    "# 12.10 Searching Recent Tweets with Tweepy `API` method **`search`** \n",
    "* **Tweets API**—Search **past 7 days' tweets**, access **live tweet streams** and more\n",
    "* Returns tweets that **match a query string**\n",
    "* Only for the **previous seven days’ tweets**\n",
    "* **Not guaranteed to return all matching tweets**\n",
    "* Calls Twitter’s **`search/tweets` method**\n",
    "* Returns 15 tweets at a time by default, but can return up to 100"
   ]
  },
  {
   "cell_type": "markdown",
   "metadata": {},
   "source": [
    "<hr style=\"height:2px; border:none; color:#000; background-color:#000;\">"
   ]
  },
  {
   "cell_type": "markdown",
   "metadata": {},
   "source": [
    "### Utility Function `print_tweets` from `tweetutilities.py` "
   ]
  },
  {
   "cell_type": "code",
   "execution_count": 16,
   "metadata": {},
   "outputs": [],
   "source": [
    "from tweetutilities import print_tweets"
   ]
  },
  {
   "cell_type": "markdown",
   "metadata": {},
   "source": [
    "```python\n",
    "def print_tweets(tweets):\n",
    "    \"\"\"For each Tweepy Status object in tweets, display the \n",
    "    user's screen_name and tweet text. If the language is not\n",
    "    English, translate the text with TextBlob.\"\"\"\n",
    "    for tweet in tweets:\n",
    "        print(f'{tweet.screen_name}:', end=' ')\n",
    "    \n",
    "        if 'en' in tweet.lang:\n",
    "            print(f'{tweet.text}\\n')\n",
    "        elif 'und' not in tweet.lang:  # translate to English first\n",
    "            print(f'\\n  ORIGINAL: {tweet.text}')\n",
    "            print(f'TRANSLATED: {TextBlob(tweet.text).translate()}\\n')\n",
    "\n",
    "```"
   ]
  },
  {
   "cell_type": "markdown",
   "metadata": {},
   "source": [
    "<hr style=\"height:2px; border:none; color:#000; background-color:#000;\">"
   ]
  },
  {
   "cell_type": "markdown",
   "metadata": {},
   "source": [
    "### Searching for Specific Words\n",
    "* **`q` keyword argument** specifies the **query string**\n",
    "* Should use **`Cursor`** for more than max results"
   ]
  },
  {
   "cell_type": "code",
   "execution_count": 17,
   "metadata": {},
   "outputs": [],
   "source": [
    "tweets = api.search(q='football', count=3)"
   ]
  },
  {
   "cell_type": "code",
   "execution_count": 18,
   "metadata": {},
   "outputs": [
    {
     "name": "stdout",
     "output_type": "stream",
     "text": [
      "Waks94: I do enjoy my rugby just as much as football https://t.co/JRicSrQXXn\n",
      "\n",
      "loriane_Ans: \n",
      "  ORIGINAL: RT @waren_barber237: Je suis tombé très tôt ce matin sur la page Facebook d'un jeunehomme très talentueux qui fabrique des ballons de footb…\n",
      "TRANSLATED: RT @ waren_barber237: I fell very early this morning on the Facebook page of a very talented young man who makes soccer balls…\n",
      "\n",
      "Jonsie76820327: @AndyBurnhamGM And all the time whining about a f*cking GB football team....\n",
      "\n"
     ]
    }
   ],
   "source": [
    "print_tweets(tweets)"
   ]
  },
  {
   "cell_type": "markdown",
   "metadata": {},
   "source": [
    "<hr style=\"height:2px; border:none; color:#000; background-color:#000;\">"
   ]
  },
  {
   "cell_type": "markdown",
   "metadata": {},
   "source": [
    "### Searching with Twitter Search Operators (1 of 2)\n",
    "* Use **Twitter search operators** to refine search results\n",
    "* The following table shows several Twitter search operators. \n",
    "* [For all the operators, click the `operators` link here](https://twitter.com/search-home)\n",
    "* ```python\n",
    "tweets = api.search(q='from:nasa since:2019-11-15', count=3)\n",
    "```\n",
    "\n",
    "| Example&nbsp;&nbsp;&nbsp;&nbsp;&nbsp;&nbsp;&nbsp;&nbsp;&nbsp;&nbsp;&nbsp;&nbsp;&nbsp;&nbsp;&nbsp;&nbsp;&nbsp;&nbsp;&nbsp;&nbsp;&nbsp;&nbsp;&nbsp;&nbsp;&nbsp;&nbsp;&nbsp;&nbsp;&nbsp;&nbsp;&nbsp;&nbsp;&nbsp;&nbsp;&nbsp;&nbsp;&nbsp;&nbsp;\t| Finds tweets containing\n",
    "| :---\t| :---\n",
    "| `python twitter` \t| **Implicit _logical and_ operator**—Finds tweets containing `python` _and_ `twitter`.\n",
    "| `python OR twitter` \t| **Logical `OR` operator**—Finds tweets containing `python` or `twitter` or both.\n",
    "| `python ?` \t| **`?` (question mark)**—Finds tweets asking questions about `python`.\n",
    "| `planets -mars` \t| **`-` (minus sign)**—Finds tweets containing `planets` but not `mars`.\n",
    "| `python :)` \t| **`:)` (happy face)**—Finds **positive sentiment** tweets containing `python`.\n",
    "| `python :(` \t| **`:(` (sad face)**—Finds **negative sentiment** tweets containing `python`.\n",
    "| `since:2018-09-01` \t| **Finds tweets **on or after** the specified date**, which must be in the form **`YYYY-MM-DD`**.\n",
    "| `near:\"New York City\" `\t| **Finds tweets that were sent near `\"New York City\"`**.\n",
    "| `from:nasa` \t| **Finds tweets from the account `@nasa`**.\n",
    "| `to:nasa` \t| **Finds tweets to the account `@nasa`**."
   ]
  },
  {
   "cell_type": "markdown",
   "metadata": {},
   "source": [
    "<hr style=\"height:2px; border:none; color:#000; background-color:#000;\">"
   ]
  },
  {
   "cell_type": "markdown",
   "metadata": {},
   "source": [
    "# 12.11 Spotting Trends: Twitter Trends API\n",
    "* **“Going viral”** &mdash; thousands or millions of people tweeting at once \n",
    "* Twitter maintains a list of **trending topics** worldwide \n",
    "* **Twitter Trends API** can return lists of **trending-topic locations** and the **top 50 trending topics** for each **location**"
   ]
  },
  {
   "cell_type": "markdown",
   "metadata": {},
   "source": [
    "<hr style=\"height:2px; border:none; color:#000; background-color:#000;\">"
   ]
  },
  {
   "cell_type": "markdown",
   "metadata": {},
   "source": [
    "## 12.11.1 Places with Trending Topics \n",
    "* See how to find places with trending topics: https://learning.oreilly.com/videos/python-fundamentals/9780135917411/9780135917411-PFLL_Lesson12_15"
   ]
  },
  {
   "cell_type": "markdown",
   "metadata": {},
   "source": [
    "<hr style=\"height:2px; border:none; color:#000; background-color:#000;\">"
   ]
  },
  {
   "cell_type": "markdown",
   "metadata": {},
   "source": [
    "## 12.11.2 Getting a List of Trending Topics with the Tweepy `API`’s **`trends_place` Method** \n",
    "* Calls **Twitter Trends API’s [`trends/place` method](https://developer.twitter.com/en/docs/trends/trends-for-location/api-reference/get-trends-place)**\n",
    "* Returns top **50 trending topics for the location**\n",
    "* [Look up WOEIDs](http://www.woeidlookup.com) (**Yahoo! Where on Earth IDs**)\n",
    "* Look up WOEID’s programmatically using **Yahoo!’s web services** via [Python libraries like `woeid`](https://github.com/Ray-SunR/woeid)"
   ]
  },
  {
   "cell_type": "markdown",
   "metadata": {},
   "source": [
    "<hr style=\"height:2px; border:none; color:#000; background-color:#000;\">"
   ]
  },
  {
   "cell_type": "markdown",
   "metadata": {},
   "source": [
    "### Get Today's Worldwide Trending Topics (1 of 3)"
   ]
  },
  {
   "cell_type": "code",
   "execution_count": 19,
   "metadata": {},
   "outputs": [],
   "source": [
    "world_trends = api.trends_place(id=1)  # list containing one dictionary"
   ]
  },
  {
   "cell_type": "markdown",
   "metadata": {},
   "source": [
    "* **`'trends'` key** refers to a **list of dictionaries representing each trend**"
   ]
  },
  {
   "cell_type": "code",
   "execution_count": 20,
   "metadata": {},
   "outputs": [],
   "source": [
    "trends_list = world_trends[0]['trends']"
   ]
  },
  {
   "cell_type": "markdown",
   "metadata": {},
   "source": [
    "<hr style=\"height:2px; border:none; color:#000; background-color:#000;\">"
   ]
  },
  {
   "cell_type": "markdown",
   "metadata": {},
   "source": [
    "### Get Today's Worldwide Trending Topics (2 of 3)\n",
    "* Each trend has **`name`**, **`url`**, **`promoted_content`** (whether it's an **advertisement**), **`query`** and **`tweet_volume`** keys"
   ]
  },
  {
   "cell_type": "code",
   "execution_count": 21,
   "metadata": {},
   "outputs": [
    {
     "data": {
      "text/plain": [
       "{'name': '#HappyShunyaDay',\n",
       " 'url': 'http://twitter.com/search?q=%23HappyShunyaDay',\n",
       " 'promoted_content': None,\n",
       " 'query': '%23HappyShunyaDay',\n",
       " 'tweet_volume': 16333}"
      ]
     },
     "execution_count": 21,
     "metadata": {},
     "output_type": "execute_result"
    }
   ],
   "source": [
    "trends_list[0]"
   ]
  },
  {
   "cell_type": "markdown",
   "metadata": {},
   "source": [
    "<hr style=\"height:2px; border:none; color:#000; background-color:#000;\">"
   ]
  },
  {
   "cell_type": "markdown",
   "metadata": {},
   "source": [
    "### Get Today's Worldwide Trending Topics (3 of 3)\n",
    "* For **trends with more than 10,000 tweets**, the **`tweet_volume`** is the **number of tweets**; otherwise, it’s `None`\n",
    "* Filter the list so that it contains only trends with more than 10,000 tweets:"
   ]
  },
  {
   "cell_type": "code",
   "execution_count": 22,
   "metadata": {},
   "outputs": [],
   "source": [
    "trends_list = [t for t in trends_list if t['tweet_volume']]"
   ]
  },
  {
   "cell_type": "code",
   "execution_count": 23,
   "metadata": {},
   "outputs": [],
   "source": [
    "from operator import itemgetter "
   ]
  },
  {
   "cell_type": "code",
   "execution_count": 24,
   "metadata": {},
   "outputs": [],
   "source": [
    "trends_list.sort(key=itemgetter('tweet_volume'), reverse=True) "
   ]
  },
  {
   "cell_type": "code",
   "execution_count": 25,
   "metadata": {},
   "outputs": [
    {
     "name": "stdout",
     "output_type": "stream",
     "text": [
      "鬼滅の作者\n",
      "#पूर्णब्रह्म_कबीरसाहेब\n",
      "#とどけ感謝\n",
      "#sailormoonredraw\n",
      "#麒麟がくる\n",
      "#JusticeForTamilGenocide\n",
      "#รวยนะคะรู้ยัง\n",
      "Emman\n",
      "JIHYO\n",
      "#WhoAreYouEP6\n",
      "#DarlingTaeyangDay\n",
      "#IDAHOBIT2020\n",
      "#pazar\n",
      "#EternityTODAY\n",
      "Paulo Marinho\n",
      "#美食探偵\n",
      "#sundayvibes\n",
      "#17May\n",
      "#FelizDomingo\n",
      "#loveislove\n",
      "#TaylanKulacoğluYalnızDeğildir\n",
      "#LockdownExtended\n",
      "#天城燐音誕生祭2020\n",
      "#NationalTrumpTwitterBlackout\n",
      "#アニソンプレミアム\n",
      "#HappyShunyaDay\n",
      "#YksNusaybindedeYapılsın\n",
      "#KMJS15\n",
      "#JuntosContraLGBTQfobia\n",
      "#乃木坂工事中\n",
      "Mainz\n"
     ]
    }
   ],
   "source": [
    "for trend in trends_list:  # show top trending topics\n",
    "    print(trend['name'])"
   ]
  },
  {
   "cell_type": "markdown",
   "metadata": {},
   "source": [
    "<hr style=\"height:2px; border:none; color:#000; background-color:#000;\">"
   ]
  },
  {
   "cell_type": "markdown",
   "metadata": {},
   "source": [
    "# 12.12 Cleaning/Preprocessing Tweets for Analysis\n",
    "* **Data cleaning** is one of data scientists' most common tasks \n",
    "* Some **NLP tasks** for **normalizing tweets**\n",
    "    * Converting text to **same case**\n",
    "    * Removing **`#` from hashtags**, **`@`-mentions**, **duplicates**, **hashtags**\n",
    "    * Removing **excess whitespace**, **punctuation**, **stop words**, **URLs**\n",
    "    * Removing tweet keywords **`RT`** (retweet) and **`FAV`** (favorite) \n",
    "    * **Stemming** and **lemmatization**\n",
    "    * **Tokenization**"
   ]
  },
  {
   "cell_type": "markdown",
   "metadata": {},
   "source": [
    "<hr style=\"height:2px; border:none; color:#000; background-color:#000;\">"
   ]
  },
  {
   "cell_type": "markdown",
   "metadata": {},
   "source": [
    "### [**tweet-preprocessor**](https://github.com/s/preprocessor) Library and TextBlob Utility Functions\n",
    "* `pip install tweet-preprocessor`\n",
    "* Can automatically remove any combination of:\n",
    "\n",
    "| Option\t| Option constant\n",
    "| :---\t| :---\n",
    "| **`OPT.MENTION`** | @-Mentions (e.g., `@nasa`)\t\n",
    "| **`OPT.EMOJI`** | Emoji\t\n",
    "| **`OPT.HASHTAG`** | Hashtag (e.g., `#mars`)\t\n",
    "| **`OPT.NUMBER`** | Number\t\n",
    "| **`OPT.RESERVED`** | Reserved Words (`RT` and `FAV`)\t\n",
    "| **`OPT.SMILEY`** | Smiley\t\n",
    "| **`OPT.URL`** | URL\t"
   ]
  },
  {
   "cell_type": "markdown",
   "metadata": {},
   "source": [
    "<hr style=\"height:2px; border:none; color:#000; background-color:#000;\">"
   ]
  },
  {
   "cell_type": "markdown",
   "metadata": {},
   "source": [
    "### Cleaning a Tweet Containing a Reserved Word and a URL\n",
    "* The tweet-preprocessor library’s module name is **`preprocessor`** "
   ]
  },
  {
   "cell_type": "code",
   "execution_count": 26,
   "metadata": {},
   "outputs": [],
   "source": [
    "import preprocessor as p  # p recommended by docs"
   ]
  },
  {
   "cell_type": "code",
   "execution_count": 27,
   "metadata": {},
   "outputs": [],
   "source": [
    "p.set_options(p.OPT.URL, p.OPT.RESERVED)  # specify what to clean"
   ]
  },
  {
   "cell_type": "code",
   "execution_count": 28,
   "metadata": {},
   "outputs": [],
   "source": [
    "tweet_text = 'RT A sample retweet with a URL https://nasa.gov'"
   ]
  },
  {
   "cell_type": "code",
   "execution_count": 29,
   "metadata": {},
   "outputs": [
    {
     "data": {
      "text/plain": [
       "'A sample retweet with a URL'"
      ]
     },
     "execution_count": 29,
     "metadata": {},
     "output_type": "execute_result"
    }
   ],
   "source": [
    "p.clean(tweet_text)"
   ]
  },
  {
   "cell_type": "markdown",
   "metadata": {},
   "source": [
    "<hr style=\"height:2px; border:none; color:#000; background-color:#000;\">"
   ]
  },
  {
   "cell_type": "markdown",
   "metadata": {},
   "source": [
    "# 12.13 Twitter Streaming API\n",
    "* Streams **randomly selected** live tweets up to a **maximum of 1% of the tweets per day**\n",
    "* According to https://InternetLiveStats.com\n",
    "    * **~8500 tweets per second**\n",
    "    * Nearly **750 million tweets per day**\n",
    "* So Streaming API gives you **free access to approximately 7.5 million tweets/day**"
   ]
  },
  {
   "cell_type": "markdown",
   "metadata": {},
   "source": [
    "<hr style=\"height:2px; border:none; color:#000; background-color:#000;\">"
   ]
  },
  {
   "cell_type": "markdown",
   "metadata": {},
   "source": [
    "## 12.13.1 Creating a Subclass of `StreamListener` \n",
    "* A stream **pushes** tweets to your app via a **persistent connection** \n",
    "* **Streaming rate** varies tremendously, based on search criteria\n",
    "* Subclass of Tweepy’s **`StreamListener`** listens for tweets\n",
    "    * **Notified** when each **new tweet** or other **Twitter message** **arrives**\n",
    "    * Each message results in a call to a **`StreamListener` method**\n",
    "    * **Override** only the **methods you need**\n"
   ]
  },
  {
   "cell_type": "markdown",
   "metadata": {},
   "source": [
    "<hr style=\"height:2px; border:none; color:#000; background-color:#000;\">"
   ]
  },
  {
   "cell_type": "markdown",
   "metadata": {},
   "source": [
    "### `StreamListener` Methods\n",
    "* [`StreamListener` methods](https://github.com/tweepy/tweepy/blob/master/tweepy/streaming.py)  \n",
    "\n",
    "| Method&nbsp;&nbsp;&nbsp;&nbsp;&nbsp;&nbsp;&nbsp;&nbsp;&nbsp;&nbsp;&nbsp;&nbsp;&nbsp;&nbsp;&nbsp;&nbsp;&nbsp;&nbsp;&nbsp;&nbsp;&nbsp;&nbsp;&nbsp;&nbsp;&nbsp;&nbsp;&nbsp;&nbsp;&nbsp;&nbsp;&nbsp;&nbsp;&nbsp;&nbsp;&nbsp;&nbsp;&nbsp;&nbsp;&nbsp;&nbsp;&nbsp;&nbsp;&nbsp;&nbsp;&nbsp;&nbsp;&nbsp;&nbsp;&nbsp;&nbsp;&nbsp;&nbsp;&nbsp;&nbsp;&nbsp;&nbsp;&nbsp;&nbsp;| Called when...\n",
    "| :---\t| :---\n",
    "| **`on_connect(self)`** \t| App **successfully connects** to the Twitter stream. This is for statements that should execute only if your app is connected to the stream.\n",
    "| **`on_status(self, status)`** \t| A **tweet arrives**—**`status`** is a Tweepy **`Status`** object.\n",
    "| **`on_data(self, data)`** \t| A **tweet arrives**—**`data`** is the **raw JSON** of a Twitter status (tweet).\n",
    "| **`on_limit(self, track)`** \t| A **limit notice** arrives. This occurs if your search matches more tweets than Twitter can deliver based on its current streaming rate limits. In this case, the limit notice contains the number of matching tweets that could not be delivered.\n",
    "| **`on_error(self, status_code)`** \t| An **error code** arrives. \n",
    "| **`on_timeout(self)`** \t| The **connection times out**—that is, the Twitter server is not responding.\n",
    "| **`on_warning(self, notice)`** \t| **Twitter sends a disconnect warning** to indicate that the connection might be closed. For example, Twitter maintains a queue of the tweets it’s pushing to your app. If the app does not read the tweets fast enough, `on_warning`’s notice argument will contain a warning message indicating that the connection will terminate if the queue becomes full. "
   ]
  },
  {
   "cell_type": "markdown",
   "metadata": {},
   "source": [
    "<hr style=\"height:2px; border:none; color:#000; background-color:#000;\">"
   ]
  },
  {
   "cell_type": "markdown",
   "metadata": {},
   "source": [
    "### Class `TweetListener` Defined in `tweetlistener.py`\n",
    "```python  \n",
    "# tweetlistener.py\n",
    "\"\"\"tweepy.StreamListener subclass that processes tweets as they arrive.\"\"\"\n",
    "import tweepy\n",
    "from textblob import TextBlob\n",
    "\n",
    "class TweetListener(tweepy.StreamListener):\n",
    "    \"\"\"Handles incoming Tweet stream.\"\"\"\n",
    "```"
   ]
  },
  {
   "cell_type": "markdown",
   "metadata": {},
   "source": [
    "```python  \n",
    "    def __init__(self, api, limit=10):\n",
    "        \"\"\"Create instance variables for tracking number of tweets.\"\"\"\n",
    "        self.tweet_count = 0\n",
    "        self.TWEET_LIMIT = limit  # max number of tweets; None for no max\n",
    "        super().__init__(api)  # call superclass's init\n",
    "\n",
    "    def on_connect(self):\n",
    "        \"\"\"Called when your connection attempt is successful, enabling \n",
    "        you to perform appropriate application tasks at that point.\"\"\"\n",
    "        print('Connection successful\\n')\n",
    "```"
   ]
  },
  {
   "cell_type": "markdown",
   "metadata": {},
   "source": [
    "```python  \n",
    "    def on_status(self, status):\n",
    "        \"\"\"Called when Twitter pushes a new tweet to you.\"\"\"\n",
    "        # get the tweet text\n",
    "        try:  \n",
    "            tweet_text = status.extended_tweet[\"full_text\"]\n",
    "        except: \n",
    "            tweet_text = status.text\n",
    "\n",
    "        print(f'Screen name: {status.user.screen_name}:')\n",
    "        print(f'   Language: {status.lang}')\n",
    "        print(f'     Status: {tweet_text}')\n",
    "\n",
    "        if status.lang != 'en' and status.lang != 'und':\n",
    "            print(f' Translated: {TextBlob(tweet_text).translate()}')\n",
    "\n",
    "        print()\n",
    "        self.tweet_count += 1  # track number of tweets processed\n",
    "\n",
    "        # if TWEET_LIMIT is reached, return False to terminate streaming\n",
    "        return self.tweet_count < self.TWEET_LIMIT\n",
    "```"
   ]
  },
  {
   "cell_type": "markdown",
   "metadata": {},
   "source": [
    "<hr style=\"height:2px; border:none; color:#000; background-color:#000;\">"
   ]
  },
  {
   "cell_type": "markdown",
   "metadata": {},
   "source": [
    "## 12.13.2 Initiating Stream Processing\n",
    "\n",
    "### Creating a `TweetListener` Initializing It with the `api` Object"
   ]
  },
  {
   "cell_type": "code",
   "execution_count": 30,
   "metadata": {},
   "outputs": [],
   "source": [
    "from tweetlistener import TweetListener"
   ]
  },
  {
   "cell_type": "code",
   "execution_count": 31,
   "metadata": {},
   "outputs": [],
   "source": [
    "tweet_listener = TweetListener(api, limit=5)"
   ]
  },
  {
   "cell_type": "markdown",
   "metadata": {},
   "source": [
    "<hr style=\"height:2px; border:none; color:#000; background-color:#000;\">"
   ]
  },
  {
   "cell_type": "markdown",
   "metadata": {},
   "source": [
    "### Creating a Tweepy **`Stream`** Object to Manage the Connection to the Twitter Stream\n",
    "* Passes the messages to your `TweetListener` "
   ]
  },
  {
   "cell_type": "code",
   "execution_count": 32,
   "metadata": {},
   "outputs": [],
   "source": [
    "tweet_stream = tweepy.Stream(auth=api.auth, listener=tweet_listener)"
   ]
  },
  {
   "cell_type": "markdown",
   "metadata": {},
   "source": [
    "<hr style=\"height:2px; border:none; color:#000; background-color:#000;\">"
   ]
  },
  {
   "cell_type": "markdown",
   "metadata": {},
   "source": [
    "### Starting the Tweet Stream with the `Stream` Object’s **`filter` Method** \n",
    "* `track` parameter specifies a list of search terms\n",
    "* [Other `filter` method parameters](https://developer.twitter.com/en/docs/tweets/filter-realtime/guides/basic-stream-parameters) for refining your tweet searches\n",
    "* Streaming API returns full tweet **JSON objects** for tweets that match any of the terms, **not just in the tweet’s text, but also in @-mentions, hashtags, expanded URLs and other information**  \n",
    "* Might not see search terms in **tweets' text**"
   ]
  },
  {
   "cell_type": "code",
   "execution_count": 33,
   "metadata": {},
   "outputs": [
    {
     "name": "stdout",
     "output_type": "stream",
     "text": [
      "Connection successful\n",
      "\n",
      "Screen name: zanamarie_7:\n",
      "   Language: en\n",
      "     Status: RT @fowleyes: LMAOOOO look what i done seen on facebook... 😭😭😭😭 \n",
      "\n",
      "“they got the football stuck in someone’s yard and tried to outsmart the…\n",
      "\n",
      "Screen name: 5amraj:\n",
      "   Language: en\n",
      "     Status: The football one was active\n",
      "\n",
      "Screen name: simontakel:\n",
      "   Language: en\n",
      "     Status: The @Carra23 challenge where you ask your wife/partner to pick a football XI &amp; positions.\n",
      "Seemingly drawing inspiration from Dutch ‘Total Football’ philosophy. Interesting tactical decision to utilise the height of Peter Crouch in defence, flanked by the pace of Cole &amp; Ronaldo. https://t.co/cIrZE3MwSA\n",
      "\n",
      "Screen name: kyle21davis:\n",
      "   Language: en\n",
      "     Status: RT @FutbolBible: 🇧🇪 Throwback to when Eden Hazard schooled both Willian and Jorginho at juggling American football. Baller. https://t.co/Bq…\n",
      "\n",
      "Screen name: Gulf_Omma:\n",
      "   Language: en\n",
      "     Status: RT @Gulf_Mewl: football player gulf slowly falling in love with singer mew 💕 https://t.co/YL7ECHtuzu\n",
      "\n"
     ]
    }
   ],
   "source": [
    "tweet_stream.filter(track=['football'])  #, is_async=True) "
   ]
  },
  {
   "cell_type": "markdown",
   "metadata": {},
   "source": [
    "<hr style=\"height:2px; border:none; color:#000; background-color:#000;\">"
   ]
  },
  {
   "cell_type": "markdown",
   "metadata": {},
   "source": [
    "### **Lecture note: Run remaining cells now so we don't have to wait for streamed tweets later.**\n",
    "\n",
    "### Asynchronous vs. Synchronous Streams\n",
    "* **`is_async=True`** &mdash; would initiate an **asynchronous tweet stream** \n",
    "* Without `is_async=True`, the stream is **synchronous** and the next In [] prompt appears **after the stream terminates**    \n",
    "* in Jupyter, we used a **synchronous stream** ensure that all tweets display\n",
    "* In IPython, can terminate an asynchronous tweet stream early:  \n",
    ">`tweet_stream.running=False`    \n"
   ]
  },
  {
   "cell_type": "markdown",
   "metadata": {},
   "source": [
    "<hr style=\"height:2px; border:none; color:#000; background-color:#000;\">"
   ]
  },
  {
   "cell_type": "markdown",
   "metadata": {},
   "source": [
    "# 12.14 Tweet Sentiment Analysis \n",
    "* Political researchers might use to understand **how people are likely to vote**\n",
    "* Companies might use to see what people are saying about **their products** and **competitors’ products**\n",
    "* Script **`sentimentlistener.py`** checks **sentiment** on a specified topic for a specified number of tweets\n",
    "* The script in this example is substantially the same as the previous example, but uses TextBlob to check the sentiment of each tweet as we did in the NLP presentation"
   ]
  },
  {
   "cell_type": "code",
   "execution_count": 34,
   "metadata": {},
   "outputs": [
    {
     "name": "stdout",
     "output_type": "stream",
     "text": [
      "  Pr1nceOfDarknes: If I were a follower of German football, I suppose that the stuff on TV might be of interest, but without fans and without atmosphere these games are unwatchable.\n",
      "\n",
      "- locallink57: @Ryanquinn2012 It's not about providing highest level of care, NHS do that everyday. It's about risk and as football is a contact sport why would anybody want to risk it?\n",
      "\n",
      "- Jonsie76820327: @AndyBurnhamGM And all the time whining about a f*cking GB football team....\n",
      "\n",
      "+ Waks94: I do enjoy my rugby just as much as football\n",
      "\n",
      "- _crowntheking_: @gridiron_hoops @LeGoat_James236 @TheNBACentral i’m really glad you got dragged so hard in the comments. are your football takes less retarded? they lost because bron and kyrie beat them into submission so bad that draymond called kd crying. steph couldn’t hit the rim in the 4th quarter of game 7 so they went and got kd\n",
      "\n",
      "+ celticforever8: @irvinepauly @TommyTurnsCSC @SensibleScots @ReubenVaart @scotsunsport @HumzaYousaf Another raging hun who has nothing good to say about his football club so he uses the abuse of children to make himself feel better. That's how tragic your whole fanbase has become. The desperate, warped club.\n",
      "\n",
      "- ChrisVannini: Division II Florida Tech became the first school to choose to cut football because of the pandemic. Inside the decision process and how those on the team are picking up the pieces. “We just started breaking down crying.”\n",
      "\n",
      "+ craigtaggart96: This köln vs Mainz game has been pretty good. Very enjoyable. This has been a great weekend having football back #BundesligaIsBack\n",
      "\n",
      "- superchargers11: @LASDChargersFan @j_rudy96 I mean I want to talk charger football not see that kind of crap between what should be mutual fans\n",
      "\n",
      "+ madelteach: Ready to get my football metaphors on for teaching by the new playbook , thanks @CGCKevin @TheCGCProject! Delightful and refreshing talk. Must-see for those team @iborganization &amp; all educators. You got it coach! 👩‍🏫 🏈 #ToddleTIES\n",
      "\n",
      "Tweet sentiment for \"football\"\n",
      "Positive: 4\n",
      " Neutral: 1\n",
      "Negative: 5\n"
     ]
    }
   ],
   "source": [
    "run sentimentlistener.py football 10"
   ]
  },
  {
   "cell_type": "markdown",
   "metadata": {},
   "source": [
    "<hr style=\"height:2px; border:none; color:#000; background-color:#000;\">"
   ]
  },
  {
   "cell_type": "markdown",
   "metadata": {},
   "source": [
    "# 12.15 Geocoding and Mapping\n",
    "* Collect **streaming tweets**, then **plot** their **locations** on an **interactive map**\n",
    "* **Twitter disables precise location info (latitude/longitude) by default** (users must opt in to allowing Twitter to track locations) \n",
    "* Large percentage include the user’s home location information\n",
    "    * Sometimes invalid or fictitious \n",
    "* **Map markers** will show `location` from each tweet’s `User` object"
   ]
  },
  {
   "cell_type": "markdown",
   "metadata": {},
   "source": [
    "<hr style=\"height:2px; border:none; color:#000; background-color:#000;\">"
   ]
  },
  {
   "cell_type": "markdown",
   "metadata": {},
   "source": [
    "### [**geopy** library](https://github.com/geopy/geopy)\n",
    "* **Geocoding**&mdash;translate locations into **latitude** and **longitude**\n",
    "* **geopy** supports dozens of **geocoding web services**, many with **free or lite tiers**\n",
    "* We’ll use **OpenMapQuest geocoding service** "
   ]
  },
  {
   "cell_type": "markdown",
   "metadata": {},
   "source": [
    "<hr style=\"height:2px; border:none; color:#000; background-color:#000;\">"
   ]
  },
  {
   "cell_type": "markdown",
   "metadata": {},
   "source": [
    "### OpenMapQuest Geocoding API (1 of 2)\n",
    "* Convert locations, such as **Boston, MA** into their **latitudes** and **longitudes**, such as **42.3602534** and **-71.0582912**, for plotting on maps\n",
    "* Currently allows **15,000 transactions per month** on their free tier\n",
    "* [Sign up](https://developer.mapquest.com/)\n",
    "* For a presentation of **signing up** and **getting your credentials**, see my [**Python Fundamentals LiveLessons video**](https://learning.oreilly.com/videos/python-fundamentals/9780135917411/9780135917411-PFLL_Lesson12_24) or the [**beginning of Section 12.15 in Python for Programmers**](https://learning.oreilly.com/library/view/python-for-programmers/9780135231364/ch12.xhtml#ch12lev1sec15)"
   ]
  },
  {
   "cell_type": "markdown",
   "metadata": {},
   "source": [
    "<hr style=\"height:2px; border:none; color:#000; background-color:#000;\">"
   ]
  },
  {
   "cell_type": "markdown",
   "metadata": {},
   "source": [
    "### [**folium library**](https://github.com/python-visualization/folium) and Leaflet.js JavaScript Mapping Library\n",
    "* Uses **Leaflet.js JavaScript mapping library** to display maps in a web page \n",
    "* Folium can output **HTML documents** for viewing in a **web browser**\n",
    "* `pip install folium`"
   ]
  },
  {
   "cell_type": "markdown",
   "metadata": {},
   "source": [
    "<hr style=\"height:2px; border:none; color:#000; background-color:#000;\">"
   ]
  },
  {
   "cell_type": "markdown",
   "metadata": {},
   "source": [
    "### Maps from OpenStreetMap.org\n",
    "By default, **Leaflet.js** uses **open source maps** from **`OpenStreetMap.org`**\n",
    "* To use these maps, **they require the following copyright notice**:\n",
    "\n",
    "> `Map data © OpenStreetMap contributors`\n",
    "\n",
    "* They also say: **You must make it clear that the data is available under the Open Database License. This can be achieved by providing a “License” or “Terms” link which links to https://www.openstreetmap.org/copyright or https://www.opendatacommons.org/licenses/odbl/index.html**"
   ]
  },
  {
   "cell_type": "markdown",
   "metadata": {},
   "source": [
    "<hr style=\"height:2px; border:none; color:#000; background-color:#000;\">"
   ]
  },
  {
   "cell_type": "markdown",
   "metadata": {},
   "source": [
    "### Collections Required By `LocationListener`\n",
    "* Requires two collections\n",
    "    * A **list (`tweets`)** to store the tweets we collect \n",
    "    * A **dictionary (`counts`)** to track the **total number of tweets** we collect and the **number that have location data**"
   ]
  },
  {
   "cell_type": "code",
   "execution_count": 35,
   "metadata": {},
   "outputs": [],
   "source": [
    "tweets = [] "
   ]
  },
  {
   "cell_type": "code",
   "execution_count": 36,
   "metadata": {},
   "outputs": [],
   "source": [
    "counts = {'total_tweets': 0, 'locations': 0}"
   ]
  },
  {
   "cell_type": "markdown",
   "metadata": {},
   "source": [
    "<hr style=\"height:2px; border:none; color:#000; background-color:#000;\">"
   ]
  },
  {
   "cell_type": "markdown",
   "metadata": {},
   "source": [
    "### Creating the LocationListener "
   ]
  },
  {
   "cell_type": "code",
   "execution_count": 37,
   "metadata": {},
   "outputs": [],
   "source": [
    "from locationlistener import LocationListener"
   ]
  },
  {
   "cell_type": "code",
   "execution_count": 38,
   "metadata": {},
   "outputs": [],
   "source": [
    "location_listener = LocationListener(api, counts_dict=counts, \n",
    "    tweets_list=tweets, topic='football', limit=50)"
   ]
  },
  {
   "cell_type": "markdown",
   "metadata": {},
   "source": [
    "* **`LocationListener`** uses our **utility function `get_tweet_content`** to place each tweets **screen name**, **tweet text** and **location** into a **dictionary**"
   ]
  },
  {
   "cell_type": "markdown",
   "metadata": {},
   "source": [
    "<hr style=\"height:2px; border:none; color:#000; background-color:#000;\">"
   ]
  },
  {
   "cell_type": "markdown",
   "metadata": {},
   "source": [
    "### Configure and Start the `Stream` of Tweets"
   ]
  },
  {
   "cell_type": "code",
   "execution_count": 39,
   "metadata": {},
   "outputs": [],
   "source": [
    "import tweepy"
   ]
  },
  {
   "cell_type": "code",
   "execution_count": 40,
   "metadata": {},
   "outputs": [],
   "source": [
    "stream = tweepy.Stream(auth=api.auth, listener=location_listener)"
   ]
  },
  {
   "cell_type": "code",
   "execution_count": 41,
   "metadata": {},
   "outputs": [
    {
     "name": "stdout",
     "output_type": "stream",
     "text": [
      "dandibley: @WeintraubLive @JoeLoAndDibs That's too many \"f's\" for a Pro Football Focus reference.\n",
      "\n"
     ]
    }
   ],
   "source": [
    "stream.filter(track=['football'], languages=['en'], is_async=False)"
   ]
  },
  {
   "cell_type": "markdown",
   "metadata": {},
   "source": [
    "<hr style=\"height:2px; border:none; color:#000; background-color:#000;\">"
   ]
  },
  {
   "cell_type": "markdown",
   "metadata": {},
   "source": [
    "### Displaying the Location Statistics "
   ]
  },
  {
   "cell_type": "code",
   "execution_count": 42,
   "metadata": {},
   "outputs": [
    {
     "data": {
      "text/plain": [
       "66"
      ]
     },
     "execution_count": 42,
     "metadata": {},
     "output_type": "execute_result"
    }
   ],
   "source": [
    "counts['total_tweets']"
   ]
  },
  {
   "cell_type": "code",
   "execution_count": 43,
   "metadata": {},
   "outputs": [
    {
     "data": {
      "text/plain": [
       "50"
      ]
     },
     "execution_count": 43,
     "metadata": {},
     "output_type": "execute_result"
    }
   ],
   "source": [
    "counts['locations']"
   ]
  },
  {
   "cell_type": "code",
   "execution_count": 44,
   "metadata": {},
   "outputs": [
    {
     "name": "stdout",
     "output_type": "stream",
     "text": [
      "75.8%\n"
     ]
    }
   ],
   "source": [
    "print(f'{counts[\"locations\"] / counts[\"total_tweets\"]:.1%}')"
   ]
  },
  {
   "cell_type": "markdown",
   "metadata": {},
   "source": [
    "<hr style=\"height:2px; border:none; color:#000; background-color:#000;\">"
   ]
  },
  {
   "cell_type": "markdown",
   "metadata": {},
   "source": [
    "### Geocoding the Locations with Our `get_geocodes` Utility Function \n",
    "* **OpenMapQuest** geocoding service **times out** when it **cannot handle your request immediately**\n",
    "* If so, **`get_geocodes`** **notifies** you, **waits**, then **retries** the request"
   ]
  },
  {
   "cell_type": "code",
   "execution_count": 45,
   "metadata": {},
   "outputs": [],
   "source": [
    "from tweetutilities import get_geocodes"
   ]
  },
  {
   "cell_type": "code",
   "execution_count": 46,
   "metadata": {},
   "outputs": [
    {
     "name": "stdout",
     "output_type": "stream",
     "text": [
      "Getting coordinates for tweet locations...\n",
      "Service timed out\n",
      "OpenMapQuest service timed out. Waiting.\n",
      "Service timed out\n",
      "OpenMapQuest service timed out. Waiting.\n",
      "Service timed out\n",
      "OpenMapQuest service timed out. Waiting.\n",
      "Done geocoding\n"
     ]
    }
   ],
   "source": [
    "bad_locations = get_geocodes(tweets)"
   ]
  },
  {
   "cell_type": "markdown",
   "metadata": {},
   "source": [
    "<hr style=\"height:2px; border:none; color:#000; background-color:#000;\">"
   ]
  },
  {
   "cell_type": "markdown",
   "metadata": {},
   "source": [
    "### Displaying the Bad Location Statistics"
   ]
  },
  {
   "cell_type": "code",
   "execution_count": 47,
   "metadata": {},
   "outputs": [
    {
     "data": {
      "text/plain": [
       "10"
      ]
     },
     "execution_count": 47,
     "metadata": {},
     "output_type": "execute_result"
    }
   ],
   "source": [
    "bad_locations"
   ]
  },
  {
   "cell_type": "code",
   "execution_count": 48,
   "metadata": {},
   "outputs": [
    {
     "name": "stdout",
     "output_type": "stream",
     "text": [
      "20.0%\n"
     ]
    }
   ],
   "source": [
    "print(f'{bad_locations / counts[\"locations\"]:.1%}')"
   ]
  },
  {
   "cell_type": "markdown",
   "metadata": {},
   "source": [
    "<hr style=\"height:2px; border:none; color:#000; background-color:#000;\">"
   ]
  },
  {
   "cell_type": "markdown",
   "metadata": {},
   "source": [
    "### Cleaning the Data with a pandas `DataFrame` Before Displaying the Data on a Map\n",
    "* `DataFrame` will contain **`NaN`** for the **`latitude`** and **`longitude`** of any tweet that **did not have a valid location**\n",
    "* Remove any such via `DataFrame`’s **`dropna` method** "
   ]
  },
  {
   "cell_type": "code",
   "execution_count": 49,
   "metadata": {},
   "outputs": [],
   "source": [
    "import pandas as pd"
   ]
  },
  {
   "cell_type": "code",
   "execution_count": 50,
   "metadata": {},
   "outputs": [],
   "source": [
    "df = pd.DataFrame(tweets)"
   ]
  },
  {
   "cell_type": "code",
   "execution_count": 51,
   "metadata": {},
   "outputs": [
    {
     "data": {
      "text/html": [
       "<div>\n",
       "<style scoped>\n",
       "    .dataframe tbody tr th:only-of-type {\n",
       "        vertical-align: middle;\n",
       "    }\n",
       "\n",
       "    .dataframe tbody tr th {\n",
       "        vertical-align: top;\n",
       "    }\n",
       "\n",
       "    .dataframe thead th {\n",
       "        text-align: right;\n",
       "    }\n",
       "</style>\n",
       "<table border=\"1\" class=\"dataframe\">\n",
       "  <thead>\n",
       "    <tr style=\"text-align: right;\">\n",
       "      <th></th>\n",
       "      <th>screen_name</th>\n",
       "      <th>text</th>\n",
       "      <th>location</th>\n",
       "      <th>latitude</th>\n",
       "      <th>longitude</th>\n",
       "    </tr>\n",
       "  </thead>\n",
       "  <tbody>\n",
       "    <tr>\n",
       "      <th>0</th>\n",
       "      <td>Nick_CPFC</td>\n",
       "      <td>@localpla2tic @palaceawayy It might not be a n...</td>\n",
       "      <td>South London</td>\n",
       "      <td>26.304427</td>\n",
       "      <td>50.169413</td>\n",
       "    </tr>\n",
       "    <tr>\n",
       "      <th>1</th>\n",
       "      <td>nkujamangweni</td>\n",
       "      <td>@Soccer_Laduma I weep for the future of football.</td>\n",
       "      <td>Cape Town, South Africa</td>\n",
       "      <td>-33.928992</td>\n",
       "      <td>18.417396</td>\n",
       "    </tr>\n",
       "    <tr>\n",
       "      <th>2</th>\n",
       "      <td>bibironkee</td>\n",
       "      <td>Football</td>\n",
       "      <td>Ibadan, Nigeria</td>\n",
       "      <td>7.377746</td>\n",
       "      <td>3.897250</td>\n",
       "    </tr>\n",
       "    <tr>\n",
       "      <th>3</th>\n",
       "      <td>MOSESBDEXTER</td>\n",
       "      <td>@SiPhillipsSport Well Spoken Boss.👮‍♂️. We nee...</td>\n",
       "      <td>Rwanda</td>\n",
       "      <td>-1.964663</td>\n",
       "      <td>30.064436</td>\n",
       "    </tr>\n",
       "    <tr>\n",
       "      <th>4</th>\n",
       "      <td>SaifoDiab</td>\n",
       "      <td>The first football I ever watched and I fell i...</td>\n",
       "      <td>Abu Dhabi UAE/London Canada</td>\n",
       "      <td>NaN</td>\n",
       "      <td>NaN</td>\n",
       "    </tr>\n",
       "    <tr>\n",
       "      <th>5</th>\n",
       "      <td>Lewis31m</td>\n",
       "      <td>@Tactical_Times No way it’s true, Suso and Alb...</td>\n",
       "      <td>Lowestoft/Coventry</td>\n",
       "      <td>NaN</td>\n",
       "      <td>NaN</td>\n",
       "    </tr>\n",
       "    <tr>\n",
       "      <th>6</th>\n",
       "      <td>kimmebling</td>\n",
       "      <td>Baptist Sunday School. Catholic Mass. NFL Foot...</td>\n",
       "      <td>USA</td>\n",
       "      <td>39.783730</td>\n",
       "      <td>-100.445882</td>\n",
       "    </tr>\n",
       "    <tr>\n",
       "      <th>7</th>\n",
       "      <td>northnews</td>\n",
       "      <td>#NewcastleUnited players are tested for #COVID...</td>\n",
       "      <td>Newcastle Upon Tyne, England</td>\n",
       "      <td>54.977092</td>\n",
       "      <td>-1.614206</td>\n",
       "    </tr>\n",
       "    <tr>\n",
       "      <th>8</th>\n",
       "      <td>Msuleimaan</td>\n",
       "      <td>If not sentiment and football banter, how is S...</td>\n",
       "      <td>Kano, Nigeria</td>\n",
       "      <td>11.991867</td>\n",
       "      <td>8.530365</td>\n",
       "    </tr>\n",
       "    <tr>\n",
       "      <th>9</th>\n",
       "      <td>paulh2403</td>\n",
       "      <td>@FootballBanned @MaineRoad71 @mrjakehumphrey @...</td>\n",
       "      <td>Manchester</td>\n",
       "      <td>53.479130</td>\n",
       "      <td>-2.244101</td>\n",
       "    </tr>\n",
       "    <tr>\n",
       "      <th>10</th>\n",
       "      <td>JDhavoc37</td>\n",
       "      <td>Bucs Nation I'm so ready for football season t...</td>\n",
       "      <td>USA</td>\n",
       "      <td>39.783730</td>\n",
       "      <td>-100.445882</td>\n",
       "    </tr>\n",
       "    <tr>\n",
       "      <th>11</th>\n",
       "      <td>hescatchingfire</td>\n",
       "      <td>@RedsCaIIum @loveforIust Whats your fav footba...</td>\n",
       "      <td>𝗠𝗘𝗟 &amp; 𝗠𝗘𝗟𝗜𝗦</td>\n",
       "      <td>NaN</td>\n",
       "      <td>NaN</td>\n",
       "    </tr>\n",
       "    <tr>\n",
       "      <th>12</th>\n",
       "      <td>City_Xtra</td>\n",
       "      <td>Raheem Sterling has been in discussions over a...</td>\n",
       "      <td>IG: City_Xtra</td>\n",
       "      <td>NaN</td>\n",
       "      <td>NaN</td>\n",
       "    </tr>\n",
       "    <tr>\n",
       "      <th>13</th>\n",
       "      <td>RealDarrenRob</td>\n",
       "      <td>@YodaSODA4 @goal Yes he did, but he hadnt forg...</td>\n",
       "      <td>Cwmbalog</td>\n",
       "      <td>NaN</td>\n",
       "      <td>NaN</td>\n",
       "    </tr>\n",
       "    <tr>\n",
       "      <th>14</th>\n",
       "      <td>8053lee</td>\n",
       "      <td>@CEOofTens That fuckin Jack Harlow song had a ...</td>\n",
       "      <td>Greatest City In The World</td>\n",
       "      <td>42.659435</td>\n",
       "      <td>20.288468</td>\n",
       "    </tr>\n",
       "    <tr>\n",
       "      <th>15</th>\n",
       "      <td>TheGoonersPod</td>\n",
       "      <td>No #FACup  this year? Don't fret, #TheGoonersP...</td>\n",
       "      <td>Worldwide, huge in Mozambique</td>\n",
       "      <td>NaN</td>\n",
       "      <td>NaN</td>\n",
       "    </tr>\n",
       "    <tr>\n",
       "      <th>16</th>\n",
       "      <td>JoshuaBorne</td>\n",
       "      <td>The latest The college football recruiting Dai...</td>\n",
       "      <td>Orlando, FL</td>\n",
       "      <td>28.542110</td>\n",
       "      <td>-81.379039</td>\n",
       "    </tr>\n",
       "    <tr>\n",
       "      <th>17</th>\n",
       "      <td>CDeezBayBay</td>\n",
       "      <td>Nice to see that amidst the chaos of life in 2...</td>\n",
       "      <td>Coventry, England</td>\n",
       "      <td>52.408181</td>\n",
       "      <td>-1.510477</td>\n",
       "    </tr>\n",
       "    <tr>\n",
       "      <th>18</th>\n",
       "      <td>Savio_Pius</td>\n",
       "      <td>What football club do you fan? 😊</td>\n",
       "      <td>Kampala, Uganda</td>\n",
       "      <td>0.317714</td>\n",
       "      <td>32.581354</td>\n",
       "    </tr>\n",
       "    <tr>\n",
       "      <th>19</th>\n",
       "      <td>watfordfocus</td>\n",
       "      <td>@_Tomcpfc @shxIvey_ @femxnia_ @leohennessey So...</td>\n",
       "      <td>Starbucks (take-away only)</td>\n",
       "      <td>NaN</td>\n",
       "      <td>NaN</td>\n",
       "    </tr>\n",
       "    <tr>\n",
       "      <th>20</th>\n",
       "      <td>EOkala</td>\n",
       "      <td>@nathangarrick1 @thatutdfamily @theOGSeffect P...</td>\n",
       "      <td>Federal Capital Territory, Nig</td>\n",
       "      <td>NaN</td>\n",
       "      <td>NaN</td>\n",
       "    </tr>\n",
       "    <tr>\n",
       "      <th>21</th>\n",
       "      <td>arlixofficial</td>\n",
       "      <td>@NickChubb21 in the new @browns uniform.\\n\\n-\\...</td>\n",
       "      <td>Cleveland, OH</td>\n",
       "      <td>41.505161</td>\n",
       "      <td>-81.693445</td>\n",
       "    </tr>\n",
       "    <tr>\n",
       "      <th>22</th>\n",
       "      <td>kstone06</td>\n",
       "      <td>FINAL DAY: Last day for Massachusetts HS footb...</td>\n",
       "      <td>Waltham, MA</td>\n",
       "      <td>42.375640</td>\n",
       "      <td>-71.235800</td>\n",
       "    </tr>\n",
       "    <tr>\n",
       "      <th>23</th>\n",
       "      <td>tonycheeseburge</td>\n",
       "      <td>@damiantardio In my year Danny Frawley :( \\n\\n...</td>\n",
       "      <td>Melbourne, Australia</td>\n",
       "      <td>-37.814218</td>\n",
       "      <td>144.963161</td>\n",
       "    </tr>\n",
       "    <tr>\n",
       "      <th>24</th>\n",
       "      <td>JackChallinor2</td>\n",
       "      <td>@snipstweets And I thought your football opini...</td>\n",
       "      <td>Stoke-on-Trent, England</td>\n",
       "      <td>53.016201</td>\n",
       "      <td>-2.181261</td>\n",
       "    </tr>\n",
       "    <tr>\n",
       "      <th>25</th>\n",
       "      <td>basanya01</td>\n",
       "      <td>Dortmund boss Favre on the return of football ...</td>\n",
       "      <td>Lagos State</td>\n",
       "      <td>20.017111</td>\n",
       "      <td>103.378253</td>\n",
       "    </tr>\n",
       "    <tr>\n",
       "      <th>26</th>\n",
       "      <td>Alfred02967106</td>\n",
       "      <td>Big ups to all the girls wey dey wear shots pa...</td>\n",
       "      <td>Kasoa, Ghana</td>\n",
       "      <td>5.532573</td>\n",
       "      <td>-0.437491</td>\n",
       "    </tr>\n",
       "    <tr>\n",
       "      <th>27</th>\n",
       "      <td>pato7dominic</td>\n",
       "      <td>@iam_OlaoluwaO Yes and he's still a very overr...</td>\n",
       "      <td>Lagos, Nigeria</td>\n",
       "      <td>6.455057</td>\n",
       "      <td>3.394179</td>\n",
       "    </tr>\n",
       "    <tr>\n",
       "      <th>28</th>\n",
       "      <td>Bilybond</td>\n",
       "      <td>Good to watch some live football for a change ...</td>\n",
       "      <td>Birmingham, England</td>\n",
       "      <td>52.477540</td>\n",
       "      <td>-1.894053</td>\n",
       "    </tr>\n",
       "    <tr>\n",
       "      <th>29</th>\n",
       "      <td>cliffdubya</td>\n",
       "      <td>Even to win a Madden tourney you have to run t...</td>\n",
       "      <td>Richmond, VA</td>\n",
       "      <td>37.538509</td>\n",
       "      <td>-77.434280</td>\n",
       "    </tr>\n",
       "    <tr>\n",
       "      <th>30</th>\n",
       "      <td>BradCranefield</td>\n",
       "      <td>Wonder if wilshere's fit if football starts ag...</td>\n",
       "      <td>Grays Essex</td>\n",
       "      <td>42.519540</td>\n",
       "      <td>-70.831436</td>\n",
       "    </tr>\n",
       "    <tr>\n",
       "      <th>31</th>\n",
       "      <td>Efosa_B_Akin1</td>\n",
       "      <td>Footballers with \"MOST\" dribbles this season i...</td>\n",
       "      <td>Abuja</td>\n",
       "      <td>9.064331</td>\n",
       "      <td>7.489297</td>\n",
       "    </tr>\n",
       "    <tr>\n",
       "      <th>32</th>\n",
       "      <td>Mthura08669003</td>\n",
       "      <td>@Walle_Muhenyeri @AlexSithole @JayNtuli @Photo...</td>\n",
       "      <td>South Africa</td>\n",
       "      <td>-28.816624</td>\n",
       "      <td>24.991639</td>\n",
       "    </tr>\n",
       "    <tr>\n",
       "      <th>33</th>\n",
       "      <td>sumeyuh</td>\n",
       "      <td>@taxxoxo #gainszn WASSUP FOOTBALL TWITTER FUCK...</td>\n",
       "      <td>England</td>\n",
       "      <td>52.795479</td>\n",
       "      <td>-0.540240</td>\n",
       "    </tr>\n",
       "    <tr>\n",
       "      <th>34</th>\n",
       "      <td>KurtBenkert</td>\n",
       "      <td>Like if you miss highschool football https://t...</td>\n",
       "      <td>Atlanta, GA</td>\n",
       "      <td>33.749099</td>\n",
       "      <td>-84.390185</td>\n",
       "    </tr>\n",
       "    <tr>\n",
       "      <th>35</th>\n",
       "      <td>IamSonnie</td>\n",
       "      <td>@ThomasParteyAFC @EduardoHagn @LacazetteAlex D...</td>\n",
       "      <td>Federal Capital Territory</td>\n",
       "      <td>8.831123</td>\n",
       "      <td>7.172467</td>\n",
       "    </tr>\n",
       "    <tr>\n",
       "      <th>36</th>\n",
       "      <td>Woodentek_eco</td>\n",
       "      <td>Handmade #Football wooden clock  #ManchesterUn...</td>\n",
       "      <td>España</td>\n",
       "      <td>40.002803</td>\n",
       "      <td>-4.003104</td>\n",
       "    </tr>\n",
       "    <tr>\n",
       "      <th>37</th>\n",
       "      <td>Thoeft21</td>\n",
       "      <td>@AdamSchefter @ESPNNFL We gotta get football b...</td>\n",
       "      <td>United States</td>\n",
       "      <td>39.783730</td>\n",
       "      <td>-100.445882</td>\n",
       "    </tr>\n",
       "    <tr>\n",
       "      <th>38</th>\n",
       "      <td>smelltheglove7</td>\n",
       "      <td>@The_FOH @SundayMailSport It's disgusting mate...</td>\n",
       "      <td>Renfrew</td>\n",
       "      <td>45.696451</td>\n",
       "      <td>-77.221907</td>\n",
       "    </tr>\n",
       "    <tr>\n",
       "      <th>39</th>\n",
       "      <td>CoachKalb1</td>\n",
       "      <td>@CFBHome Florida, Oregon, Georgia,  LSU, OSU (...</td>\n",
       "      <td>Derby, KS</td>\n",
       "      <td>37.545574</td>\n",
       "      <td>-97.268933</td>\n",
       "    </tr>\n",
       "    <tr>\n",
       "      <th>40</th>\n",
       "      <td>quigs96</td>\n",
       "      <td>Football is a funny aul game hiiiiiiiii</td>\n",
       "      <td>God's Own Country  Randalstow\\n</td>\n",
       "      <td>NaN</td>\n",
       "      <td>NaN</td>\n",
       "    </tr>\n",
       "    <tr>\n",
       "      <th>41</th>\n",
       "      <td>samzala93</td>\n",
       "      <td>Bundesliga showing the Prem that Football can ...</td>\n",
       "      <td>Rothwell, England</td>\n",
       "      <td>53.749384</td>\n",
       "      <td>-1.478151</td>\n",
       "    </tr>\n",
       "    <tr>\n",
       "      <th>42</th>\n",
       "      <td>CrankyinCA</td>\n",
       "      <td>@davidsirota It feels like a Lucy with the foo...</td>\n",
       "      <td>San Francisco, CA</td>\n",
       "      <td>46.844325</td>\n",
       "      <td>-71.274327</td>\n",
       "    </tr>\n",
       "    <tr>\n",
       "      <th>43</th>\n",
       "      <td>NittanyNC</td>\n",
       "      <td>@RahimTerp @therzkn Again, I wish you had this...</td>\n",
       "      <td>North Carolina, USA</td>\n",
       "      <td>35.672964</td>\n",
       "      <td>-79.039292</td>\n",
       "    </tr>\n",
       "    <tr>\n",
       "      <th>44</th>\n",
       "      <td>EverythingSlim</td>\n",
       "      <td>She called that nigga football head .. 😩😩😩😩</td>\n",
       "      <td>In My Mind.</td>\n",
       "      <td>NaN</td>\n",
       "      <td>NaN</td>\n",
       "    </tr>\n",
       "    <tr>\n",
       "      <th>45</th>\n",
       "      <td>bondbilyd</td>\n",
       "      <td>Good to watch some live football for a change ...</td>\n",
       "      <td>Birmingham, England</td>\n",
       "      <td>52.477540</td>\n",
       "      <td>-1.894053</td>\n",
       "    </tr>\n",
       "    <tr>\n",
       "      <th>46</th>\n",
       "      <td>JamesGerrie3</td>\n",
       "      <td>@TheZombieQueen2 American football in states i...</td>\n",
       "      <td>Scotland, United Kingdom</td>\n",
       "      <td>56.786111</td>\n",
       "      <td>-4.114052</td>\n",
       "    </tr>\n",
       "    <tr>\n",
       "      <th>47</th>\n",
       "      <td>TTWAR62</td>\n",
       "      <td>An absolute sensible take on the return of foo...</td>\n",
       "      <td>Liverpool</td>\n",
       "      <td>53.405472</td>\n",
       "      <td>-2.980539</td>\n",
       "    </tr>\n",
       "    <tr>\n",
       "      <th>48</th>\n",
       "      <td>consulthismusic</td>\n",
       "      <td>We are out of lockdown around here. 5 a-side f...</td>\n",
       "      <td>London</td>\n",
       "      <td>51.507322</td>\n",
       "      <td>-0.127647</td>\n",
       "    </tr>\n",
       "    <tr>\n",
       "      <th>49</th>\n",
       "      <td>dandibley</td>\n",
       "      <td>@WeintraubLive @JoeLoAndDibs That's too many \"...</td>\n",
       "      <td>San Francisco Bay Area</td>\n",
       "      <td>37.788497</td>\n",
       "      <td>-122.355847</td>\n",
       "    </tr>\n",
       "  </tbody>\n",
       "</table>\n",
       "</div>"
      ],
      "text/plain": [
       "        screen_name                                               text  \\\n",
       "0         Nick_CPFC  @localpla2tic @palaceawayy It might not be a n...   \n",
       "1     nkujamangweni  @Soccer_Laduma I weep for the future of football.   \n",
       "2        bibironkee                                           Football   \n",
       "3      MOSESBDEXTER  @SiPhillipsSport Well Spoken Boss.👮‍♂️. We nee...   \n",
       "4         SaifoDiab  The first football I ever watched and I fell i...   \n",
       "5          Lewis31m  @Tactical_Times No way it’s true, Suso and Alb...   \n",
       "6        kimmebling  Baptist Sunday School. Catholic Mass. NFL Foot...   \n",
       "7         northnews  #NewcastleUnited players are tested for #COVID...   \n",
       "8        Msuleimaan  If not sentiment and football banter, how is S...   \n",
       "9         paulh2403  @FootballBanned @MaineRoad71 @mrjakehumphrey @...   \n",
       "10        JDhavoc37  Bucs Nation I'm so ready for football season t...   \n",
       "11  hescatchingfire  @RedsCaIIum @loveforIust Whats your fav footba...   \n",
       "12        City_Xtra  Raheem Sterling has been in discussions over a...   \n",
       "13    RealDarrenRob  @YodaSODA4 @goal Yes he did, but he hadnt forg...   \n",
       "14          8053lee  @CEOofTens That fuckin Jack Harlow song had a ...   \n",
       "15    TheGoonersPod  No #FACup  this year? Don't fret, #TheGoonersP...   \n",
       "16      JoshuaBorne  The latest The college football recruiting Dai...   \n",
       "17      CDeezBayBay  Nice to see that amidst the chaos of life in 2...   \n",
       "18       Savio_Pius                   What football club do you fan? 😊   \n",
       "19     watfordfocus  @_Tomcpfc @shxIvey_ @femxnia_ @leohennessey So...   \n",
       "20           EOkala  @nathangarrick1 @thatutdfamily @theOGSeffect P...   \n",
       "21    arlixofficial  @NickChubb21 in the new @browns uniform.\\n\\n-\\...   \n",
       "22         kstone06  FINAL DAY: Last day for Massachusetts HS footb...   \n",
       "23  tonycheeseburge  @damiantardio In my year Danny Frawley :( \\n\\n...   \n",
       "24   JackChallinor2  @snipstweets And I thought your football opini...   \n",
       "25        basanya01  Dortmund boss Favre on the return of football ...   \n",
       "26   Alfred02967106  Big ups to all the girls wey dey wear shots pa...   \n",
       "27     pato7dominic  @iam_OlaoluwaO Yes and he's still a very overr...   \n",
       "28         Bilybond  Good to watch some live football for a change ...   \n",
       "29       cliffdubya  Even to win a Madden tourney you have to run t...   \n",
       "30   BradCranefield  Wonder if wilshere's fit if football starts ag...   \n",
       "31    Efosa_B_Akin1  Footballers with \"MOST\" dribbles this season i...   \n",
       "32   Mthura08669003  @Walle_Muhenyeri @AlexSithole @JayNtuli @Photo...   \n",
       "33          sumeyuh  @taxxoxo #gainszn WASSUP FOOTBALL TWITTER FUCK...   \n",
       "34      KurtBenkert  Like if you miss highschool football https://t...   \n",
       "35        IamSonnie  @ThomasParteyAFC @EduardoHagn @LacazetteAlex D...   \n",
       "36    Woodentek_eco  Handmade #Football wooden clock  #ManchesterUn...   \n",
       "37         Thoeft21  @AdamSchefter @ESPNNFL We gotta get football b...   \n",
       "38   smelltheglove7  @The_FOH @SundayMailSport It's disgusting mate...   \n",
       "39       CoachKalb1  @CFBHome Florida, Oregon, Georgia,  LSU, OSU (...   \n",
       "40          quigs96            Football is a funny aul game hiiiiiiiii   \n",
       "41        samzala93  Bundesliga showing the Prem that Football can ...   \n",
       "42       CrankyinCA  @davidsirota It feels like a Lucy with the foo...   \n",
       "43        NittanyNC  @RahimTerp @therzkn Again, I wish you had this...   \n",
       "44   EverythingSlim        She called that nigga football head .. 😩😩😩😩   \n",
       "45        bondbilyd  Good to watch some live football for a change ...   \n",
       "46     JamesGerrie3  @TheZombieQueen2 American football in states i...   \n",
       "47          TTWAR62  An absolute sensible take on the return of foo...   \n",
       "48  consulthismusic  We are out of lockdown around here. 5 a-side f...   \n",
       "49        dandibley  @WeintraubLive @JoeLoAndDibs That's too many \"...   \n",
       "\n",
       "                           location   latitude   longitude  \n",
       "0                     South London   26.304427   50.169413  \n",
       "1           Cape Town, South Africa -33.928992   18.417396  \n",
       "2                   Ibadan, Nigeria   7.377746    3.897250  \n",
       "3                            Rwanda  -1.964663   30.064436  \n",
       "4       Abu Dhabi UAE/London Canada        NaN         NaN  \n",
       "5                Lowestoft/Coventry        NaN         NaN  \n",
       "6                               USA  39.783730 -100.445882  \n",
       "7      Newcastle Upon Tyne, England  54.977092   -1.614206  \n",
       "8                     Kano, Nigeria  11.991867    8.530365  \n",
       "9                        Manchester  53.479130   -2.244101  \n",
       "10                              USA  39.783730 -100.445882  \n",
       "11                   𝗠𝗘𝗟 & 𝗠𝗘𝗟𝗜𝗦           NaN         NaN  \n",
       "12                    IG: City_Xtra        NaN         NaN  \n",
       "13                         Cwmbalog        NaN         NaN  \n",
       "14       Greatest City In The World  42.659435   20.288468  \n",
       "15    Worldwide, huge in Mozambique        NaN         NaN  \n",
       "16                      Orlando, FL  28.542110  -81.379039  \n",
       "17                Coventry, England  52.408181   -1.510477  \n",
       "18                  Kampala, Uganda   0.317714   32.581354  \n",
       "19       Starbucks (take-away only)        NaN         NaN  \n",
       "20   Federal Capital Territory, Nig        NaN         NaN  \n",
       "21                    Cleveland, OH  41.505161  -81.693445  \n",
       "22                      Waltham, MA  42.375640  -71.235800  \n",
       "23             Melbourne, Australia -37.814218  144.963161  \n",
       "24          Stoke-on-Trent, England  53.016201   -2.181261  \n",
       "25                      Lagos State  20.017111  103.378253  \n",
       "26                     Kasoa, Ghana   5.532573   -0.437491  \n",
       "27                   Lagos, Nigeria   6.455057    3.394179  \n",
       "28              Birmingham, England  52.477540   -1.894053  \n",
       "29                     Richmond, VA  37.538509  -77.434280  \n",
       "30                      Grays Essex  42.519540  -70.831436  \n",
       "31                            Abuja   9.064331    7.489297  \n",
       "32                     South Africa -28.816624   24.991639  \n",
       "33                          England  52.795479   -0.540240  \n",
       "34                      Atlanta, GA  33.749099  -84.390185  \n",
       "35        Federal Capital Territory   8.831123    7.172467  \n",
       "36                           España  40.002803   -4.003104  \n",
       "37                    United States  39.783730 -100.445882  \n",
       "38                          Renfrew  45.696451  -77.221907  \n",
       "39                        Derby, KS  37.545574  -97.268933  \n",
       "40  God's Own Country  Randalstow\\n        NaN         NaN  \n",
       "41                Rothwell, England  53.749384   -1.478151  \n",
       "42                San Francisco, CA  46.844325  -71.274327  \n",
       "43              North Carolina, USA  35.672964  -79.039292  \n",
       "44                      In My Mind.        NaN         NaN  \n",
       "45              Birmingham, England  52.477540   -1.894053  \n",
       "46         Scotland, United Kingdom  56.786111   -4.114052  \n",
       "47                        Liverpool  53.405472   -2.980539  \n",
       "48                           London  51.507322   -0.127647  \n",
       "49           San Francisco Bay Area  37.788497 -122.355847  "
      ]
     },
     "execution_count": 51,
     "metadata": {},
     "output_type": "execute_result"
    }
   ],
   "source": [
    "df"
   ]
  },
  {
   "cell_type": "code",
   "execution_count": 52,
   "metadata": {},
   "outputs": [],
   "source": [
    "df = df.dropna()"
   ]
  },
  {
   "cell_type": "code",
   "execution_count": 53,
   "metadata": {},
   "outputs": [
    {
     "data": {
      "text/html": [
       "<div>\n",
       "<style scoped>\n",
       "    .dataframe tbody tr th:only-of-type {\n",
       "        vertical-align: middle;\n",
       "    }\n",
       "\n",
       "    .dataframe tbody tr th {\n",
       "        vertical-align: top;\n",
       "    }\n",
       "\n",
       "    .dataframe thead th {\n",
       "        text-align: right;\n",
       "    }\n",
       "</style>\n",
       "<table border=\"1\" class=\"dataframe\">\n",
       "  <thead>\n",
       "    <tr style=\"text-align: right;\">\n",
       "      <th></th>\n",
       "      <th>screen_name</th>\n",
       "      <th>text</th>\n",
       "      <th>location</th>\n",
       "      <th>latitude</th>\n",
       "      <th>longitude</th>\n",
       "    </tr>\n",
       "  </thead>\n",
       "  <tbody>\n",
       "    <tr>\n",
       "      <th>0</th>\n",
       "      <td>Nick_CPFC</td>\n",
       "      <td>@localpla2tic @palaceawayy It might not be a n...</td>\n",
       "      <td>South London</td>\n",
       "      <td>26.304427</td>\n",
       "      <td>50.169413</td>\n",
       "    </tr>\n",
       "    <tr>\n",
       "      <th>1</th>\n",
       "      <td>nkujamangweni</td>\n",
       "      <td>@Soccer_Laduma I weep for the future of football.</td>\n",
       "      <td>Cape Town, South Africa</td>\n",
       "      <td>-33.928992</td>\n",
       "      <td>18.417396</td>\n",
       "    </tr>\n",
       "    <tr>\n",
       "      <th>2</th>\n",
       "      <td>bibironkee</td>\n",
       "      <td>Football</td>\n",
       "      <td>Ibadan, Nigeria</td>\n",
       "      <td>7.377746</td>\n",
       "      <td>3.897250</td>\n",
       "    </tr>\n",
       "    <tr>\n",
       "      <th>3</th>\n",
       "      <td>MOSESBDEXTER</td>\n",
       "      <td>@SiPhillipsSport Well Spoken Boss.👮‍♂️. We nee...</td>\n",
       "      <td>Rwanda</td>\n",
       "      <td>-1.964663</td>\n",
       "      <td>30.064436</td>\n",
       "    </tr>\n",
       "    <tr>\n",
       "      <th>6</th>\n",
       "      <td>kimmebling</td>\n",
       "      <td>Baptist Sunday School. Catholic Mass. NFL Foot...</td>\n",
       "      <td>USA</td>\n",
       "      <td>39.783730</td>\n",
       "      <td>-100.445882</td>\n",
       "    </tr>\n",
       "    <tr>\n",
       "      <th>7</th>\n",
       "      <td>northnews</td>\n",
       "      <td>#NewcastleUnited players are tested for #COVID...</td>\n",
       "      <td>Newcastle Upon Tyne, England</td>\n",
       "      <td>54.977092</td>\n",
       "      <td>-1.614206</td>\n",
       "    </tr>\n",
       "    <tr>\n",
       "      <th>8</th>\n",
       "      <td>Msuleimaan</td>\n",
       "      <td>If not sentiment and football banter, how is S...</td>\n",
       "      <td>Kano, Nigeria</td>\n",
       "      <td>11.991867</td>\n",
       "      <td>8.530365</td>\n",
       "    </tr>\n",
       "    <tr>\n",
       "      <th>9</th>\n",
       "      <td>paulh2403</td>\n",
       "      <td>@FootballBanned @MaineRoad71 @mrjakehumphrey @...</td>\n",
       "      <td>Manchester</td>\n",
       "      <td>53.479130</td>\n",
       "      <td>-2.244101</td>\n",
       "    </tr>\n",
       "    <tr>\n",
       "      <th>10</th>\n",
       "      <td>JDhavoc37</td>\n",
       "      <td>Bucs Nation I'm so ready for football season t...</td>\n",
       "      <td>USA</td>\n",
       "      <td>39.783730</td>\n",
       "      <td>-100.445882</td>\n",
       "    </tr>\n",
       "    <tr>\n",
       "      <th>14</th>\n",
       "      <td>8053lee</td>\n",
       "      <td>@CEOofTens That fuckin Jack Harlow song had a ...</td>\n",
       "      <td>Greatest City In The World</td>\n",
       "      <td>42.659435</td>\n",
       "      <td>20.288468</td>\n",
       "    </tr>\n",
       "    <tr>\n",
       "      <th>16</th>\n",
       "      <td>JoshuaBorne</td>\n",
       "      <td>The latest The college football recruiting Dai...</td>\n",
       "      <td>Orlando, FL</td>\n",
       "      <td>28.542110</td>\n",
       "      <td>-81.379039</td>\n",
       "    </tr>\n",
       "    <tr>\n",
       "      <th>17</th>\n",
       "      <td>CDeezBayBay</td>\n",
       "      <td>Nice to see that amidst the chaos of life in 2...</td>\n",
       "      <td>Coventry, England</td>\n",
       "      <td>52.408181</td>\n",
       "      <td>-1.510477</td>\n",
       "    </tr>\n",
       "    <tr>\n",
       "      <th>18</th>\n",
       "      <td>Savio_Pius</td>\n",
       "      <td>What football club do you fan? 😊</td>\n",
       "      <td>Kampala, Uganda</td>\n",
       "      <td>0.317714</td>\n",
       "      <td>32.581354</td>\n",
       "    </tr>\n",
       "    <tr>\n",
       "      <th>21</th>\n",
       "      <td>arlixofficial</td>\n",
       "      <td>@NickChubb21 in the new @browns uniform.\\n\\n-\\...</td>\n",
       "      <td>Cleveland, OH</td>\n",
       "      <td>41.505161</td>\n",
       "      <td>-81.693445</td>\n",
       "    </tr>\n",
       "    <tr>\n",
       "      <th>22</th>\n",
       "      <td>kstone06</td>\n",
       "      <td>FINAL DAY: Last day for Massachusetts HS footb...</td>\n",
       "      <td>Waltham, MA</td>\n",
       "      <td>42.375640</td>\n",
       "      <td>-71.235800</td>\n",
       "    </tr>\n",
       "    <tr>\n",
       "      <th>23</th>\n",
       "      <td>tonycheeseburge</td>\n",
       "      <td>@damiantardio In my year Danny Frawley :( \\n\\n...</td>\n",
       "      <td>Melbourne, Australia</td>\n",
       "      <td>-37.814218</td>\n",
       "      <td>144.963161</td>\n",
       "    </tr>\n",
       "    <tr>\n",
       "      <th>24</th>\n",
       "      <td>JackChallinor2</td>\n",
       "      <td>@snipstweets And I thought your football opini...</td>\n",
       "      <td>Stoke-on-Trent, England</td>\n",
       "      <td>53.016201</td>\n",
       "      <td>-2.181261</td>\n",
       "    </tr>\n",
       "    <tr>\n",
       "      <th>25</th>\n",
       "      <td>basanya01</td>\n",
       "      <td>Dortmund boss Favre on the return of football ...</td>\n",
       "      <td>Lagos State</td>\n",
       "      <td>20.017111</td>\n",
       "      <td>103.378253</td>\n",
       "    </tr>\n",
       "    <tr>\n",
       "      <th>26</th>\n",
       "      <td>Alfred02967106</td>\n",
       "      <td>Big ups to all the girls wey dey wear shots pa...</td>\n",
       "      <td>Kasoa, Ghana</td>\n",
       "      <td>5.532573</td>\n",
       "      <td>-0.437491</td>\n",
       "    </tr>\n",
       "    <tr>\n",
       "      <th>27</th>\n",
       "      <td>pato7dominic</td>\n",
       "      <td>@iam_OlaoluwaO Yes and he's still a very overr...</td>\n",
       "      <td>Lagos, Nigeria</td>\n",
       "      <td>6.455057</td>\n",
       "      <td>3.394179</td>\n",
       "    </tr>\n",
       "    <tr>\n",
       "      <th>28</th>\n",
       "      <td>Bilybond</td>\n",
       "      <td>Good to watch some live football for a change ...</td>\n",
       "      <td>Birmingham, England</td>\n",
       "      <td>52.477540</td>\n",
       "      <td>-1.894053</td>\n",
       "    </tr>\n",
       "    <tr>\n",
       "      <th>29</th>\n",
       "      <td>cliffdubya</td>\n",
       "      <td>Even to win a Madden tourney you have to run t...</td>\n",
       "      <td>Richmond, VA</td>\n",
       "      <td>37.538509</td>\n",
       "      <td>-77.434280</td>\n",
       "    </tr>\n",
       "    <tr>\n",
       "      <th>30</th>\n",
       "      <td>BradCranefield</td>\n",
       "      <td>Wonder if wilshere's fit if football starts ag...</td>\n",
       "      <td>Grays Essex</td>\n",
       "      <td>42.519540</td>\n",
       "      <td>-70.831436</td>\n",
       "    </tr>\n",
       "    <tr>\n",
       "      <th>31</th>\n",
       "      <td>Efosa_B_Akin1</td>\n",
       "      <td>Footballers with \"MOST\" dribbles this season i...</td>\n",
       "      <td>Abuja</td>\n",
       "      <td>9.064331</td>\n",
       "      <td>7.489297</td>\n",
       "    </tr>\n",
       "    <tr>\n",
       "      <th>32</th>\n",
       "      <td>Mthura08669003</td>\n",
       "      <td>@Walle_Muhenyeri @AlexSithole @JayNtuli @Photo...</td>\n",
       "      <td>South Africa</td>\n",
       "      <td>-28.816624</td>\n",
       "      <td>24.991639</td>\n",
       "    </tr>\n",
       "    <tr>\n",
       "      <th>33</th>\n",
       "      <td>sumeyuh</td>\n",
       "      <td>@taxxoxo #gainszn WASSUP FOOTBALL TWITTER FUCK...</td>\n",
       "      <td>England</td>\n",
       "      <td>52.795479</td>\n",
       "      <td>-0.540240</td>\n",
       "    </tr>\n",
       "    <tr>\n",
       "      <th>34</th>\n",
       "      <td>KurtBenkert</td>\n",
       "      <td>Like if you miss highschool football https://t...</td>\n",
       "      <td>Atlanta, GA</td>\n",
       "      <td>33.749099</td>\n",
       "      <td>-84.390185</td>\n",
       "    </tr>\n",
       "    <tr>\n",
       "      <th>35</th>\n",
       "      <td>IamSonnie</td>\n",
       "      <td>@ThomasParteyAFC @EduardoHagn @LacazetteAlex D...</td>\n",
       "      <td>Federal Capital Territory</td>\n",
       "      <td>8.831123</td>\n",
       "      <td>7.172467</td>\n",
       "    </tr>\n",
       "    <tr>\n",
       "      <th>36</th>\n",
       "      <td>Woodentek_eco</td>\n",
       "      <td>Handmade #Football wooden clock  #ManchesterUn...</td>\n",
       "      <td>España</td>\n",
       "      <td>40.002803</td>\n",
       "      <td>-4.003104</td>\n",
       "    </tr>\n",
       "    <tr>\n",
       "      <th>37</th>\n",
       "      <td>Thoeft21</td>\n",
       "      <td>@AdamSchefter @ESPNNFL We gotta get football b...</td>\n",
       "      <td>United States</td>\n",
       "      <td>39.783730</td>\n",
       "      <td>-100.445882</td>\n",
       "    </tr>\n",
       "    <tr>\n",
       "      <th>38</th>\n",
       "      <td>smelltheglove7</td>\n",
       "      <td>@The_FOH @SundayMailSport It's disgusting mate...</td>\n",
       "      <td>Renfrew</td>\n",
       "      <td>45.696451</td>\n",
       "      <td>-77.221907</td>\n",
       "    </tr>\n",
       "    <tr>\n",
       "      <th>39</th>\n",
       "      <td>CoachKalb1</td>\n",
       "      <td>@CFBHome Florida, Oregon, Georgia,  LSU, OSU (...</td>\n",
       "      <td>Derby, KS</td>\n",
       "      <td>37.545574</td>\n",
       "      <td>-97.268933</td>\n",
       "    </tr>\n",
       "    <tr>\n",
       "      <th>41</th>\n",
       "      <td>samzala93</td>\n",
       "      <td>Bundesliga showing the Prem that Football can ...</td>\n",
       "      <td>Rothwell, England</td>\n",
       "      <td>53.749384</td>\n",
       "      <td>-1.478151</td>\n",
       "    </tr>\n",
       "    <tr>\n",
       "      <th>42</th>\n",
       "      <td>CrankyinCA</td>\n",
       "      <td>@davidsirota It feels like a Lucy with the foo...</td>\n",
       "      <td>San Francisco, CA</td>\n",
       "      <td>46.844325</td>\n",
       "      <td>-71.274327</td>\n",
       "    </tr>\n",
       "    <tr>\n",
       "      <th>43</th>\n",
       "      <td>NittanyNC</td>\n",
       "      <td>@RahimTerp @therzkn Again, I wish you had this...</td>\n",
       "      <td>North Carolina, USA</td>\n",
       "      <td>35.672964</td>\n",
       "      <td>-79.039292</td>\n",
       "    </tr>\n",
       "    <tr>\n",
       "      <th>45</th>\n",
       "      <td>bondbilyd</td>\n",
       "      <td>Good to watch some live football for a change ...</td>\n",
       "      <td>Birmingham, England</td>\n",
       "      <td>52.477540</td>\n",
       "      <td>-1.894053</td>\n",
       "    </tr>\n",
       "    <tr>\n",
       "      <th>46</th>\n",
       "      <td>JamesGerrie3</td>\n",
       "      <td>@TheZombieQueen2 American football in states i...</td>\n",
       "      <td>Scotland, United Kingdom</td>\n",
       "      <td>56.786111</td>\n",
       "      <td>-4.114052</td>\n",
       "    </tr>\n",
       "    <tr>\n",
       "      <th>47</th>\n",
       "      <td>TTWAR62</td>\n",
       "      <td>An absolute sensible take on the return of foo...</td>\n",
       "      <td>Liverpool</td>\n",
       "      <td>53.405472</td>\n",
       "      <td>-2.980539</td>\n",
       "    </tr>\n",
       "    <tr>\n",
       "      <th>48</th>\n",
       "      <td>consulthismusic</td>\n",
       "      <td>We are out of lockdown around here. 5 a-side f...</td>\n",
       "      <td>London</td>\n",
       "      <td>51.507322</td>\n",
       "      <td>-0.127647</td>\n",
       "    </tr>\n",
       "    <tr>\n",
       "      <th>49</th>\n",
       "      <td>dandibley</td>\n",
       "      <td>@WeintraubLive @JoeLoAndDibs That's too many \"...</td>\n",
       "      <td>San Francisco Bay Area</td>\n",
       "      <td>37.788497</td>\n",
       "      <td>-122.355847</td>\n",
       "    </tr>\n",
       "  </tbody>\n",
       "</table>\n",
       "</div>"
      ],
      "text/plain": [
       "        screen_name                                               text  \\\n",
       "0         Nick_CPFC  @localpla2tic @palaceawayy It might not be a n...   \n",
       "1     nkujamangweni  @Soccer_Laduma I weep for the future of football.   \n",
       "2        bibironkee                                           Football   \n",
       "3      MOSESBDEXTER  @SiPhillipsSport Well Spoken Boss.👮‍♂️. We nee...   \n",
       "6        kimmebling  Baptist Sunday School. Catholic Mass. NFL Foot...   \n",
       "7         northnews  #NewcastleUnited players are tested for #COVID...   \n",
       "8        Msuleimaan  If not sentiment and football banter, how is S...   \n",
       "9         paulh2403  @FootballBanned @MaineRoad71 @mrjakehumphrey @...   \n",
       "10        JDhavoc37  Bucs Nation I'm so ready for football season t...   \n",
       "14          8053lee  @CEOofTens That fuckin Jack Harlow song had a ...   \n",
       "16      JoshuaBorne  The latest The college football recruiting Dai...   \n",
       "17      CDeezBayBay  Nice to see that amidst the chaos of life in 2...   \n",
       "18       Savio_Pius                   What football club do you fan? 😊   \n",
       "21    arlixofficial  @NickChubb21 in the new @browns uniform.\\n\\n-\\...   \n",
       "22         kstone06  FINAL DAY: Last day for Massachusetts HS footb...   \n",
       "23  tonycheeseburge  @damiantardio In my year Danny Frawley :( \\n\\n...   \n",
       "24   JackChallinor2  @snipstweets And I thought your football opini...   \n",
       "25        basanya01  Dortmund boss Favre on the return of football ...   \n",
       "26   Alfred02967106  Big ups to all the girls wey dey wear shots pa...   \n",
       "27     pato7dominic  @iam_OlaoluwaO Yes and he's still a very overr...   \n",
       "28         Bilybond  Good to watch some live football for a change ...   \n",
       "29       cliffdubya  Even to win a Madden tourney you have to run t...   \n",
       "30   BradCranefield  Wonder if wilshere's fit if football starts ag...   \n",
       "31    Efosa_B_Akin1  Footballers with \"MOST\" dribbles this season i...   \n",
       "32   Mthura08669003  @Walle_Muhenyeri @AlexSithole @JayNtuli @Photo...   \n",
       "33          sumeyuh  @taxxoxo #gainszn WASSUP FOOTBALL TWITTER FUCK...   \n",
       "34      KurtBenkert  Like if you miss highschool football https://t...   \n",
       "35        IamSonnie  @ThomasParteyAFC @EduardoHagn @LacazetteAlex D...   \n",
       "36    Woodentek_eco  Handmade #Football wooden clock  #ManchesterUn...   \n",
       "37         Thoeft21  @AdamSchefter @ESPNNFL We gotta get football b...   \n",
       "38   smelltheglove7  @The_FOH @SundayMailSport It's disgusting mate...   \n",
       "39       CoachKalb1  @CFBHome Florida, Oregon, Georgia,  LSU, OSU (...   \n",
       "41        samzala93  Bundesliga showing the Prem that Football can ...   \n",
       "42       CrankyinCA  @davidsirota It feels like a Lucy with the foo...   \n",
       "43        NittanyNC  @RahimTerp @therzkn Again, I wish you had this...   \n",
       "45        bondbilyd  Good to watch some live football for a change ...   \n",
       "46     JamesGerrie3  @TheZombieQueen2 American football in states i...   \n",
       "47          TTWAR62  An absolute sensible take on the return of foo...   \n",
       "48  consulthismusic  We are out of lockdown around here. 5 a-side f...   \n",
       "49        dandibley  @WeintraubLive @JoeLoAndDibs That's too many \"...   \n",
       "\n",
       "                        location   latitude   longitude  \n",
       "0                  South London   26.304427   50.169413  \n",
       "1        Cape Town, South Africa -33.928992   18.417396  \n",
       "2                Ibadan, Nigeria   7.377746    3.897250  \n",
       "3                         Rwanda  -1.964663   30.064436  \n",
       "6                            USA  39.783730 -100.445882  \n",
       "7   Newcastle Upon Tyne, England  54.977092   -1.614206  \n",
       "8                  Kano, Nigeria  11.991867    8.530365  \n",
       "9                     Manchester  53.479130   -2.244101  \n",
       "10                           USA  39.783730 -100.445882  \n",
       "14    Greatest City In The World  42.659435   20.288468  \n",
       "16                   Orlando, FL  28.542110  -81.379039  \n",
       "17             Coventry, England  52.408181   -1.510477  \n",
       "18               Kampala, Uganda   0.317714   32.581354  \n",
       "21                 Cleveland, OH  41.505161  -81.693445  \n",
       "22                   Waltham, MA  42.375640  -71.235800  \n",
       "23          Melbourne, Australia -37.814218  144.963161  \n",
       "24       Stoke-on-Trent, England  53.016201   -2.181261  \n",
       "25                   Lagos State  20.017111  103.378253  \n",
       "26                  Kasoa, Ghana   5.532573   -0.437491  \n",
       "27                Lagos, Nigeria   6.455057    3.394179  \n",
       "28           Birmingham, England  52.477540   -1.894053  \n",
       "29                  Richmond, VA  37.538509  -77.434280  \n",
       "30                   Grays Essex  42.519540  -70.831436  \n",
       "31                         Abuja   9.064331    7.489297  \n",
       "32                  South Africa -28.816624   24.991639  \n",
       "33                       England  52.795479   -0.540240  \n",
       "34                   Atlanta, GA  33.749099  -84.390185  \n",
       "35     Federal Capital Territory   8.831123    7.172467  \n",
       "36                        España  40.002803   -4.003104  \n",
       "37                 United States  39.783730 -100.445882  \n",
       "38                       Renfrew  45.696451  -77.221907  \n",
       "39                     Derby, KS  37.545574  -97.268933  \n",
       "41             Rothwell, England  53.749384   -1.478151  \n",
       "42             San Francisco, CA  46.844325  -71.274327  \n",
       "43           North Carolina, USA  35.672964  -79.039292  \n",
       "45           Birmingham, England  52.477540   -1.894053  \n",
       "46      Scotland, United Kingdom  56.786111   -4.114052  \n",
       "47                     Liverpool  53.405472   -2.980539  \n",
       "48                        London  51.507322   -0.127647  \n",
       "49        San Francisco Bay Area  37.788497 -122.355847  "
      ]
     },
     "execution_count": 53,
     "metadata": {},
     "output_type": "execute_result"
    }
   ],
   "source": [
    "df"
   ]
  },
  {
   "cell_type": "markdown",
   "metadata": {},
   "source": [
    "<hr style=\"height:2px; border:none; color:#000; background-color:#000;\">"
   ]
  },
  {
   "cell_type": "markdown",
   "metadata": {},
   "source": [
    "### Creating a Map with Folium"
   ]
  },
  {
   "cell_type": "code",
   "execution_count": 54,
   "metadata": {},
   "outputs": [],
   "source": [
    "import folium"
   ]
  },
  {
   "cell_type": "code",
   "execution_count": 55,
   "metadata": {},
   "outputs": [],
   "source": [
    "usmap = folium.Map(location=[39.8283, -98.5795],  # center of U.S.\n",
    "                   tiles='Stamen Terrain',\n",
    "                   zoom_start=4, detect_retina=True)"
   ]
  },
  {
   "cell_type": "markdown",
   "metadata": {},
   "source": [
    "* **`location`** &mdash; sequence containing **latitude** and **longitude** of **map center point**\n",
    "    * [Geographic center of the continental United States](http://bit.ly/CenterOfTheUS) \n",
    "* **`zoom_start`** &mdash; **map’s initial zoom level**\n",
    "* **`detect_retina`** &mdash; enables folium to use **higher-resolution maps**"
   ]
  },
  {
   "cell_type": "markdown",
   "metadata": {},
   "source": [
    "<hr style=\"height:2px; border:none; color:#000; background-color:#000;\">"
   ]
  },
  {
   "cell_type": "markdown",
   "metadata": {},
   "source": [
    "### Creating Folium `Popup` Objects for the Tweet Locations\n",
    "* **`itertuples`** creates **tuples** from **each row** of the **`DataFrame`**\n",
    "* Each **tuple** contains a **property** for each **`DataFrame` column**"
   ]
  },
  {
   "cell_type": "code",
   "execution_count": 56,
   "metadata": {},
   "outputs": [],
   "source": [
    "for t in df.itertuples():\n",
    "    text = ': '.join([t.screen_name, t.text])\n",
    "    popup = folium.Popup(text)\n",
    "    marker = folium.Marker((t.latitude, t.longitude), \n",
    "                           popup=popup)\n",
    "    marker.add_to(usmap)"
   ]
  },
  {
   "cell_type": "markdown",
   "metadata": {},
   "source": [
    "<hr style=\"height:2px; border:none; color:#000; background-color:#000;\">"
   ]
  },
  {
   "cell_type": "markdown",
   "metadata": {},
   "source": [
    "### Saving the Map with Map’s **`save`** Method "
   ]
  },
  {
   "cell_type": "code",
   "execution_count": 57,
   "metadata": {},
   "outputs": [],
   "source": [
    "usmap.save('tweet_map.html')"
   ]
  },
  {
   "cell_type": "markdown",
   "metadata": {},
   "source": [
    "<hr style=\"height:2px; border:none; color:#000; background-color:#000;\">"
   ]
  },
  {
   "cell_type": "markdown",
   "metadata": {},
   "source": [
    "### Displaying the Map in Jupyter \n",
    "* The resulting map follows. \n",
    "<a href=\"./tweet_map.html\">Interactive tweet map</a>"
   ]
  },
  {
   "cell_type": "code",
   "execution_count": 58,
   "metadata": {},
   "outputs": [
    {
     "data": {
      "text/html": [
       "<div style=\"width:100%;\"><div style=\"position:relative;width:100%;height:0;padding-bottom:60%;\"><iframe src=\"data:text/html;charset=utf-8;base64,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\" style=\"position:absolute;width:100%;height:100%;left:0;top:0;border:none !important;\" allowfullscreen webkitallowfullscreen mozallowfullscreen></iframe></div></div>"
      ],
      "text/plain": [
       "<folium.folium.Map at 0x7fdda96a9fd0>"
      ]
     },
     "execution_count": 58,
     "metadata": {},
     "output_type": "execute_result"
    }
   ],
   "source": [
    "usmap"
   ]
  },
  {
   "cell_type": "markdown",
   "metadata": {},
   "source": [
    "<!--\n",
    "#from IPython.display import IFrame\n",
    "#IFrame(src=\"./tweet_map.html\", width=800, height=450)\n",
    "-->"
   ]
  },
  {
   "cell_type": "markdown",
   "metadata": {},
   "source": [
    "<hr style=\"height:2px; border:none; color:#000; background-color:#000;\">"
   ]
  },
  {
   "cell_type": "markdown",
   "metadata": {},
   "source": [
    "## Utility Functions\n",
    "See the following for details: \n",
    "* [**Python Fundamentals LiveLessons video**](https://learning.oreilly.com/videos/python-fundamentals/9780135917411/9780135917411-PFLL_Lesson12_26) \n",
    "* [Sections 12.5.2-12.5.3 in **Python for Programmers**](https://learning.oreilly.com/library/view/python-for-programmers/9780135231364/ch12.xhtml#ch12lev2sec10)\n",
    "\n",
    "### `get_tweet_content` Utility Function (2 of 2)\n",
    "```python\n",
    "def get_tweet_content(tweet, location=False):\n",
    "    \"\"\"Return dictionary with data from tweet (a Status object).\"\"\"\n",
    "    fields = {}\n",
    "    fields['screen_name'] = tweet.user.screen_name\n",
    "\n",
    "    # get the tweet's text\n",
    "    try:  \n",
    "        fields['text'] = tweet.extended_tweet[\"full_text\"]\n",
    "    except: \n",
    "        fields['text'] = tweet.text\n",
    "\n",
    "    if location:\n",
    "        fields['location'] = tweet.user.location\n",
    "\n",
    "    return fields\n",
    "\n",
    "```"
   ]
  },
  {
   "cell_type": "markdown",
   "metadata": {},
   "source": [
    "<hr style=\"height:2px; border:none; color:#000; background-color:#000;\">"
   ]
  },
  {
   "cell_type": "markdown",
   "metadata": {},
   "source": [
    "### `get_geocodes` Utility Function (1 of 3)\n",
    "* Receives a **list of dictionaries** containing tweets and **geocodes their locations**\n",
    "* If **geocoding** is **successful** for a tweet, adds the **latitude** and **longitude** to the tweet’s **dictionary in `tweet_list`**\n",
    "* Requires class **`OpenMapQuest`** from the **geopy module**"
   ]
  },
  {
   "cell_type": "markdown",
   "metadata": {},
   "source": [
    "<hr style=\"height:2px; border:none; color:#000; background-color:#000;\">"
   ]
  },
  {
   "cell_type": "markdown",
   "metadata": {},
   "source": [
    "### `get_geocodes` Utility Function (2 of 3)\n",
    "```python\n",
    "from geopy import OpenMapQuest\n",
    "```\n",
    "\n",
    "```python\n",
    "def get_geocodes(tweet_list):\n",
    "    \"\"\"Get the latitude and longitude for each tweet's location.\n",
    "    Returns the number of tweets with invalid location data.\"\"\"\n",
    "    print('Getting coordinates for tweet locations...')\n",
    "    geo = OpenMapQuest(api_key=keys.mapquest_key)  # geocoder\n",
    "    bad_locations = 0  \n",
    "\n",
    "    for tweet in tweet_list:\n",
    "        processed = False\n",
    "        delay = .1  # used if OpenMapQuest times out to delay next call\n",
    "        while not processed:\n",
    "            try:  # get coordinates for tweet['location']\n",
    "                geo_location = geo.geocode(tweet['location'])\n",
    "                processed = True\n",
    "            except:  # timed out, so wait before trying again\n",
    "                print('OpenMapQuest service timed out. Waiting.')\n",
    "                time.sleep(delay)\n",
    "                delay += .1\n",
    "\n",
    "        if geo_location:  \n",
    "            tweet['latitude'] = geo_location.latitude\n",
    "            tweet['longitude'] = geo_location.longitude\n",
    "        else:  \n",
    "            bad_locations += 1  # tweet['location'] was invalid\n",
    "    \n",
    "    print('Done geocoding')\n",
    "    return bad_locations\n",
    "\n",
    "```"
   ]
  },
  {
   "cell_type": "markdown",
   "metadata": {},
   "source": [
    "<hr style=\"height:2px; border:none; color:#000; background-color:#000;\">"
   ]
  },
  {
   "cell_type": "markdown",
   "metadata": {},
   "source": [
    "## 12.15.3 Class `LocationListener`\n",
    "```python\n",
    "# locationlistener.py\n",
    "\"\"\"Receives tweets matching a search string and stores a list of\n",
    "dictionaries containing each tweet's screen_name/text/location.\"\"\"\n",
    "import tweepy\n",
    "from tweetutilities import get_tweet_content\n",
    "from IPython.display import clear_output\n",
    "\n",
    "class LocationListener(tweepy.StreamListener):\n",
    "    \"\"\"Handles incoming Tweet stream to get location data.\"\"\"\n",
    "```"
   ]
  },
  {
   "cell_type": "markdown",
   "metadata": {},
   "source": [
    "```python\n",
    "    def __init__(self, api, counts_dict, tweets_list, topic, limit=10):\n",
    "        \"\"\"Configure the LocationListener.\"\"\"\n",
    "        self.tweets_list = tweets_list\n",
    "        self.counts_dict = counts_dict\n",
    "        self.topic = topic\n",
    "        self.TWEET_LIMIT = limit\n",
    "        super().__init__(api)  # call superclass's init\n",
    "```"
   ]
  },
  {
   "cell_type": "markdown",
   "metadata": {},
   "source": [
    "```python\n",
    "    def on_status(self, status):\n",
    "        \"\"\"Called when Twitter pushes a new tweet to you.\"\"\"\n",
    "        # get each tweet's screen_name, text and location\n",
    "        tweet_data = get_tweet_content(status, location=True)  \n",
    "\n",
    "        # ignore retweets and tweets that do not contain the topic\n",
    "        if (tweet_data['text'].startswith('RT') or\n",
    "            self.topic.lower() not in tweet_data['text'].lower()):\n",
    "            return\n",
    "\n",
    "        self.counts_dict['total_tweets'] += 1  # original tweet\n",
    "\n",
    "        # ignore tweets with no location \n",
    "        if not status.user.location:  \n",
    "            return\n",
    "\n",
    "        self.counts_dict['locations'] += 1  # tweet with location\n",
    "        self.tweets_list.append(tweet_data)  # store the tweet\n",
    "        clear_output()\n",
    "        print(f'{status.user.screen_name}: {tweet_data[\"text\"]}\\n')\n",
    "        \n",
    "        # if TWEET_LIMIT is reached, return False to terminate streaming\n",
    "        return self.counts_dict['locations'] < self.TWEET_LIMIT\n",
    "\n",
    "```"
   ]
  },
  {
   "cell_type": "markdown",
   "metadata": {},
   "source": [
    "<hr style=\"height:2px; border:none; color:#000; background-color:#000;\">"
   ]
  },
  {
   "cell_type": "markdown",
   "metadata": {},
   "source": [
    "# More Info \n",
    "* See **Lesson 12** in [**Python Fundamentals LiveLessons** here on Safari Online Learning](https://learning.oreilly.com/videos/python-fundamentals/9780135917411)\n",
    "* See **Chapter 12** in [**Python for Programmers** on Safari Online Learning](https://learning.oreilly.com/library/view/python-for-programmers/9780135231364/)\n",
    "* See Chapter 13 in **Intro Python for Computer Science and Data Science** on [VitalSource.com](https://www.vitalsource.com/products/intro-to-python-for-computer-science-and-data-paul-j-deitel-harvey-deitel-v9780135404812) or [RedShelf.com](https://redshelf.com/book/1157786/intro-to-python-for-computer-science-and-data-science-1157786-9780135404812-paul-j-deitel-harvey-deitel)\n",
    "* Interested in a print book? Check out:\n",
    "\n",
    "| Python for Programmers | Intro to Python for Computer<br>Science and Data Science\n",
    "| :------ | :------\n",
    "| <a href=\"https://amzn.to/2VvdnxE\"><img alt=\"Python for Programmers cover\" src=\"../images/PyFPCover.png\" width=\"150\" border=\"1\"/></a> | <a href=\"https://amzn.to/2LiDCmt\"><img alt=\"Intro to Python for Computer Science and Data Science: Learning to Program with AI, Big Data and the Cloud\" src=\"../images/IntroToPythonCover.png\" width=\"159\" border=\"1\"></a>\n",
    "\n",
    ">Please **do not** purchase both books&mdash;_Python for Programmers_ is a subset of _Intro to Python for Computer Science and Data Science_"
   ]
  },
  {
   "cell_type": "markdown",
   "metadata": {},
   "source": [
    "&copy; 2019 by Pearson Education, Inc. All Rights Reserved. The content in this notebook is based on the book [**Python for Programmers**](https://amzn.to/2VvdnxE)."
   ]
  }
 ],
 "metadata": {
  "kernelspec": {
   "display_name": "Python 3",
   "language": "python",
   "name": "python3"
  },
  "language_info": {
   "codemirror_mode": {
    "name": "ipython",
    "version": 3
   },
   "file_extension": ".py",
   "mimetype": "text/x-python",
   "name": "python",
   "nbconvert_exporter": "python",
   "pygments_lexer": "ipython3",
   "version": "3.7.3"
  }
 },
 "nbformat": 4,
 "nbformat_minor": 4
}
